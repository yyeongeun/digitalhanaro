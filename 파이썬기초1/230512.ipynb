{
  "nbformat": 4,
  "nbformat_minor": 0,
  "metadata": {
    "colab": {
      "provenance": [],
      "toc_visible": true,
      "authorship_tag": "ABX9TyPlJLLP/q/JwDSPzAxTJZCE",
      "include_colab_link": true
    },
    "kernelspec": {
      "name": "python3",
      "display_name": "Python 3"
    },
    "language_info": {
      "name": "python"
    }
  },
  "cells": [
    {
      "cell_type": "markdown",
      "metadata": {
        "id": "view-in-github",
        "colab_type": "text"
      },
      "source": [
        "<a href=\"https://colab.research.google.com/github/yyeongeun/digitalhanaro/blob/main/%ED%8C%8C%EC%9D%B4%EC%8D%AC%EA%B8%B0%EC%B4%881/230512.ipynb\" target=\"_parent\"><img src=\"https://colab.research.google.com/assets/colab-badge.svg\" alt=\"Open In Colab\"/></a>"
      ]
    },
    {
      "cell_type": "markdown",
      "source": [
        "## 함수"
      ],
      "metadata": {
        "id": "K4Gni0BTUgmS"
      }
    },
    {
      "cell_type": "markdown",
      "source": [
        "### format"
      ],
      "metadata": {
        "id": "yfewfD5wUkLM"
      }
    },
    {
      "cell_type": "code",
      "source": [
        "# 숫자를 문자열로 변환하는 함수\n",
        "a = \"{}\".format(23)\n",
        "print(a)\n",
        "print(type(a))"
      ],
      "metadata": {
        "colab": {
          "base_uri": "https://localhost:8080/"
        },
        "id": "9FmLKqDzU3Pv",
        "outputId": "6717e6da-fd54-4caa-daea-8ce6e96e736f"
      },
      "execution_count": null,
      "outputs": [
        {
          "output_type": "stream",
          "name": "stdout",
          "text": [
            "23\n",
            "<class 'str'>\n"
          ]
        }
      ]
    },
    {
      "cell_type": "code",
      "source": [
        "\"유퀴즈 상금 {} 만원\".format(100)"
      ],
      "metadata": {
        "colab": {
          "base_uri": "https://localhost:8080/",
          "height": 35
        },
        "id": "7akz12ATU8Rl",
        "outputId": "5f1a2b55-4c1c-4b2f-ed7b-c86ff2b102c8"
      },
      "execution_count": null,
      "outputs": [
        {
          "output_type": "execute_result",
          "data": {
            "text/plain": [
              "'유퀴즈 상금 100 만원'"
            ],
            "application/vnd.google.colaboratory.intrinsic+json": {
              "type": "string"
            }
          },
          "metadata": {},
          "execution_count": 3
        }
      ]
    },
    {
      "cell_type": "code",
      "source": [
        "\"{} {} {}\".format(1,2,3)"
      ],
      "metadata": {
        "colab": {
          "base_uri": "https://localhost:8080/",
          "height": 35
        },
        "id": "WD9kvRpZVLZp",
        "outputId": "dcc8df03-d6f2-4b50-a1e6-e1d1fb5051ff"
      },
      "execution_count": null,
      "outputs": [
        {
          "output_type": "execute_result",
          "data": {
            "text/plain": [
              "'1 2 3'"
            ],
            "application/vnd.google.colaboratory.intrinsic+json": {
              "type": "string"
            }
          },
          "metadata": {},
          "execution_count": 4
        }
      ]
    },
    {
      "cell_type": "code",
      "source": [
        "\"{} {} {}\".format(1,2) #IndexError : 중괄호 개수 > 숫자 개수"
      ],
      "metadata": {
        "colab": {
          "base_uri": "https://localhost:8080/",
          "height": 172
        },
        "id": "lDOfeM1WVL4V",
        "outputId": "0b258155-7cdd-432a-d626-1ffb74353043"
      },
      "execution_count": null,
      "outputs": [
        {
          "output_type": "error",
          "ename": "IndexError",
          "evalue": "ignored",
          "traceback": [
            "\u001b[0;31m---------------------------------------------------------------------------\u001b[0m",
            "\u001b[0;31mIndexError\u001b[0m                                Traceback (most recent call last)",
            "\u001b[0;32m<ipython-input-6-1f794f3e0e19>\u001b[0m in \u001b[0;36m<cell line: 1>\u001b[0;34m()\u001b[0m\n\u001b[0;32m----> 1\u001b[0;31m \u001b[0;34m\"{} {} {}\"\u001b[0m\u001b[0;34m.\u001b[0m\u001b[0mformat\u001b[0m\u001b[0;34m(\u001b[0m\u001b[0;36m1\u001b[0m\u001b[0;34m,\u001b[0m\u001b[0;36m2\u001b[0m\u001b[0;34m)\u001b[0m \u001b[0;31m#IndexError 중괄호 개수 > 숫가 개수\u001b[0m\u001b[0;34m\u001b[0m\u001b[0;34m\u001b[0m\u001b[0m\n\u001b[0m",
            "\u001b[0;31mIndexError\u001b[0m: Replacement index 2 out of range for positional args tuple"
          ]
        }
      ]
    },
    {
      "cell_type": "code",
      "source": [
        "\"{} {} {}\".format(1,2,3,4) # 중괄호 개수 < 숫자 개수 Error 발생X"
      ],
      "metadata": {
        "colab": {
          "base_uri": "https://localhost:8080/",
          "height": 35
        },
        "id": "q8wQ00l4VqU7",
        "outputId": "7ff167ca-f8ff-498a-839c-4990312e4c35"
      },
      "execution_count": null,
      "outputs": [
        {
          "output_type": "execute_result",
          "data": {
            "text/plain": [
              "'1 2 3'"
            ],
            "application/vnd.google.colaboratory.intrinsic+json": {
              "type": "string"
            }
          },
          "metadata": {},
          "execution_count": 7
        }
      ]
    },
    {
      "cell_type": "code",
      "source": [
        "\"{}\".format(2.3) #실수도 문자열로 변환 가능"
      ],
      "metadata": {
        "colab": {
          "base_uri": "https://localhost:8080/",
          "height": 35
        },
        "id": "dsWKMpIHVvLK",
        "outputId": "1cdc7420-568f-4948-9c50-fe569be155ef"
      },
      "execution_count": null,
      "outputs": [
        {
          "output_type": "execute_result",
          "data": {
            "text/plain": [
              "'2.3'"
            ],
            "application/vnd.google.colaboratory.intrinsic+json": {
              "type": "string"
            }
          },
          "metadata": {},
          "execution_count": 8
        }
      ]
    },
    {
      "cell_type": "code",
      "source": [
        "\"{} {} {}\".format(1,\"안녕\",True) #숫자, 문자열, 불"
      ],
      "metadata": {
        "colab": {
          "base_uri": "https://localhost:8080/",
          "height": 35
        },
        "id": "sZqxPzf2VvfW",
        "outputId": "e6f4b60f-277b-4ff3-cab6-4c83b6731258"
      },
      "execution_count": null,
      "outputs": [
        {
          "output_type": "execute_result",
          "data": {
            "text/plain": [
              "'1 안녕 True'"
            ],
            "application/vnd.google.colaboratory.intrinsic+json": {
              "type": "string"
            }
          },
          "metadata": {},
          "execution_count": 9
        }
      ]
    },
    {
      "cell_type": "markdown",
      "source": [
        "#### 정수형\n",
        "정수형 숫자 -> 문자열 변환 {:d}.format()"
      ],
      "metadata": {
        "id": "F0lYbwH1Ud_R"
      }
    },
    {
      "cell_type": "code",
      "source": [
        "a = \"{:d}\".format(23) #정수\n",
        "b = \"{:5d}\".format(23) #5자리, 빈 자리는 빈칸으로 채움\n",
        "c = \"{:05d}\".format(23) #5자리,빈 자리는 0으로 채움\n",
        "d = \"{:05d}\".format(-23) #음수기호 = 한자리 차지한다.\n",
        "print(a,b,c,d)"
      ],
      "metadata": {
        "colab": {
          "base_uri": "https://localhost:8080/"
        },
        "id": "1CPq2cYtXLmp",
        "outputId": "cbd9cfed-51a7-413a-ad3c-ea905f11de6a"
      },
      "execution_count": null,
      "outputs": [
        {
          "output_type": "stream",
          "name": "stdout",
          "text": [
            "23    23 00023 -0023\n"
          ]
        }
      ]
    },
    {
      "cell_type": "code",
      "source": [
        "#음수는 항상 마이너스 & 자리 1개 차지\n",
        "a = \"{:+d}\".format(23) # 양수기호 +\n",
        "b = \"{:+5d}\".format(-23) # 음수기호 -\n",
        "c = \"{: d}\".format(23) # 빈칸 = 양수기호 생략\n",
        "d = \"{: d}\".format(-23)\n",
        "print(a,b,c,d)"
      ],
      "metadata": {
        "colab": {
          "base_uri": "https://localhost:8080/"
        },
        "id": "_4QNj2SoY0wa",
        "outputId": "3b0ac432-7931-4a2b-babc-2ad375426861"
      },
      "execution_count": null,
      "outputs": [
        {
          "output_type": "stream",
          "name": "stdout",
          "text": [
            "+23   -23  23 -23\n"
          ]
        }
      ]
    },
    {
      "cell_type": "code",
      "source": [
        "#자리수와 기호의 순서\n",
        "a = \"{:+5d}\".format(23) #5자리 + 기호\n",
        "b = \"{:+5d}\".format(-23)\n",
        "c = \"{:=+5d}\".format(23) #기호 + 5자리\n",
        "d = \"{:=+5d}\".format(-23)\n",
        "e = \"{:=+05d}\".format(23) #기호 + 5자리 + 남아있는 자리 0으로 채움\n",
        "f = \"{:=+05d}\".format(-23)\n",
        "print(a);print(b);print(c);print(d);print(e);print(f)"
      ],
      "metadata": {
        "colab": {
          "base_uri": "https://localhost:8080/"
        },
        "id": "zia8hYuBXMOj",
        "outputId": "0151786f-68b1-4eff-87dc-40cc46ef640d"
      },
      "execution_count": null,
      "outputs": [
        {
          "output_type": "stream",
          "name": "stdout",
          "text": [
            "  +23\n",
            "  -23\n",
            "+  23\n",
            "-  23\n",
            "+0023\n",
            "-0023\n"
          ]
        }
      ]
    },
    {
      "cell_type": "markdown",
      "source": [
        "#### 실수형\n",
        "실수형 숫자 -> 문자열 변환 {:f}.format()"
      ],
      "metadata": {
        "id": "4oyhB6uQhefz"
      }
    },
    {
      "cell_type": "code",
      "source": [
        "a = \"{:f}\".format(23.45) #실수 = 기본 소숫점 6자리까지 표현\n",
        "b = \"{:15f}\".format(-23.45) #15자리\n",
        "c = \"{:+15f}\".format(23.45) #15자리, +(맨앞에), 빈자리 빈칸\n",
        "d = \"{:+015f}\".format(-23.45) #15자리, -(맨앞에), 빈자리 0으로 채움\n",
        "print(a);print(b);print(c);print(d)"
      ],
      "metadata": {
        "colab": {
          "base_uri": "https://localhost:8080/"
        },
        "id": "xF7xBKmIfhrz",
        "outputId": "15dbb5b5-e1e5-4184-b2b1-f1b17dd719bc"
      },
      "execution_count": null,
      "outputs": [
        {
          "output_type": "stream",
          "name": "stdout",
          "text": [
            "23.450000\n",
            "     -23.450000\n",
            "     +23.450000\n",
            "-0000023.450000\n"
          ]
        }
      ]
    },
    {
      "cell_type": "code",
      "source": [
        "#소숫점 자리수 편집\n",
        "#5보다 크면 반올림\n",
        "a = \"{:15.3f}\".format(23.456)\n",
        "b = \"{:15.2f}\".format(23.456)\n",
        "c = \"{:15.1f}\".format(23.456)\n",
        "d = \"{:15.1f}\".format(23.45) #5라서 반올림X\n",
        "e = \"{:15.1f}\".format(23.46)\n",
        "print(a);print(b);print(c);print(d);print(e)"
      ],
      "metadata": {
        "colab": {
          "base_uri": "https://localhost:8080/"
        },
        "id": "6JhBRdx5ii48",
        "outputId": "93e28f89-cb56-4f9e-8f12-abee07e0a9bb"
      },
      "execution_count": null,
      "outputs": [
        {
          "output_type": "stream",
          "name": "stdout",
          "text": [
            "         23.456\n",
            "          23.46\n",
            "           23.5\n",
            "           23.4\n",
            "           23.5\n"
          ]
        }
      ]
    },
    {
      "cell_type": "code",
      "source": [
        "\"{:15.0f}\".format(2.5) #2와 3 사이의 정가운데 값이라면, 더 가까운 값을 짝수로 생각"
      ],
      "metadata": {
        "colab": {
          "base_uri": "https://localhost:8080/",
          "height": 35
        },
        "id": "CDZLM8EEIFb2",
        "outputId": "6dc54f1f-ce65-4bf0-ca9d-fb4082ae9757"
      },
      "execution_count": null,
      "outputs": [
        {
          "output_type": "execute_result",
          "data": {
            "text/plain": [
              "'              2'"
            ],
            "application/vnd.google.colaboratory.intrinsic+json": {
              "type": "string"
            }
          },
          "metadata": {},
          "execution_count": 73
        }
      ]
    },
    {
      "cell_type": "code",
      "source": [
        "\"{:15.0f}\".format(3.5) #3과 4 사이의 정가운데 값이라면, 더 가까운 값을 짝수로 생각"
      ],
      "metadata": {
        "colab": {
          "base_uri": "https://localhost:8080/",
          "height": 35
        },
        "id": "9ZI6miuwIRy-",
        "outputId": "265cdd75-b817-4299-b032-265950cd4f74"
      },
      "execution_count": null,
      "outputs": [
        {
          "output_type": "execute_result",
          "data": {
            "text/plain": [
              "'              4'"
            ],
            "application/vnd.google.colaboratory.intrinsic+json": {
              "type": "string"
            }
          },
          "metadata": {},
          "execution_count": 76
        }
      ]
    },
    {
      "cell_type": "code",
      "source": [
        "\"{:15.0f}\".format(4.5) #4과 5 사이의 정가운데 값이라면, 더 가까운 값을 짝수로 생각"
      ],
      "metadata": {
        "colab": {
          "base_uri": "https://localhost:8080/",
          "height": 35
        },
        "id": "ALc2SOKrJFu-",
        "outputId": "d677be12-0043-405b-acf7-1ec98ff71be6"
      },
      "execution_count": null,
      "outputs": [
        {
          "output_type": "execute_result",
          "data": {
            "text/plain": [
              "'              4'"
            ],
            "application/vnd.google.colaboratory.intrinsic+json": {
              "type": "string"
            }
          },
          "metadata": {},
          "execution_count": 77
        }
      ]
    },
    {
      "cell_type": "markdown",
      "source": [
        "#### 의미가 없는 소수점 제거\n",
        "{:g}.format()"
      ],
      "metadata": {
        "id": "1Gc9WQWRk7Cu"
      }
    },
    {
      "cell_type": "code",
      "source": [
        "a = \"{:g}\".format(23.450)\n",
        "b = \"{:g}\".format(23.40)\n",
        "c = \"{:g}\".format(23.0)\n",
        "print(a);print(b);print(c)"
      ],
      "metadata": {
        "colab": {
          "base_uri": "https://localhost:8080/"
        },
        "id": "EeUBYBNviTRy",
        "outputId": "f755d156-0736-4727-9c95-bf6babcdc45a"
      },
      "execution_count": null,
      "outputs": [
        {
          "output_type": "stream",
          "name": "stdout",
          "text": [
            "23.45\n",
            "23.4\n",
            "23\n"
          ]
        }
      ]
    },
    {
      "cell_type": "markdown",
      "source": [
        "### f문자열(참고만)"
      ],
      "metadata": {
        "id": "pw14MJ0dlcpw"
      }
    },
    {
      "cell_type": "code",
      "source": [
        "\"{}\".format(23)"
      ],
      "metadata": {
        "colab": {
          "base_uri": "https://localhost:8080/",
          "height": 35
        },
        "id": "9ZxwhNECh4ed",
        "outputId": "0bd3bdb8-0a47-4dfa-e201-008e51147ec0"
      },
      "execution_count": null,
      "outputs": [
        {
          "output_type": "execute_result",
          "data": {
            "text/plain": [
              "'23'"
            ],
            "application/vnd.google.colaboratory.intrinsic+json": {
              "type": "string"
            }
          },
          "metadata": {},
          "execution_count": 28
        }
      ]
    },
    {
      "cell_type": "code",
      "source": [
        "f\"{23}\""
      ],
      "metadata": {
        "colab": {
          "base_uri": "https://localhost:8080/",
          "height": 35
        },
        "id": "q35i1yELfRJb",
        "outputId": "95144ef5-25e3-4c30-aab0-b70cae6819e9"
      },
      "execution_count": null,
      "outputs": [
        {
          "output_type": "execute_result",
          "data": {
            "text/plain": [
              "'23'"
            ],
            "application/vnd.google.colaboratory.intrinsic+json": {
              "type": "string"
            }
          },
          "metadata": {},
          "execution_count": 29
        }
      ]
    },
    {
      "cell_type": "code",
      "source": [
        "\"{}\".format(2+3)"
      ],
      "metadata": {
        "colab": {
          "base_uri": "https://localhost:8080/",
          "height": 35
        },
        "id": "f0yu61gknLxF",
        "outputId": "97820af8-0d7a-42a9-a9b2-278c5c889787"
      },
      "execution_count": null,
      "outputs": [
        {
          "output_type": "execute_result",
          "data": {
            "text/plain": [
              "'5'"
            ],
            "application/vnd.google.colaboratory.intrinsic+json": {
              "type": "string"
            }
          },
          "metadata": {},
          "execution_count": 30
        }
      ]
    },
    {
      "cell_type": "code",
      "source": [
        "f\"{2+3}\""
      ],
      "metadata": {
        "colab": {
          "base_uri": "https://localhost:8080/",
          "height": 35
        },
        "id": "Qb8SIiUKnOFu",
        "outputId": "6caae5f4-a4ca-4c17-92cc-dbb372c91b94"
      },
      "execution_count": null,
      "outputs": [
        {
          "output_type": "execute_result",
          "data": {
            "text/plain": [
              "'5'"
            ],
            "application/vnd.google.colaboratory.intrinsic+json": {
              "type": "string"
            }
          },
          "metadata": {},
          "execution_count": 31
        }
      ]
    },
    {
      "cell_type": "code",
      "source": [
        "# format() 함수 사용하는 것이 더 좋은 경우\n",
        "# 1) 문자열이 많을 때\n",
        "mc = \"유재석\"\n",
        "reward = 100\n",
        "\n",
        "\"\"\"\\\n",
        "유퀴즈 프로그램은 다양한 사람을 만나서 이야기하는 프로이다. \\\n",
        "엠씨는 {}이고, 퀴즈를 맞추면 상금 {} 만원을 준다.\\\n",
        "\"\"\".format(mc,reward)"
      ],
      "metadata": {
        "colab": {
          "base_uri": "https://localhost:8080/",
          "height": 35
        },
        "id": "nEk2oI5vnP03",
        "outputId": "7eb184f3-4616-4c07-be17-36686338da19"
      },
      "execution_count": null,
      "outputs": [
        {
          "output_type": "execute_result",
          "data": {
            "text/plain": [
              "'유퀴즈 프로그램은 다양한 사람을 만나서 이야기하는 프로이다. 엠씨는 유재석이고, 퀴즈를 맞추면 상금 100 만원을 준다.'"
            ],
            "application/vnd.google.colaboratory.intrinsic+json": {
              "type": "string"
            }
          },
          "metadata": {},
          "execution_count": 40
        }
      ]
    },
    {
      "cell_type": "code",
      "source": [
        "mc = \"유재석\"\n",
        "reward = 100\n",
        "\n",
        "f\"\"\"\\\n",
        "유퀴즈 프로그램은 다양한 사람을 만나서 이야기하는 프로이다. \\\n",
        "엠씨는 {mc}이고, 퀴즈를 맞추면 상금 {reward} 만원을 준다.\\\n",
        "\"\"\""
      ],
      "metadata": {
        "colab": {
          "base_uri": "https://localhost:8080/",
          "height": 35
        },
        "id": "5OqmT3QsoBPV",
        "outputId": "52bc590e-478c-4e98-b752-a1f568ce9aea"
      },
      "execution_count": null,
      "outputs": [
        {
          "output_type": "execute_result",
          "data": {
            "text/plain": [
              "'유퀴즈 프로그램은 다양한 사람을 만나서 이야기하는 프로이다. 엠씨는 유재석이고, 퀴즈를 맞추면 상금 100 만원을 준다.'"
            ],
            "application/vnd.google.colaboratory.intrinsic+json": {
              "type": "string"
            }
          },
          "metadata": {},
          "execution_count": 41
        }
      ]
    },
    {
      "cell_type": "code",
      "source": [
        "# 2) 여러 값을 리스트 형태로 사용할 경우\n",
        "# format은 전개연산자 사용가능\n",
        "data = [\"강백호\",17,\"M\",\"난 천재니까\"]\n",
        "\"\"\"\\\n",
        "이름 : {}, \\\n",
        "나이 : {}, \\\n",
        "성별 : {}, \\\n",
        "좌우명 : {} \\\n",
        "\"\"\".format(*data) #전개연산자 - 리스트 원소 자동으로 넣어줌"
      ],
      "metadata": {
        "colab": {
          "base_uri": "https://localhost:8080/",
          "height": 35
        },
        "id": "_LV0CQVEn4Ar",
        "outputId": "272cfbf3-467f-4810-c533-2948b33a2d45"
      },
      "execution_count": null,
      "outputs": [
        {
          "output_type": "execute_result",
          "data": {
            "text/plain": [
              "'이름 : 강백호, 나이 : 17, 성별 : M, 좌우명 : 난 천재니까 '"
            ],
            "application/vnd.google.colaboratory.intrinsic+json": {
              "type": "string"
            }
          },
          "metadata": {},
          "execution_count": 44
        }
      ]
    },
    {
      "cell_type": "code",
      "source": [
        "data = [\"강백호\",17,\"M\",\"난 천재니까\"]\n",
        "f\"\"\"\\\n",
        "이름 : {data[0]}, \\\n",
        "나이 : {data[1]}, \\\n",
        "성별 : {data[2]}, \\\n",
        "좌우명 : {data[3]} \\\n",
        "\"\"\""
      ],
      "metadata": {
        "colab": {
          "base_uri": "https://localhost:8080/",
          "height": 35
        },
        "id": "XnLSuEg7t7gP",
        "outputId": "ba6cae5d-9657-4d64-8f30-f8cb292cd94a"
      },
      "execution_count": null,
      "outputs": [
        {
          "output_type": "execute_result",
          "data": {
            "text/plain": [
              "'이름 : 강백호, 나이 : 17, 성별 : M, 좌우명 : 난 천재니까 '"
            ],
            "application/vnd.google.colaboratory.intrinsic+json": {
              "type": "string"
            }
          },
          "metadata": {},
          "execution_count": 46
        }
      ]
    },
    {
      "cell_type": "markdown",
      "source": [
        "### 대소문자 변경\n",
        "문자열.upper(), 문자열.lower()"
      ],
      "metadata": {
        "id": "8UwnxTCHvsIv"
      }
    },
    {
      "cell_type": "code",
      "source": [
        "string = \"hello\"\n",
        "string.upper() #대문자변경"
      ],
      "metadata": {
        "colab": {
          "base_uri": "https://localhost:8080/",
          "height": 35
        },
        "id": "0E4aEO9UuPZB",
        "outputId": "ec2ae5ad-3799-4404-d6b5-258e951c4ebe"
      },
      "execution_count": null,
      "outputs": [
        {
          "output_type": "execute_result",
          "data": {
            "text/plain": [
              "'HELLO'"
            ],
            "application/vnd.google.colaboratory.intrinsic+json": {
              "type": "string"
            }
          },
          "metadata": {},
          "execution_count": 50
        }
      ]
    },
    {
      "cell_type": "code",
      "source": [
        "string = \"HELLO\"\n",
        "string.lower() #소문자변경"
      ],
      "metadata": {
        "colab": {
          "base_uri": "https://localhost:8080/",
          "height": 35
        },
        "id": "ovYQ3os9wHv9",
        "outputId": "f0950115-2eb8-44be-9222-61b331dcc5d7"
      },
      "execution_count": null,
      "outputs": [
        {
          "output_type": "execute_result",
          "data": {
            "text/plain": [
              "'hello'"
            ],
            "application/vnd.google.colaboratory.intrinsic+json": {
              "type": "string"
            }
          },
          "metadata": {},
          "execution_count": 51
        }
      ]
    },
    {
      "cell_type": "markdown",
      "source": [
        "### 문자열 공백 제거 함수"
      ],
      "metadata": {
        "id": "Z4b4UHBCwaYc"
      }
    },
    {
      "cell_type": "code",
      "source": [
        "string = \"      hello     \"\n",
        "string.strip() # 앞뒤 공백 제거"
      ],
      "metadata": {
        "colab": {
          "base_uri": "https://localhost:8080/",
          "height": 35
        },
        "id": "xjqzZqGwwNdJ",
        "outputId": "3bbe844b-04ce-47e3-8274-f6633388f47f"
      },
      "execution_count": null,
      "outputs": [
        {
          "output_type": "execute_result",
          "data": {
            "text/plain": [
              "'hello'"
            ],
            "application/vnd.google.colaboratory.intrinsic+json": {
              "type": "string"
            }
          },
          "metadata": {},
          "execution_count": 55
        }
      ]
    },
    {
      "cell_type": "code",
      "source": [
        "string = \"      hello     \"\n",
        "string.rstrip() # 뒤 공백 제거"
      ],
      "metadata": {
        "colab": {
          "base_uri": "https://localhost:8080/",
          "height": 35
        },
        "id": "KscpAFVPuNMa",
        "outputId": "cb09e356-1421-43dd-b925-e9027c61998b"
      },
      "execution_count": null,
      "outputs": [
        {
          "output_type": "execute_result",
          "data": {
            "text/plain": [
              "'      hello'"
            ],
            "application/vnd.google.colaboratory.intrinsic+json": {
              "type": "string"
            }
          },
          "metadata": {},
          "execution_count": 56
        }
      ]
    },
    {
      "cell_type": "code",
      "source": [
        "string = \"      hello     \"\n",
        "string.lstrip() # 앞 공백 제거"
      ],
      "metadata": {
        "colab": {
          "base_uri": "https://localhost:8080/",
          "height": 35
        },
        "id": "rY4d-SW2t3v4",
        "outputId": "2591c7a2-6ae7-49b4-ed17-2df1d26d3c1b"
      },
      "execution_count": null,
      "outputs": [
        {
          "output_type": "execute_result",
          "data": {
            "text/plain": [
              "'hello     '"
            ],
            "application/vnd.google.colaboratory.intrinsic+json": {
              "type": "string"
            }
          },
          "metadata": {},
          "execution_count": 57
        }
      ]
    },
    {
      "cell_type": "markdown",
      "source": [
        "### 문자열 구성 확인"
      ],
      "metadata": {
        "id": "eUCLCjmPx1Vi"
      }
    },
    {
      "cell_type": "code",
      "source": [
        "s = \"slamdunk01\"\n",
        "s.isalnum() # 알파벳 또는 숫자 확인"
      ],
      "metadata": {
        "colab": {
          "base_uri": "https://localhost:8080/"
        },
        "id": "SroymxLMtfI8",
        "outputId": "639bd2f5-94ad-4726-f3da-4b00b8e860f8"
      },
      "execution_count": null,
      "outputs": [
        {
          "output_type": "execute_result",
          "data": {
            "text/plain": [
              "True"
            ]
          },
          "metadata": {},
          "execution_count": 59
        }
      ]
    },
    {
      "cell_type": "code",
      "source": [
        "s.isdigit() # 정수형 확인"
      ],
      "metadata": {
        "colab": {
          "base_uri": "https://localhost:8080/"
        },
        "id": "QJAuj3X8z-UK",
        "outputId": "7b198c07-555f-477e-baa2-6f39e6ffcf90"
      },
      "execution_count": null,
      "outputs": [
        {
          "output_type": "execute_result",
          "data": {
            "text/plain": [
              "False"
            ]
          },
          "metadata": {},
          "execution_count": 60
        }
      ]
    },
    {
      "cell_type": "markdown",
      "source": [
        "### 문자열 첫번째 위치 반환"
      ],
      "metadata": {
        "id": "Qj2gV65k08Xu"
      }
    },
    {
      "cell_type": "code",
      "source": [
        "# 좌 => 우\n",
        "s = \"slamdunk01\"\n",
        "s.find('dunk') #위치"
      ],
      "metadata": {
        "colab": {
          "base_uri": "https://localhost:8080/"
        },
        "id": "YlaZS_waz_v9",
        "outputId": "bf17985c-3d29-4aac-c020-8c6e349cc78a"
      },
      "execution_count": null,
      "outputs": [
        {
          "output_type": "execute_result",
          "data": {
            "text/plain": [
              "4"
            ]
          },
          "metadata": {},
          "execution_count": 64
        }
      ]
    },
    {
      "cell_type": "code",
      "source": [
        "s.find(\"0\")"
      ],
      "metadata": {
        "colab": {
          "base_uri": "https://localhost:8080/"
        },
        "id": "3oNqZBA41t3i",
        "outputId": "b1d65fbc-faf8-463b-9e14-29ddbf2ae2eb"
      },
      "execution_count": null,
      "outputs": [
        {
          "output_type": "execute_result",
          "data": {
            "text/plain": [
              "8"
            ]
          },
          "metadata": {},
          "execution_count": 67
        }
      ]
    },
    {
      "cell_type": "code",
      "source": [
        "# 우 => 좌\n",
        "s.rfind(\"0\")"
      ],
      "metadata": {
        "colab": {
          "base_uri": "https://localhost:8080/"
        },
        "id": "kns22joUz7pb",
        "outputId": "ec45cf4a-4289-4dc3-b1bd-366656fec310"
      },
      "execution_count": null,
      "outputs": [
        {
          "output_type": "execute_result",
          "data": {
            "text/plain": [
              "8"
            ]
          },
          "metadata": {},
          "execution_count": 66
        }
      ]
    },
    {
      "cell_type": "code",
      "source": [
        "s = \"slamsalm\"\n",
        "s.find(\"a\") #왼쪽에서 첫번째 a"
      ],
      "metadata": {
        "colab": {
          "base_uri": "https://localhost:8080/"
        },
        "id": "dZlNFbIi1v9c",
        "outputId": "ec5d8a61-b76d-4c36-cbee-6962606ed17e"
      },
      "execution_count": null,
      "outputs": [
        {
          "output_type": "execute_result",
          "data": {
            "text/plain": [
              "2"
            ]
          },
          "metadata": {},
          "execution_count": 71
        }
      ]
    },
    {
      "cell_type": "code",
      "source": [
        "s.rfind(\"a\") #왼쪽에서 첫번째 a"
      ],
      "metadata": {
        "colab": {
          "base_uri": "https://localhost:8080/"
        },
        "id": "Ru_NdQfF1lmc",
        "outputId": "13e74a7e-f4ac-4174-af29-27de6720b7e4"
      },
      "execution_count": null,
      "outputs": [
        {
          "output_type": "execute_result",
          "data": {
            "text/plain": [
              "5"
            ]
          },
          "metadata": {},
          "execution_count": 72
        }
      ]
    },
    {
      "cell_type": "markdown",
      "source": [
        "### in 연산자"
      ],
      "metadata": {
        "id": "NG9v3gzu2YVE"
      }
    },
    {
      "cell_type": "code",
      "source": [
        "print(\"안녕\" in \"안녕하세요\")"
      ],
      "metadata": {
        "colab": {
          "base_uri": "https://localhost:8080/"
        },
        "id": "tfmSmaaQ2Y9d",
        "outputId": "d39de0e8-0cea-47df-bdcb-5d57a3a64182"
      },
      "execution_count": null,
      "outputs": [
        {
          "output_type": "stream",
          "name": "stdout",
          "text": [
            "True\n"
          ]
        }
      ]
    },
    {
      "cell_type": "code",
      "source": [
        "print(\"잘자\" in \"안녕하세요\")"
      ],
      "metadata": {
        "colab": {
          "base_uri": "https://localhost:8080/"
        },
        "id": "Ij-Ns5f8KqGY",
        "outputId": "33e421fc-ee98-4bfa-896e-be7a1dbacdb8"
      },
      "execution_count": null,
      "outputs": [
        {
          "output_type": "stream",
          "name": "stdout",
          "text": [
            "False\n"
          ]
        }
      ]
    },
    {
      "cell_type": "markdown",
      "source": [
        "### split"
      ],
      "metadata": {
        "id": "Pkgqm5QFK_0H"
      }
    },
    {
      "cell_type": "code",
      "source": [
        "s = \"1 2 3 4 5\"\n",
        "s.split(\" \")"
      ],
      "metadata": {
        "colab": {
          "base_uri": "https://localhost:8080/"
        },
        "id": "B6r2SoVCK-Qm",
        "outputId": "1cea71d6-b7b3-460f-a369-6fdcce87c7b5"
      },
      "execution_count": null,
      "outputs": [
        {
          "output_type": "execute_result",
          "data": {
            "text/plain": [
              "['1', '2', '3', '4', '5']"
            ]
          },
          "metadata": {},
          "execution_count": 80
        }
      ]
    },
    {
      "cell_type": "code",
      "source": [
        "cp = \"010-1234-5678\"\n",
        "cp.split(\"-\")"
      ],
      "metadata": {
        "colab": {
          "base_uri": "https://localhost:8080/"
        },
        "id": "XB2rhYXDLD5n",
        "outputId": "ff816624-e0df-49bd-ba41-a1184d43325c"
      },
      "execution_count": null,
      "outputs": [
        {
          "output_type": "execute_result",
          "data": {
            "text/plain": [
              "['010', '1234', '5678']"
            ]
          },
          "metadata": {},
          "execution_count": 81
        }
      ]
    },
    {
      "cell_type": "markdown",
      "source": [
        "# bool"
      ],
      "metadata": {
        "id": "RywC9yixLeBR"
      }
    },
    {
      "cell_type": "code",
      "source": [
        "print(True)\n",
        "print(type(True))"
      ],
      "metadata": {
        "colab": {
          "base_uri": "https://localhost:8080/"
        },
        "id": "O1auBwwHLZV1",
        "outputId": "46c3bcfe-6259-44ab-94d6-54a175523c3a"
      },
      "execution_count": null,
      "outputs": [
        {
          "output_type": "stream",
          "name": "stdout",
          "text": [
            "True\n",
            "<class 'bool'>\n"
          ]
        }
      ]
    },
    {
      "cell_type": "code",
      "source": [
        "print(False)\n",
        "print(type(False))"
      ],
      "metadata": {
        "colab": {
          "base_uri": "https://localhost:8080/"
        },
        "id": "54IgcvI5QKdf",
        "outputId": "3b63e1fd-8ee7-4673-be84-4f350cf7ac7d"
      },
      "execution_count": null,
      "outputs": [
        {
          "output_type": "stream",
          "name": "stdout",
          "text": [
            "False\n",
            "<class 'bool'>\n"
          ]
        }
      ]
    },
    {
      "cell_type": "code",
      "source": [
        "# 숫자비교\n",
        "print(1 == 2)\n",
        "print(1 != 2)\n",
        "print(1 < 2)\n",
        "print(1 > 2)\n",
        "print(1 >= 2)\n",
        "print(1 >= 2)"
      ],
      "metadata": {
        "colab": {
          "base_uri": "https://localhost:8080/"
        },
        "id": "RmkI-K2TQMw4",
        "outputId": "abd0fa84-1b3d-49ea-cbd8-a180976ea4f4"
      },
      "execution_count": null,
      "outputs": [
        {
          "output_type": "stream",
          "name": "stdout",
          "text": [
            "False\n",
            "True\n",
            "True\n",
            "False\n",
            "False\n",
            "False\n"
          ]
        }
      ]
    },
    {
      "cell_type": "code",
      "source": [
        "# 문자비교\n",
        "print(\"가\" == \"나\")\n",
        "print(\"가\" != \"나\")\n",
        "print(\"가\" < \"나\")\n",
        "print(\"가\" > \"나\")"
      ],
      "metadata": {
        "colab": {
          "base_uri": "https://localhost:8080/"
        },
        "id": "pneOtdqPQ2F6",
        "outputId": "3ba4bcb6-f407-4ad1-c054-d23c8ff2cede"
      },
      "execution_count": null,
      "outputs": [
        {
          "output_type": "stream",
          "name": "stdout",
          "text": [
            "False\n",
            "True\n",
            "True\n",
            "False\n"
          ]
        }
      ]
    },
    {
      "cell_type": "code",
      "source": [
        "print(True)\n",
        "print(not True)"
      ],
      "metadata": {
        "colab": {
          "base_uri": "https://localhost:8080/"
        },
        "id": "wNrWfedkRAIy",
        "outputId": "ae4a69c5-db85-41d2-d53d-66e79a9cc51e"
      },
      "execution_count": null,
      "outputs": [
        {
          "output_type": "stream",
          "name": "stdout",
          "text": [
            "True\n",
            "False\n"
          ]
        }
      ]
    },
    {
      "cell_type": "code",
      "source": [
        "x = 5\n",
        "print(x<10)\n",
        "print(not x<10)"
      ],
      "metadata": {
        "colab": {
          "base_uri": "https://localhost:8080/"
        },
        "id": "bN1rOhKeSH3A",
        "outputId": "1bfab737-def6-4386-ea89-52299f771d96"
      },
      "execution_count": null,
      "outputs": [
        {
          "output_type": "stream",
          "name": "stdout",
          "text": [
            "True\n",
            "False\n"
          ]
        }
      ]
    },
    {
      "cell_type": "markdown",
      "source": [
        "# 조건문"
      ],
      "metadata": {
        "id": "2x4zAx3iSOFr"
      }
    },
    {
      "cell_type": "markdown",
      "source": [
        "## if 조건문"
      ],
      "metadata": {
        "id": "QebDeXnLl4v_"
      }
    },
    {
      "cell_type": "code",
      "source": [
        "# 조건이 1개 & 조건 만족할 때 명령어 실행\n",
        "number = int(input(\"정수를 입력하세요>\"))\n",
        "if number > 0:\n",
        "  print(\"입력한 정수값은 양수입니다.\")\n",
        "if number == 0:\n",
        "  print(\"입력한 정수값은 0입니다.\")\n",
        "if number < 0:\n",
        "  print(\"입력한 정수값은 음수입니다.\")"
      ],
      "metadata": {
        "colab": {
          "base_uri": "https://localhost:8080/"
        },
        "id": "A4NM6_p8SMIX",
        "outputId": "5afc387f-e99a-4dd3-abe9-2c6fe266b027"
      },
      "execution_count": null,
      "outputs": [
        {
          "output_type": "stream",
          "name": "stdout",
          "text": [
            "정수를 입력하세요>1\n",
            "입력한 정수값은 양수입니다.\n"
          ]
        }
      ]
    },
    {
      "cell_type": "markdown",
      "source": [
        "## 현재 날짜 시간\n",
        "import datetime"
      ],
      "metadata": {
        "id": "owB8MYsVYOGY"
      }
    },
    {
      "cell_type": "code",
      "source": [
        "import datetime\n",
        "now = datetime.datetime.now()\n",
        "print(now)\n",
        "print(now.year)\n",
        "print(now.month)\n",
        "print(now.day)\n",
        "print(now.hour)\n",
        "print(now.minute)\n",
        "print(now.second)\n",
        "print(now.weekday())\n",
        "# 0:월, 1:화, 2:수, 3:목, 4:금, 5:토, 6:일"
      ],
      "metadata": {
        "colab": {
          "base_uri": "https://localhost:8080/"
        },
        "id": "_eiOaMuAWbZY",
        "outputId": "10d058d7-14ff-432a-f781-16d4490b9a2d"
      },
      "execution_count": null,
      "outputs": [
        {
          "output_type": "stream",
          "name": "stdout",
          "text": [
            "2023-05-12 05:26:53.443707\n",
            "2023\n",
            "5\n",
            "12\n",
            "5\n",
            "26\n",
            "53\n",
            "4\n"
          ]
        }
      ]
    },
    {
      "cell_type": "code",
      "source": [
        "import datetime\n",
        "now = datetime.datetime.now()\n",
        "\"{}년 {}월 {}일 {}시 {}분 {}초입니다.\".format(now.year, now.month, now.day, now.hour, now.minute, now.second)"
      ],
      "metadata": {
        "colab": {
          "base_uri": "https://localhost:8080/",
          "height": 35
        },
        "id": "nd1VnO9dZkNZ",
        "outputId": "ace7ea44-556f-43ac-f094-7ab6177d069c"
      },
      "execution_count": null,
      "outputs": [
        {
          "output_type": "execute_result",
          "data": {
            "text/plain": [
              "'2023년 5월 12일 5시 25분 22초입니다.'"
            ],
            "application/vnd.google.colaboratory.intrinsic+json": {
              "type": "string"
            }
          },
          "metadata": {},
          "execution_count": 97
        }
      ]
    },
    {
      "cell_type": "code",
      "source": [
        "# 계절을 알려주는 프로그램\n",
        "import datetime\n",
        "now = datetime.datetime.now()\n",
        "if 3 <= now.month <= 5:\n",
        "  print(\"와 봄이야\")\n",
        "if 6 <= now.month <= 8:\n",
        "  print(\"와 여름이야\")\n",
        "if 9 <= now.month <= 11:\n",
        "  print(\"와 가을이야\")\n",
        "if now.month == 12 or 1<= now.month <= 2:\n",
        "  print(\"와 겨울이야\")"
      ],
      "metadata": {
        "colab": {
          "base_uri": "https://localhost:8080/"
        },
        "id": "wVqMhr40a70s",
        "outputId": "773e4558-8e62-4112-f98c-3cda4f2d5824"
      },
      "execution_count": null,
      "outputs": [
        {
          "output_type": "stream",
          "name": "stdout",
          "text": [
            "와 봄이야\n"
          ]
        }
      ]
    },
    {
      "cell_type": "code",
      "source": [
        "# 우리나라의 오전, 오후를 알려주는 프로그램\n",
        "import datetime\n",
        "now = datetime.datetime.now()\n",
        "korea_hour = now.hour+9\n",
        "if korea_hour < 12:\n",
        "  print(\"현재 오전 {]시 입니다\".format(korea_hour))\n",
        "else:\n",
        "  print(\"현재 오후 {}시 입니다.\".format(korea_hour))"
      ],
      "metadata": {
        "colab": {
          "base_uri": "https://localhost:8080/"
        },
        "id": "SmSViMCBbp5Z",
        "outputId": "82533976-6451-43ee-ed0b-b4c6d0f6a3ba"
      },
      "execution_count": null,
      "outputs": [
        {
          "output_type": "stream",
          "name": "stdout",
          "text": [
            "현재 오후 14시 입니다.\n"
          ]
        }
      ]
    },
    {
      "cell_type": "code",
      "source": [
        "# 짝수, 홀수를 알려주는 프로그램\n",
        "no = input(\"숫자(정수)를 입력하세요>\")\n",
        "last_no = int(no[-1])\n",
        "if last_no == 0 or last_no == 2 or last_no == 4 or last_no == 6 or last_no == 8:\n",
        "  print(\"현재 입력한 숫자는 짝수입니다.\")\n",
        "if last_no == 1 or last_no == 3 or last_no == 5 or last_no == 7 or last_no == 9:\n",
        "  print(\"현재 입력한 숫자는 홀수입니다.\")"
      ],
      "metadata": {
        "colab": {
          "base_uri": "https://localhost:8080/"
        },
        "id": "LfXePhYgcgT0",
        "outputId": "c382e804-5bf1-442d-8c27-007a4e14c84c"
      },
      "execution_count": null,
      "outputs": [
        {
          "output_type": "stream",
          "name": "stdout",
          "text": [
            "숫자(정수)를 입력하세요>3\n",
            "현재 입력한 숫자는 홀수입니다.\n"
          ]
        }
      ]
    },
    {
      "cell_type": "code",
      "source": [
        "# 짝수, 홀수를 알려주는 프로그램\n",
        "no = input(\"숫자(정수)를 입력하세요>\")\n",
        "last_no = int(no[-1])\n",
        "if last_no%2 == 0:\n",
        "  print(\"현재 입력한 숫자는 짝수입니다.\")\n",
        "if last_no%2 == 1:\n",
        "  print(\"현재 입력한 숫자는 홀수입니다.\")"
      ],
      "metadata": {
        "colab": {
          "base_uri": "https://localhost:8080/"
        },
        "id": "9HhVO06ucWLp",
        "outputId": "f03cfede-d48e-49c8-f0aa-d1bc813ad0d5"
      },
      "execution_count": null,
      "outputs": [
        {
          "output_type": "stream",
          "name": "stdout",
          "text": [
            "숫자(정수)를 입력하세요>12\n",
            "현재 입력한 숫자는 짝수입니다.\n"
          ]
        }
      ]
    },
    {
      "cell_type": "code",
      "source": [
        "# 짝수, 홀수를 알려주는 프로그램\n",
        "no = input(\"숫자(정수)를 입력하세요>\")\n",
        "last_no = no[-1]\n",
        "if last_no in \"02468\":\n",
        "  print(\"현재 입력한 숫자는 짝수입니다.\")\n",
        "if last_no in \"13579\":\n",
        "  print(\"현재 입력한 숫자는 홀수입니다.\")"
      ],
      "metadata": {
        "colab": {
          "base_uri": "https://localhost:8080/"
        },
        "id": "AA_6kpyLcQ9a",
        "outputId": "e4367275-581c-4cd2-fd39-0bdd377562df"
      },
      "execution_count": null,
      "outputs": [
        {
          "output_type": "stream",
          "name": "stdout",
          "text": [
            "숫자(정수)를 입력하세요>12\n",
            "현재 입력한 숫자는 짝수입니다.\n"
          ]
        }
      ]
    },
    {
      "cell_type": "markdown",
      "source": [
        "## if~else 조건문"
      ],
      "metadata": {
        "id": "ipkz-1CBl9ki"
      }
    },
    {
      "cell_type": "code",
      "source": [
        "no = input(\"숫자(정수)를 입력하세요>\")\n",
        "last_no = int(no[-1])\n",
        "if last_no%2 == 0:\n",
        "  print(\"현재 입력한 숫자는 짝수입니다.\")\n",
        "else:\n",
        "  print(\"현재 입력한 숫자는 홀수입니다,\")"
      ],
      "metadata": {
        "colab": {
          "base_uri": "https://localhost:8080/"
        },
        "id": "KO6c9yoLTB6R",
        "outputId": "a1401d60-3d00-4065-fa08-021982c7e9ec"
      },
      "execution_count": null,
      "outputs": [
        {
          "output_type": "stream",
          "name": "stdout",
          "text": [
            "숫자(정수)를 입력하세요>10\n",
            "현재 입력한 숫자는 짝수입니다.\n"
          ]
        }
      ]
    },
    {
      "cell_type": "markdown",
      "source": [
        "## if~ elif ~ else 조건문"
      ],
      "metadata": {
        "id": "lDEavP00naXk"
      }
    },
    {
      "cell_type": "code",
      "source": [
        "# 계절을 알려주는 프로그램\n",
        "import datetime\n",
        "now = datetime.datetime.now()\n",
        "if 3 <= now.month <= 5:\n",
        "  print(\"와 봄이야\")\n",
        "elif 6 <= now.month <= 8:\n",
        "  print(\"와 여름이야\")\n",
        "elif 9 <= now.month <= 11:\n",
        "  print(\"와 가을이야\")\n",
        "else:\n",
        "  print(\"와 겨울이야\")"
      ],
      "metadata": {
        "colab": {
          "base_uri": "https://localhost:8080/"
        },
        "id": "zhUx0LcSSKt9",
        "outputId": "0fedceaa-cf4f-423f-fde7-c38e76cf9558"
      },
      "execution_count": null,
      "outputs": [
        {
          "output_type": "stream",
          "name": "stdout",
          "text": [
            "와 봄이야\n"
          ]
        }
      ]
    },
    {
      "cell_type": "code",
      "source": [
        "# 학점을 알려주는 프로그램\n",
        "score = float(input(\"학점을 입력하세요\")) #소숫점 = 실수 = float\n",
        "if 3.5 <= score <= 4.5:\n",
        "  print(\"당신의 학점은 A입니다.\")\n",
        "elif 2.5 <= score:\n",
        "  print(\"당신의 학점은 B입니다.\")\n",
        "elif 1.5 <= score:\n",
        "  print(\"당신의 학점은 C입니다.\")\n",
        "elif 0 <= score:\n",
        "  print(\"당신의 학점은 D입니다.\")\n",
        "else:\n",
        "  print(\"당신의 학점은 E입니다.\")"
      ],
      "metadata": {
        "colab": {
          "base_uri": "https://localhost:8080/"
        },
        "id": "uT79MT1OnhYe",
        "outputId": "b61c4454-cb04-4afa-c283-1cdb1eed7c29"
      },
      "execution_count": null,
      "outputs": [
        {
          "output_type": "stream",
          "name": "stdout",
          "text": [
            "학점을 입력하세요3.8\n",
            "당신의 학점은 A입니다.\n"
          ]
        }
      ]
    },
    {
      "cell_type": "markdown",
      "source": [
        "## 조건문에 들어가면 False로 바뀌는 값"
      ],
      "metadata": {
        "id": "2HOLtGO9tEMt"
      }
    },
    {
      "cell_type": "code",
      "source": [
        "# None = 자동 False\n",
        "if None:\n",
        "  print(\"None 값은 현재 True입니다.\")\n",
        "else:\n",
        "  print(\"None 값은 현재 False입니다.\")"
      ],
      "metadata": {
        "colab": {
          "base_uri": "https://localhost:8080/"
        },
        "id": "JGL8KV9Sp3Xn",
        "outputId": "071605fb-71bb-49a7-cfaa-08934ed4a37d"
      },
      "execution_count": null,
      "outputs": [
        {
          "output_type": "stream",
          "name": "stdout",
          "text": [
            "None 값은 현재 False입니다.\n"
          ]
        }
      ]
    },
    {
      "cell_type": "code",
      "source": [
        "# 0 = 자동 False\n",
        "if 0:\n",
        "  print(\"0 값은 현재 True입니다.\")\n",
        "else:\n",
        "  print(\"0 값은 현재 False입니다.\")"
      ],
      "metadata": {
        "colab": {
          "base_uri": "https://localhost:8080/"
        },
        "id": "uFjk0MuEtUrI",
        "outputId": "0b95b9c8-4f77-45dc-918e-ec51edf7729a"
      },
      "execution_count": null,
      "outputs": [
        {
          "output_type": "stream",
          "name": "stdout",
          "text": [
            "0 값은 현재 False입니다.\n"
          ]
        }
      ]
    },
    {
      "cell_type": "code",
      "source": [
        "# [] = 비어있는 리스트 = 자동 False\n",
        "if []:\n",
        "  print(\"리스트 값은 현재 True입니다.\")\n",
        "else:\n",
        "  print(\"리스트 값은 현재 False입니다.\")"
      ],
      "metadata": {
        "colab": {
          "base_uri": "https://localhost:8080/"
        },
        "id": "iSn25tUhtnVa",
        "outputId": "25193f94-e87a-44b6-ae82-31f06e62cb8d"
      },
      "execution_count": null,
      "outputs": [
        {
          "output_type": "stream",
          "name": "stdout",
          "text": [
            "리스트 값은 현재 False입니다.\n"
          ]
        }
      ]
    },
    {
      "cell_type": "code",
      "source": [
        "# 비어있지 않은 값은 항상 True\n",
        "if [1]:\n",
        "  print(\"1 값은 현재 True입니다.\")\n",
        "else:\n",
        "  print(\"1 값은 현재 False입니다.\")"
      ],
      "metadata": {
        "colab": {
          "base_uri": "https://localhost:8080/"
        },
        "id": "HBvq0qq2ttSp",
        "outputId": "737cd570-1e5b-4a37-8ffe-255c5168c252"
      },
      "execution_count": null,
      "outputs": [
        {
          "output_type": "stream",
          "name": "stdout",
          "text": [
            "1 값은 현재 True입니다.\n"
          ]
        }
      ]
    },
    {
      "cell_type": "markdown",
      "source": [
        "## pass 키워드"
      ],
      "metadata": {
        "id": "eYCBaxiDxSqb"
      }
    },
    {
      "cell_type": "code",
      "source": [
        "#에러 발생해도 지나가기 pass\n",
        "no = input(\"숫자(정수)를 입력하세요>\")\n",
        "last_no = int(no[-1])\n",
        "if last_no % 2 == 0:\n",
        "  pass\n",
        "else:\n",
        "  pass"
      ],
      "metadata": {
        "colab": {
          "base_uri": "https://localhost:8080/"
        },
        "id": "T7syKvUOt1Oo",
        "outputId": "7616c74e-5993-4abe-f5a0-71ce426dc12c"
      },
      "execution_count": null,
      "outputs": [
        {
          "name": "stdout",
          "output_type": "stream",
          "text": [
            "숫자(정수)를 입력하세요>12\n"
          ]
        }
      ]
    },
    {
      "cell_type": "code",
      "source": [
        "#아직 구현하지 않은, 코딩해야하는 부분임을 알려주기 위해 일부러 에러내기\n",
        "no = input(\"숫자(정수)를 입력하세요>\")\n",
        "last_no = int(no[-1])\n",
        "if last_no % 2 == 0:\n",
        "  raise NotImplementedError\n",
        "else:\n",
        "  pass"
      ],
      "metadata": {
        "colab": {
          "base_uri": "https://localhost:8080/",
          "height": 263
        },
        "id": "RQ4LkjXDx4_k",
        "outputId": "c127a226-6b4c-4750-dff4-77b99365a27b"
      },
      "execution_count": null,
      "outputs": [
        {
          "name": "stdout",
          "output_type": "stream",
          "text": [
            "숫자(정수)를 입력하세요>12\n"
          ]
        },
        {
          "output_type": "error",
          "ename": "NotImplementedError",
          "evalue": "ignored",
          "traceback": [
            "\u001b[0;31m---------------------------------------------------------------------------\u001b[0m",
            "\u001b[0;31mNotImplementedError\u001b[0m                       Traceback (most recent call last)",
            "\u001b[0;32m<ipython-input-121-69432058f26c>\u001b[0m in \u001b[0;36m<cell line: 4>\u001b[0;34m()\u001b[0m\n\u001b[1;32m      3\u001b[0m \u001b[0mlast_no\u001b[0m \u001b[0;34m=\u001b[0m \u001b[0mint\u001b[0m\u001b[0;34m(\u001b[0m\u001b[0mno\u001b[0m\u001b[0;34m[\u001b[0m\u001b[0;34m-\u001b[0m\u001b[0;36m1\u001b[0m\u001b[0;34m]\u001b[0m\u001b[0;34m)\u001b[0m\u001b[0;34m\u001b[0m\u001b[0;34m\u001b[0m\u001b[0m\n\u001b[1;32m      4\u001b[0m \u001b[0;32mif\u001b[0m \u001b[0mlast_no\u001b[0m \u001b[0;34m%\u001b[0m \u001b[0;36m2\u001b[0m \u001b[0;34m==\u001b[0m \u001b[0;36m0\u001b[0m\u001b[0;34m:\u001b[0m\u001b[0;34m\u001b[0m\u001b[0;34m\u001b[0m\u001b[0m\n\u001b[0;32m----> 5\u001b[0;31m   \u001b[0;32mraise\u001b[0m \u001b[0mNotImplementedError\u001b[0m\u001b[0;34m\u001b[0m\u001b[0;34m\u001b[0m\u001b[0m\n\u001b[0m\u001b[1;32m      6\u001b[0m \u001b[0;32melse\u001b[0m\u001b[0;34m:\u001b[0m\u001b[0;34m\u001b[0m\u001b[0;34m\u001b[0m\u001b[0m\n\u001b[1;32m      7\u001b[0m   \u001b[0;32mpass\u001b[0m\u001b[0;34m\u001b[0m\u001b[0;34m\u001b[0m\u001b[0m\n",
            "\u001b[0;31mNotImplementedError\u001b[0m: "
          ]
        }
      ]
    },
    {
      "cell_type": "markdown",
      "source": [
        "# 리스트"
      ],
      "metadata": {
        "id": "J3QkKRnI1cEa"
      }
    },
    {
      "cell_type": "code",
      "source": [
        "list_1 = [1,2,3,4,5] #리스트 생성\n",
        "print(list_1) #대괄호 안의 개별값 = 요소 = 5개의 요소"
      ],
      "metadata": {
        "colab": {
          "base_uri": "https://localhost:8080/"
        },
        "id": "Wqlc5m01zCGm",
        "outputId": "37f3786c-d2cc-4ddd-c31b-1fe8ee9e14f7"
      },
      "execution_count": null,
      "outputs": [
        {
          "output_type": "stream",
          "name": "stdout",
          "text": [
            "[1, 2, 3, 4, 5]\n"
          ]
        }
      ]
    },
    {
      "cell_type": "code",
      "source": [
        "list_2 = ['안','녕','하','세','요']\n",
        "print(list_2)"
      ],
      "metadata": {
        "colab": {
          "base_uri": "https://localhost:8080/"
        },
        "id": "oX26PSoE1ij9",
        "outputId": "fc1a77a5-c90b-4e49-bb9e-ea08fa41ebc1"
      },
      "execution_count": null,
      "outputs": [
        {
          "output_type": "stream",
          "name": "stdout",
          "text": [
            "['안', '녕', '하', '세', '요']\n"
          ]
        }
      ]
    },
    {
      "cell_type": "code",
      "source": [
        "list_3 = [1,2,3,'안','녕',True]\n",
        "print(list_3) #다른 타입의 데이터 입력 가능"
      ],
      "metadata": {
        "colab": {
          "base_uri": "https://localhost:8080/"
        },
        "id": "91wMXnTC1587",
        "outputId": "3b6cbef8-dac7-4ee7-9788-5a47cfb48e17"
      },
      "execution_count": null,
      "outputs": [
        {
          "output_type": "stream",
          "name": "stdout",
          "text": [
            "[1, 2, 3, '안', '녕', True]\n"
          ]
        }
      ]
    },
    {
      "cell_type": "markdown",
      "source": [
        "## 인덱싱"
      ],
      "metadata": {
        "id": "tko40vnM4dZM"
      }
    },
    {
      "cell_type": "code",
      "source": [
        "list_a = [[1,2,3,4], \"안녕하세요\", True]\n",
        "print(list_a)"
      ],
      "metadata": {
        "colab": {
          "base_uri": "https://localhost:8080/"
        },
        "id": "I9u5NfyV2RlN",
        "outputId": "89ceeabd-6cbf-4c2d-b196-74649d278168"
      },
      "execution_count": null,
      "outputs": [
        {
          "output_type": "stream",
          "name": "stdout",
          "text": [
            "[[1, 2, 3, 4], '안녕하세요', True]\n"
          ]
        }
      ]
    },
    {
      "cell_type": "code",
      "source": [
        "list_a[0]"
      ],
      "metadata": {
        "colab": {
          "base_uri": "https://localhost:8080/"
        },
        "id": "gny5gAIg4lwV",
        "outputId": "b2ae43ce-ca2d-4e5d-99a3-c13d639beb1f"
      },
      "execution_count": null,
      "outputs": [
        {
          "output_type": "execute_result",
          "data": {
            "text/plain": [
              "[1, 2, 3, 4]"
            ]
          },
          "metadata": {},
          "execution_count": 126
        }
      ]
    },
    {
      "cell_type": "code",
      "source": [
        "list_a[1]"
      ],
      "metadata": {
        "colab": {
          "base_uri": "https://localhost:8080/",
          "height": 35
        },
        "id": "vT3EHhGk4tS9",
        "outputId": "f99bcab0-0124-4509-d5d0-33ef4b46d55b"
      },
      "execution_count": null,
      "outputs": [
        {
          "output_type": "execute_result",
          "data": {
            "text/plain": [
              "'안녕하세요'"
            ],
            "application/vnd.google.colaboratory.intrinsic+json": {
              "type": "string"
            }
          },
          "metadata": {},
          "execution_count": 127
        }
      ]
    },
    {
      "cell_type": "code",
      "source": [
        "list_1[2]"
      ],
      "metadata": {
        "colab": {
          "base_uri": "https://localhost:8080/"
        },
        "id": "7I-4Bi-p4ui3",
        "outputId": "bce79867-3cf2-4b87-faeb-eece5df67c0a"
      },
      "execution_count": null,
      "outputs": [
        {
          "output_type": "execute_result",
          "data": {
            "text/plain": [
              "3"
            ]
          },
          "metadata": {},
          "execution_count": 128
        }
      ]
    },
    {
      "cell_type": "code",
      "source": [
        "# 리스트 안의 리스트 접근\n",
        "list_a[0][0]"
      ],
      "metadata": {
        "colab": {
          "base_uri": "https://localhost:8080/"
        },
        "id": "D3bDWYlm4vg8",
        "outputId": "d83c5cf8-7ea6-4dda-89f8-bfad6f4cb1ad"
      },
      "execution_count": null,
      "outputs": [
        {
          "output_type": "execute_result",
          "data": {
            "text/plain": [
              "1"
            ]
          },
          "metadata": {},
          "execution_count": 129
        }
      ]
    },
    {
      "cell_type": "code",
      "source": [
        "list_a[1][2]"
      ],
      "metadata": {
        "colab": {
          "base_uri": "https://localhost:8080/",
          "height": 35
        },
        "id": "3U_KrGbR43MA",
        "outputId": "c47d4418-ef5b-4670-e67e-dd4b26038f04"
      },
      "execution_count": null,
      "outputs": [
        {
          "output_type": "execute_result",
          "data": {
            "text/plain": [
              "'하'"
            ],
            "application/vnd.google.colaboratory.intrinsic+json": {
              "type": "string"
            }
          },
          "metadata": {},
          "execution_count": 130
        }
      ]
    },
    {
      "cell_type": "markdown",
      "source": [
        "## 슬라이싱"
      ],
      "metadata": {
        "id": "E01PLIIn6f1Q"
      }
    },
    {
      "cell_type": "code",
      "source": [
        "# 인덱스 범위\n",
        "# 끝번호 포함하지 않음\n",
        "print(list_a[0:2])\n",
        "print(list_a[0:1+1])"
      ],
      "metadata": {
        "colab": {
          "base_uri": "https://localhost:8080/"
        },
        "id": "LYGrv0fj5TGs",
        "outputId": "a95a054c-3ce1-4df9-bb52-2c4824adea3d"
      },
      "execution_count": null,
      "outputs": [
        {
          "output_type": "stream",
          "name": "stdout",
          "text": [
            "[[1, 2, 3, 4], '안녕하세요']\n",
            "[[1, 2, 3, 4], '안녕하세요']\n"
          ]
        }
      ]
    },
    {
      "cell_type": "code",
      "source": [
        "#시작번호 생략\n",
        "print(list_a[:2])\n",
        "print(list_a[:1+1])"
      ],
      "metadata": {
        "colab": {
          "base_uri": "https://localhost:8080/"
        },
        "id": "erLI7tGN6mpM",
        "outputId": "62ddc478-f254-483c-bcf8-035fbcc9e982"
      },
      "execution_count": null,
      "outputs": [
        {
          "output_type": "stream",
          "name": "stdout",
          "text": [
            "[[1, 2, 3, 4], '안녕하세요']\n",
            "[[1, 2, 3, 4], '안녕하세요']\n"
          ]
        }
      ]
    },
    {
      "cell_type": "code",
      "source": [
        "#끝번호 생략\n",
        "print(list_a[1:])"
      ],
      "metadata": {
        "colab": {
          "base_uri": "https://localhost:8080/"
        },
        "id": "db1A2IVK6rbE",
        "outputId": "729776d5-4025-4de8-e7d3-bda44f4c65ec"
      },
      "execution_count": null,
      "outputs": [
        {
          "output_type": "stream",
          "name": "stdout",
          "text": [
            "['안녕하세요', True]\n"
          ]
        }
      ]
    },
    {
      "cell_type": "markdown",
      "source": [
        "## 음수 인덱스"
      ],
      "metadata": {
        "id": "WmtvVFa6_ESN"
      }
    },
    {
      "cell_type": "code",
      "source": [
        "list_a"
      ],
      "metadata": {
        "colab": {
          "base_uri": "https://localhost:8080/"
        },
        "id": "q7i9djRW7F7R",
        "outputId": "d1004bff-bdfe-49af-fdfe-3d8e7bd6e317"
      },
      "execution_count": null,
      "outputs": [
        {
          "output_type": "execute_result",
          "data": {
            "text/plain": [
              "[[1, 2, 3, 4], '안녕하세요', True]"
            ]
          },
          "metadata": {},
          "execution_count": 135
        }
      ]
    },
    {
      "cell_type": "code",
      "source": [
        "list_a[-1]"
      ],
      "metadata": {
        "colab": {
          "base_uri": "https://localhost:8080/"
        },
        "id": "P7mdca7z_QSh",
        "outputId": "0f4ccf1e-022a-4779-d936-896ef795c72d"
      },
      "execution_count": null,
      "outputs": [
        {
          "output_type": "execute_result",
          "data": {
            "text/plain": [
              "True"
            ]
          },
          "metadata": {},
          "execution_count": 136
        }
      ]
    },
    {
      "cell_type": "code",
      "source": [
        "list_a[-2]"
      ],
      "metadata": {
        "colab": {
          "base_uri": "https://localhost:8080/",
          "height": 35
        },
        "id": "ZQjOcdCq_Rro",
        "outputId": "7a2acb9e-9b59-4c59-adf6-1a88a91f6018"
      },
      "execution_count": null,
      "outputs": [
        {
          "output_type": "execute_result",
          "data": {
            "text/plain": [
              "'안녕하세요'"
            ],
            "application/vnd.google.colaboratory.intrinsic+json": {
              "type": "string"
            }
          },
          "metadata": {},
          "execution_count": 137
        }
      ]
    },
    {
      "cell_type": "code",
      "source": [
        "list_a[-3]"
      ],
      "metadata": {
        "colab": {
          "base_uri": "https://localhost:8080/"
        },
        "id": "eQfJrX_g_Syw",
        "outputId": "04a914b1-f1ed-43d2-8e40-c6754d4192fd"
      },
      "execution_count": null,
      "outputs": [
        {
          "output_type": "execute_result",
          "data": {
            "text/plain": [
              "[1, 2, 3, 4]"
            ]
          },
          "metadata": {},
          "execution_count": 138
        }
      ]
    },
    {
      "cell_type": "code",
      "source": [
        "list_a[0][:-2]"
      ],
      "metadata": {
        "colab": {
          "base_uri": "https://localhost:8080/"
        },
        "id": "z6SKOLtO_T4b",
        "outputId": "418c845a-2394-4852-9d17-73375cb36c81"
      },
      "execution_count": null,
      "outputs": [
        {
          "output_type": "execute_result",
          "data": {
            "text/plain": [
              "[1, 2]"
            ]
          },
          "metadata": {},
          "execution_count": 140
        }
      ]
    },
    {
      "cell_type": "markdown",
      "source": [
        "## 리스트 요소 변경"
      ],
      "metadata": {
        "id": "nvyz7fyW_oW-"
      }
    },
    {
      "cell_type": "code",
      "source": [
        "list_a[2] = \"False\"\n",
        "print(list_a)"
      ],
      "metadata": {
        "colab": {
          "base_uri": "https://localhost:8080/"
        },
        "id": "s_gMLEiI_ZOA",
        "outputId": "dd729243-f76e-475a-cfe2-6e5d63973319"
      },
      "execution_count": null,
      "outputs": [
        {
          "output_type": "execute_result",
          "data": {
            "text/plain": [
              "[[1, 2, 3, 4], '안녕하세요', 'False']"
            ]
          },
          "metadata": {},
          "execution_count": 141
        }
      ]
    },
    {
      "cell_type": "code",
      "source": [
        "list_a[1] = \"잘자요\"\n",
        "print(list_a[1])\n",
        "print(list_a)"
      ],
      "metadata": {
        "colab": {
          "base_uri": "https://localhost:8080/"
        },
        "id": "oaLBiCOI_s1J",
        "outputId": "b66cc195-7b0b-42d6-9528-57a8d8334275"
      },
      "execution_count": null,
      "outputs": [
        {
          "output_type": "stream",
          "name": "stdout",
          "text": [
            "잘자요\n",
            "[[1, 2, 3, 4], '잘자요', 'False']\n"
          ]
        }
      ]
    },
    {
      "cell_type": "code",
      "source": [
        "list_a[0][0] = 10\n",
        "print(list_a[0])\n",
        "print(list_a)"
      ],
      "metadata": {
        "colab": {
          "base_uri": "https://localhost:8080/"
        },
        "id": "91aH3UAjARFZ",
        "outputId": "6815466a-b490-4f85-836c-ba8cbe56b308"
      },
      "execution_count": null,
      "outputs": [
        {
          "output_type": "stream",
          "name": "stdout",
          "text": [
            "[10, 2, 3, 4]\n",
            "[[10, 2, 3, 4], '잘자요', 'False']\n"
          ]
        }
      ]
    },
    {
      "cell_type": "markdown",
      "source": [
        "## IndexError"
      ],
      "metadata": {
        "id": "J5pHv8hFBb1j"
      }
    },
    {
      "cell_type": "code",
      "source": [
        "list_a"
      ],
      "metadata": {
        "colab": {
          "base_uri": "https://localhost:8080/"
        },
        "id": "u2PeHhAvAlmI",
        "outputId": "8ce865d8-2c12-4336-90d6-bf292ea13e9f"
      },
      "execution_count": null,
      "outputs": [
        {
          "output_type": "execute_result",
          "data": {
            "text/plain": [
              "[[10, 2, 3, 4], '잘자요', 'False']"
            ]
          },
          "metadata": {},
          "execution_count": 144
        }
      ]
    },
    {
      "cell_type": "code",
      "source": [
        "list_a[3] #인덱스 범위 초과"
      ],
      "metadata": {
        "colab": {
          "base_uri": "https://localhost:8080/",
          "height": 172
        },
        "id": "Ktg8swcaBfun",
        "outputId": "b7d438ed-7d6f-4092-e6d2-ce5ab8d43ac6"
      },
      "execution_count": null,
      "outputs": [
        {
          "output_type": "error",
          "ename": "IndexError",
          "evalue": "ignored",
          "traceback": [
            "\u001b[0;31m---------------------------------------------------------------------------\u001b[0m",
            "\u001b[0;31mIndexError\u001b[0m                                Traceback (most recent call last)",
            "\u001b[0;32m<ipython-input-145-cf195278c15b>\u001b[0m in \u001b[0;36m<cell line: 1>\u001b[0;34m()\u001b[0m\n\u001b[0;32m----> 1\u001b[0;31m \u001b[0mlist_a\u001b[0m\u001b[0;34m[\u001b[0m\u001b[0;36m3\u001b[0m\u001b[0;34m]\u001b[0m\u001b[0;34m\u001b[0m\u001b[0;34m\u001b[0m\u001b[0m\n\u001b[0m",
            "\u001b[0;31mIndexError\u001b[0m: list index out of range"
          ]
        }
      ]
    },
    {
      "cell_type": "code",
      "source": [
        "list_a[0][4] #인덱스 범위 초과"
      ],
      "metadata": {
        "colab": {
          "base_uri": "https://localhost:8080/",
          "height": 172
        },
        "id": "qm11qvsH_WTA",
        "outputId": "36d44023-ea70-42fb-c5d1-53a312dd2d3e"
      },
      "execution_count": null,
      "outputs": [
        {
          "output_type": "error",
          "ename": "IndexError",
          "evalue": "ignored",
          "traceback": [
            "\u001b[0;31m---------------------------------------------------------------------------\u001b[0m",
            "\u001b[0;31mIndexError\u001b[0m                                Traceback (most recent call last)",
            "\u001b[0;32m<ipython-input-147-9c3308496c39>\u001b[0m in \u001b[0;36m<cell line: 1>\u001b[0;34m()\u001b[0m\n\u001b[0;32m----> 1\u001b[0;31m \u001b[0mlist_a\u001b[0m\u001b[0;34m[\u001b[0m\u001b[0;36m0\u001b[0m\u001b[0;34m]\u001b[0m\u001b[0;34m[\u001b[0m\u001b[0;36m4\u001b[0m\u001b[0;34m]\u001b[0m\u001b[0;34m\u001b[0m\u001b[0;34m\u001b[0m\u001b[0m\n\u001b[0m",
            "\u001b[0;31mIndexError\u001b[0m: list index out of range"
          ]
        }
      ]
    },
    {
      "cell_type": "code",
      "source": [],
      "metadata": {
        "id": "R4MbG0Cxx4sS"
      },
      "execution_count": null,
      "outputs": []
    }
  ]
}