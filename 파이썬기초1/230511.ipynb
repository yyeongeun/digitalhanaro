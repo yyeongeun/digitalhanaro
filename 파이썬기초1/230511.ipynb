{
  "nbformat": 4,
  "nbformat_minor": 0,
  "metadata": {
    "colab": {
      "provenance": [],
      "toc_visible": true,
      "authorship_tag": "ABX9TyOV3NVofvP4xbR76D6Q8pBf",
      "include_colab_link": true
    },
    "kernelspec": {
      "name": "python3",
      "display_name": "Python 3"
    },
    "language_info": {
      "name": "python"
    }
  },
  "cells": [
    {
      "cell_type": "markdown",
      "metadata": {
        "id": "view-in-github",
        "colab_type": "text"
      },
      "source": [
        "<a href=\"https://colab.research.google.com/github/yyeongeun/digitalhanaro/blob/main/%ED%8C%8C%EC%9D%B4%EC%8D%AC%EA%B8%B0%EC%B4%881/230511.ipynb\" target=\"_parent\"><img src=\"https://colab.research.google.com/assets/colab-badge.svg\" alt=\"Open In Colab\"/></a>"
      ]
    },
    {
      "cell_type": "markdown",
      "source": [
        "# 파이썬 기초\n",
        "## 주석 ctrl + /"
      ],
      "metadata": {
        "id": "dhubBjtZVqdq"
      }
    },
    {
      "cell_type": "markdown",
      "source": [
        "### 코드 실행 단축키\n",
        "#### 1. ctrl + enter(커서위치가 그대로)\n",
        "#### 2. alt + enter 새로운 셀로 이동(새로 셀을 만듦)\n",
        "#### 3. shift + enter 새로운 셀로 이동(기존 만들어진 셀)\n"
      ],
      "metadata": {
        "id": "CfabuVOiWIsE"
      }
    },
    {
      "cell_type": "markdown",
      "source": [
        "### 표현식, 연산자, 키워드, 출력"
      ],
      "metadata": {
        "id": "GD2p239Jkkkr"
      }
    },
    {
      "cell_type": "code",
      "source": [
        "# 표현식\n",
        "23\n",
        "\"Hello\"\n",
        "1+2"
      ],
      "metadata": {
        "colab": {
          "base_uri": "https://localhost:8080/"
        },
        "id": "xvjnR1gOXfK7",
        "outputId": "5979f4a7-d0a5-4749-9236-7e028f769311"
      },
      "execution_count": null,
      "outputs": [
        {
          "output_type": "execute_result",
          "data": {
            "text/plain": [
              "3"
            ]
          },
          "metadata": {},
          "execution_count": 3
        }
      ]
    },
    {
      "cell_type": "code",
      "source": [
        "# 프로그램 : 문장이 모여서 만들어진 코드\n",
        "# 키워드 확인하는 방법\n",
        "import keyword\n",
        "print(keyword.kwlist)"
      ],
      "metadata": {
        "colab": {
          "base_uri": "https://localhost:8080/"
        },
        "id": "0Fii3x7eY0zm",
        "outputId": "95da6301-fb6e-4cab-d17e-633695f33e86"
      },
      "execution_count": null,
      "outputs": [
        {
          "output_type": "stream",
          "name": "stdout",
          "text": [
            "['False', 'None', 'True', 'and', 'as', 'assert', 'async', 'await', 'break', 'class', 'continue', 'def', 'del', 'elif', 'else', 'except', 'finally', 'for', 'from', 'global', 'if', 'import', 'in', 'is', 'lambda', 'nonlocal', 'not', 'or', 'pass', 'raise', 'return', 'try', 'while', 'with', 'yield']\n"
          ]
        }
      ]
    },
    {
      "cell_type": "code",
      "source": [
        "# 식별자\n",
        "student_name #변수명\n",
        "#class #키워드는 식별자로 사용 불가\n",
        "#숫자로 시작 X, 언더바_로 시작 O, 빈칸사용 X\n",
        "_class"
      ],
      "metadata": {
        "id": "WAfr3_t6cR8D"
      },
      "execution_count": null,
      "outputs": []
    },
    {
      "cell_type": "code",
      "source": [
        "# 문장 : 표현식이 모여서 실행할 수 있는 코드 # 한줄의 코드\n",
        "# 연산자\n",
        "# 값과 값 사이에 존재 + 기능\n",
        "# 사칙연산\n",
        "a = 1+2\n",
        "a"
      ],
      "metadata": {
        "colab": {
          "base_uri": "https://localhost:8080/"
        },
        "id": "etY-lMZekQZO",
        "outputId": "e85be631-f777-4bde-e0c7-cff4e3a48d90"
      },
      "execution_count": null,
      "outputs": [
        {
          "output_type": "execute_result",
          "data": {
            "text/plain": [
              "3"
            ]
          },
          "metadata": {},
          "execution_count": 6
        }
      ]
    },
    {
      "cell_type": "code",
      "source": [
        "print(\"안녕\")\n",
        "print(\"안녕\"*10)\n",
        "print() # 식별자"
      ],
      "metadata": {
        "colab": {
          "base_uri": "https://localhost:8080/"
        },
        "id": "WiEvS0OWXGQi",
        "outputId": "eb6e9d6c-a0e0-4f27-ad5f-14b0d3ebf7bf"
      },
      "execution_count": null,
      "outputs": [
        {
          "output_type": "stream",
          "name": "stdout",
          "text": [
            "안녕\n",
            "안녕안녕안녕안녕안녕안녕안녕안녕안녕안녕\n",
            "\n"
          ]
        }
      ]
    },
    {
      "cell_type": "code",
      "source": [
        "print(\"이름1\",\"이름2\") # 여러개 가능"
      ],
      "metadata": {
        "colab": {
          "base_uri": "https://localhost:8080/"
        },
        "id": "MJcAACiDlQ7H",
        "outputId": "1cf8409a-8093-400d-ed95-048655f660aa"
      },
      "execution_count": null,
      "outputs": [
        {
          "output_type": "stream",
          "name": "stdout",
          "text": [
            "이름1 이름2\n"
          ]
        }
      ]
    },
    {
      "cell_type": "markdown",
      "source": [
        "# 자료형"
      ],
      "metadata": {
        "id": "mGUAC4uSoVpu"
      }
    },
    {
      "cell_type": "code",
      "source": [
        "# 자료형 확인\n",
        "type(\"배고파\") #str = string = 문자열"
      ],
      "metadata": {
        "colab": {
          "base_uri": "https://localhost:8080/"
        },
        "id": "LfIlbmGemAL2",
        "outputId": "e4c3e1de-41df-47a7-b4ed-d92aa7a241be"
      },
      "execution_count": null,
      "outputs": [
        {
          "output_type": "execute_result",
          "data": {
            "text/plain": [
              "str"
            ]
          },
          "metadata": {},
          "execution_count": 11
        }
      ]
    },
    {
      "cell_type": "code",
      "source": [
        "type(23) #int = integer = 정수 = 소숫점 없는 숫자"
      ],
      "metadata": {
        "colab": {
          "base_uri": "https://localhost:8080/"
        },
        "id": "B78x2RrUoauj",
        "outputId": "8ee7a6ec-8378-491d-9770-03c756f9c005"
      },
      "execution_count": null,
      "outputs": [
        {
          "output_type": "execute_result",
          "data": {
            "text/plain": [
              "int"
            ]
          },
          "metadata": {},
          "execution_count": 12
        }
      ]
    },
    {
      "cell_type": "code",
      "source": [
        "type(2.3) #float = 실수 = 소숫점 있는 숫자"
      ],
      "metadata": {
        "colab": {
          "base_uri": "https://localhost:8080/"
        },
        "id": "xtUkfNYmohi-",
        "outputId": "289df166-96e9-47f7-a8e2-fa9d981fb055"
      },
      "execution_count": null,
      "outputs": [
        {
          "output_type": "execute_result",
          "data": {
            "text/plain": [
              "float"
            ]
          },
          "metadata": {},
          "execution_count": 13
        }
      ]
    },
    {
      "cell_type": "code",
      "source": [
        "type(True) #bool = boolean = 불 = 논리형"
      ],
      "metadata": {
        "colab": {
          "base_uri": "https://localhost:8080/"
        },
        "id": "wRkSY-5uolE7",
        "outputId": "08d563cf-b174-40d0-b7ba-bbb9f3f88770"
      },
      "execution_count": null,
      "outputs": [
        {
          "output_type": "execute_result",
          "data": {
            "text/plain": [
              "bool"
            ]
          },
          "metadata": {},
          "execution_count": 14
        }
      ]
    },
    {
      "cell_type": "markdown",
      "source": [
        "### 문자열"
      ],
      "metadata": {
        "id": "kx2lEsYgp42j"
      }
    },
    {
      "cell_type": "code",
      "source": [
        "print(\"안녕\")\n",
        "print('안녕')"
      ],
      "metadata": {
        "colab": {
          "base_uri": "https://localhost:8080/"
        },
        "id": "-JBl4NVUo17v",
        "outputId": "703ae6c9-7067-46af-b55d-9eda28c13eef"
      },
      "execution_count": null,
      "outputs": [
        {
          "output_type": "stream",
          "name": "stdout",
          "text": [
            "안녕\n",
            "안녕\n"
          ]
        }
      ]
    },
    {
      "cell_type": "code",
      "source": [
        "# 문자열 안에서 따옴표를 사용하는 경우\n",
        "print(\"\"안녕\"이라고 말해봐\")"
      ],
      "metadata": {
        "colab": {
          "base_uri": "https://localhost:8080/",
          "height": 136
        },
        "id": "OxTg7KtdqDBT",
        "outputId": "7af2d4d3-4fd5-4e6c-d0f9-ef095557340b"
      },
      "execution_count": null,
      "outputs": [
        {
          "output_type": "error",
          "ename": "SyntaxError",
          "evalue": "ignored",
          "traceback": [
            "\u001b[0;36m  File \u001b[0;32m\"<ipython-input-16-c093890ca606>\"\u001b[0;36m, line \u001b[0;32m1\u001b[0m\n\u001b[0;31m    print(\"\"안녕\"이라고 말해봐\")\u001b[0m\n\u001b[0m          ^\u001b[0m\n\u001b[0;31mSyntaxError\u001b[0m\u001b[0;31m:\u001b[0m invalid syntax. Perhaps you forgot a comma?\n"
          ]
        }
      ]
    },
    {
      "cell_type": "code",
      "source": [
        "# 위의 에러 수정\n",
        "print(\"'안녕'이라고 말해봐\")\n",
        "print('\"안녕\"이라고 말해봐')"
      ],
      "metadata": {
        "colab": {
          "base_uri": "https://localhost:8080/"
        },
        "id": "6cny0JnYqizj",
        "outputId": "17e53900-aca5-4b14-b72b-ca91b2e1df6b"
      },
      "execution_count": null,
      "outputs": [
        {
          "output_type": "stream",
          "name": "stdout",
          "text": [
            "'안녕'이라고 말해봐\n",
            "\"안녕\"이라고 말해봐\n"
          ]
        }
      ]
    },
    {
      "cell_type": "markdown",
      "source": [
        "#### 이스케이프 문자\n",
        "#### 역슬래시(\\) 와 함께 쓰는 특수 문자"
      ],
      "metadata": {
        "id": "nZ5TMRq8rx5j"
      }
    },
    {
      "cell_type": "code",
      "source": [
        "print(\"\\\"안녕\\\"이라고 말해봐\")"
      ],
      "metadata": {
        "colab": {
          "base_uri": "https://localhost:8080/"
        },
        "id": "ddav6xJUq-YD",
        "outputId": "8ba9a0b4-c669-4573-d52c-b195499af3e9"
      },
      "execution_count": null,
      "outputs": [
        {
          "output_type": "stream",
          "name": "stdout",
          "text": [
            "\"안녕\"이라고 말해봐\n"
          ]
        }
      ]
    },
    {
      "cell_type": "code",
      "source": [
        "print('\\'안녕\\'이라고 말해봐')"
      ],
      "metadata": {
        "colab": {
          "base_uri": "https://localhost:8080/"
        },
        "id": "5hsA0Ae9sNVD",
        "outputId": "fd118e32-ed72-4b50-e891-cf4afd0bc4c6"
      },
      "execution_count": null,
      "outputs": [
        {
          "output_type": "stream",
          "name": "stdout",
          "text": [
            "'안녕'이라고 말해봐\n"
          ]
        }
      ]
    },
    {
      "cell_type": "code",
      "source": [
        "# 줄바꿈 \\n\n",
        "print(\"동해물과 백두산이\\n마르고 닳도록\")"
      ],
      "metadata": {
        "colab": {
          "base_uri": "https://localhost:8080/"
        },
        "id": "pve1UpZ4scQG",
        "outputId": "a692ce86-acef-4f43-b576-fb728d4f81a0"
      },
      "execution_count": null,
      "outputs": [
        {
          "output_type": "stream",
          "name": "stdout",
          "text": [
            "동해물과 백두산이\n",
            "마르고 닳도록\n"
          ]
        }
      ]
    },
    {
      "cell_type": "code",
      "source": [
        "# 탭 \\t\n",
        "print(\"안녕\\t안녕\")"
      ],
      "metadata": {
        "colab": {
          "base_uri": "https://localhost:8080/"
        },
        "id": "eLO1cUrdqmzU",
        "outputId": "b358b085-2f62-4b2d-e7cb-523b5ed176d4"
      },
      "execution_count": null,
      "outputs": [
        {
          "output_type": "stream",
          "name": "stdout",
          "text": [
            "안녕\t안녕\n"
          ]
        }
      ]
    },
    {
      "cell_type": "code",
      "source": [
        "# 역슬래시 \\\\\n",
        "print(\"\\\\\")\n",
        "print(\"\\\\\\\\\")"
      ],
      "metadata": {
        "colab": {
          "base_uri": "https://localhost:8080/"
        },
        "id": "iIaX0vWj-w9h",
        "outputId": "a5e4a8f6-c0a7-444b-c13a-bd85fce6c37a"
      },
      "execution_count": null,
      "outputs": [
        {
          "output_type": "stream",
          "name": "stdout",
          "text": [
            "\\\n",
            "\\\\\n"
          ]
        }
      ]
    },
    {
      "cell_type": "markdown",
      "source": [
        "#### 여러 줄의 문자열"
      ],
      "metadata": {
        "id": "FlPvFNif_EWg"
      }
    },
    {
      "cell_type": "code",
      "source": [
        "print(\"하나~~~~~~\\n둘~~~~~~~~\\n셋~~~~~~~~\\n넷~~~~~~\")"
      ],
      "metadata": {
        "colab": {
          "base_uri": "https://localhost:8080/"
        },
        "id": "VgqmsSnW-_yy",
        "outputId": "5d5251e6-08a3-4063-96ff-d07f3365f7b2"
      },
      "execution_count": null,
      "outputs": [
        {
          "output_type": "stream",
          "name": "stdout",
          "text": [
            "하나~~~~~~\n",
            "둘~~~~~~~~\n",
            "셋~~~~~~~~\n",
            "넷~~~~~~\n"
          ]
        }
      ]
    },
    {
      "cell_type": "code",
      "source": [
        "# 엔터사용시 \"\"\" 3개\n",
        "print(\"\"\"하나~~~\n",
        "둘~~~~\n",
        "셋~~~~\n",
        "넷~~~~\"\"\")"
      ],
      "metadata": {
        "colab": {
          "base_uri": "https://localhost:8080/"
        },
        "id": "gZhXEZczAJha",
        "outputId": "c9dca3cb-0122-481a-a7f4-c965c924599f"
      },
      "execution_count": null,
      "outputs": [
        {
          "output_type": "stream",
          "name": "stdout",
          "text": [
            "하나~~~\n",
            "둘~~~~\n",
            "셋~~~~\n",
            "넷~~~~\n"
          ]
        }
      ]
    },
    {
      "cell_type": "code",
      "source": [
        "# 비어있는줄 O\n",
        "print(\"\"\"\n",
        "하나~~~\n",
        "둘~~~~\n",
        "셋~~~~\n",
        "넷~~~~\n",
        "\"\"\")"
      ],
      "metadata": {
        "colab": {
          "base_uri": "https://localhost:8080/"
        },
        "id": "VUVVKIVwAIVB",
        "outputId": "00e21ced-5857-491c-cd71-ee522abd8841"
      },
      "execution_count": null,
      "outputs": [
        {
          "output_type": "stream",
          "name": "stdout",
          "text": [
            "\n",
            "하나~~~\n",
            "둘~~~~\n",
            "셋~~~~\n",
            "넷~~~~\n",
            "\n"
          ]
        }
      ]
    },
    {
      "cell_type": "code",
      "source": [
        "# 비어있는 줄 삭제\n",
        "print(\"\"\"\\\n",
        "하나~~~\n",
        "둘~~~~\n",
        "셋~~~~\n",
        "넷~~~~\\\n",
        "\"\"\")"
      ],
      "metadata": {
        "colab": {
          "base_uri": "https://localhost:8080/"
        },
        "id": "WpepBXZB_mpj",
        "outputId": "407b2878-d140-4d05-e889-1ea6fd78ee8a"
      },
      "execution_count": null,
      "outputs": [
        {
          "output_type": "stream",
          "name": "stdout",
          "text": [
            "하나~~~\n",
            "둘~~~~\n",
            "셋~~~~\n",
            "넷~~~~\n"
          ]
        }
      ]
    },
    {
      "cell_type": "markdown",
      "source": [
        "#### 문자열 연산자"
      ],
      "metadata": {
        "id": "08LcHizoB9kt"
      }
    },
    {
      "cell_type": "code",
      "source": [
        "# + :문자열 연결 연산자 = 합쳐주기\n",
        "print(\"안녕\"+\"하시렵니까?\")\n",
        "print(\"안녕\"+\"!!!\")\n",
        "#print(\"안녕\"+1) #문자와 숫자는 더할 수 없다\n",
        "print(\"안녕\"+\"1\")"
      ],
      "metadata": {
        "colab": {
          "base_uri": "https://localhost:8080/"
        },
        "id": "9_or_2kdACVH",
        "outputId": "a5f49abd-89a8-4916-c523-ea9c4e81260b"
      },
      "execution_count": null,
      "outputs": [
        {
          "output_type": "stream",
          "name": "stdout",
          "text": [
            "안녕하시렵니까?\n",
            "안녕!!!\n",
            "안녕1\n"
          ]
        }
      ]
    },
    {
      "cell_type": "code",
      "source": [
        "# * : 문자열 반복 연산자 = 반복\n",
        "print(\"안녕\"*5)\n",
        "print(5*\"안녕\")"
      ],
      "metadata": {
        "colab": {
          "base_uri": "https://localhost:8080/"
        },
        "id": "4dpfqzhX_1zv",
        "outputId": "03ef163a-5bda-4f1d-fd7d-cfcfd6b079e3"
      },
      "execution_count": null,
      "outputs": [
        {
          "output_type": "stream",
          "name": "stdout",
          "text": [
            "안녕안녕안녕안녕안녕\n",
            "안녕안녕안녕안녕안녕\n"
          ]
        }
      ]
    },
    {
      "cell_type": "markdown",
      "source": [
        "#### 인덱스 & 인덱싱"
      ],
      "metadata": {
        "id": "o7BUpVzIFKAn"
      }
    },
    {
      "cell_type": "code",
      "source": [
        "# 안녕하세요\n",
        "# 1 2 3 4 5 => 원 인덱스 = 보통 숫자 세는 방식\n",
        "# 0 1 2 3 4 => 제로 인덱스 = 파이썬 숫자 세는 방식\n",
        "# -5 -4 -3 -2 -1\n",
        "print(\"안녕하세요\"[0])\n",
        "print(\"안녕하세요\"[1])\n",
        "print(\"안녕하세요\"[2])\n",
        "print(\"안녕하세요\"[3])\n",
        "print(\"안녕하세요\"[4])"
      ],
      "metadata": {
        "colab": {
          "base_uri": "https://localhost:8080/"
        },
        "id": "exhDJBc9XSb-",
        "outputId": "cec5b7ed-c813-4abb-d338-50fbc3802734"
      },
      "execution_count": null,
      "outputs": [
        {
          "output_type": "stream",
          "name": "stdout",
          "text": [
            "안\n",
            "녕\n",
            "하\n",
            "세\n",
            "요\n"
          ]
        }
      ]
    },
    {
      "cell_type": "code",
      "source": [
        "print(\"안녕하세요\"[5])"
      ],
      "metadata": {
        "colab": {
          "base_uri": "https://localhost:8080/",
          "height": 172
        },
        "id": "45ZwQipTGv-u",
        "outputId": "9f088562-27e1-4835-83bc-112e74540e78"
      },
      "execution_count": null,
      "outputs": [
        {
          "output_type": "error",
          "ename": "IndexError",
          "evalue": "ignored",
          "traceback": [
            "\u001b[0;31m---------------------------------------------------------------------------\u001b[0m",
            "\u001b[0;31mIndexError\u001b[0m                                Traceback (most recent call last)",
            "\u001b[0;32m<ipython-input-52-69e86a823cc4>\u001b[0m in \u001b[0;36m<cell line: 1>\u001b[0;34m()\u001b[0m\n\u001b[0;32m----> 1\u001b[0;31m \u001b[0mprint\u001b[0m\u001b[0;34m(\u001b[0m\u001b[0;34m\"안녕하세요\"\u001b[0m\u001b[0;34m[\u001b[0m\u001b[0;36m5\u001b[0m\u001b[0;34m]\u001b[0m\u001b[0;34m)\u001b[0m\u001b[0;34m\u001b[0m\u001b[0;34m\u001b[0m\u001b[0m\n\u001b[0m",
            "\u001b[0;31mIndexError\u001b[0m: string index out of range"
          ]
        }
      ]
    },
    {
      "cell_type": "code",
      "source": [
        "print(\"안녕하세요\"[-1])"
      ],
      "metadata": {
        "colab": {
          "base_uri": "https://localhost:8080/"
        },
        "id": "uhRXVZcPGkTw",
        "outputId": "52312993-c4d2-416d-c200-0e22669cbfd5"
      },
      "execution_count": null,
      "outputs": [
        {
          "output_type": "stream",
          "name": "stdout",
          "text": [
            "요\n"
          ]
        }
      ]
    },
    {
      "cell_type": "markdown",
      "source": [
        "#### 슬라이싱"
      ],
      "metadata": {
        "id": "qWLCmz3KNyol"
      }
    },
    {
      "cell_type": "code",
      "source": [
        "# 인덱스 범위 지정 = 슬라이싱\n",
        "# [시작번호:끝번호]\n",
        "# 파이썬은 끝번호를 포함하지 않음\n",
        "# 안녕 => 0:1 => 0:1+! => 0:2\n",
        "\n",
        "# 시작번호 생략\n",
        "print(\"안녕하세요\"[0:1+1])\n",
        "print(\"안녕하세요\"[:2])"
      ],
      "metadata": {
        "colab": {
          "base_uri": "https://localhost:8080/"
        },
        "id": "Y9tas39xIDLY",
        "outputId": "d384c486-e3e1-465a-dbc6-e63d13faccf7"
      },
      "execution_count": null,
      "outputs": [
        {
          "output_type": "stream",
          "name": "stdout",
          "text": [
            "안녕\n",
            "안녕\n"
          ]
        }
      ]
    },
    {
      "cell_type": "code",
      "source": [
        "# 끝번호 생략\n",
        "print(\"안녕하세요\"[2:5])\n",
        "print(\"안녕하세요\"[2:])"
      ],
      "metadata": {
        "colab": {
          "base_uri": "https://localhost:8080/"
        },
        "id": "dPKDbrTsN-7y",
        "outputId": "849298d0-69b2-4947-ac1d-78a193fc580c"
      },
      "execution_count": null,
      "outputs": [
        {
          "output_type": "stream",
          "name": "stdout",
          "text": [
            "하세요\n",
            "하세요\n"
          ]
        }
      ]
    },
    {
      "cell_type": "markdown",
      "source": [
        "#### 문자열의 길이"
      ],
      "metadata": {
        "id": "t37GjbcVRYhV"
      }
    },
    {
      "cell_type": "code",
      "source": [
        "# legth 문자열 길이 반환 return\n",
        "print(len(\"안녕하세요\"))"
      ],
      "metadata": {
        "colab": {
          "base_uri": "https://localhost:8080/"
        },
        "id": "5_JiwHLoOFlU",
        "outputId": "8748e482-32df-4cf3-f540-28d72ba4efe2"
      },
      "execution_count": null,
      "outputs": [
        {
          "output_type": "stream",
          "name": "stdout",
          "text": [
            "5\n"
          ]
        }
      ]
    },
    {
      "cell_type": "markdown",
      "source": [
        "## 숫자"
      ],
      "metadata": {
        "id": "5d-ONzASTjaE"
      }
    },
    {
      "cell_type": "code",
      "source": [
        "# 정수\n",
        "print(23)\n",
        "print(type(23))"
      ],
      "metadata": {
        "colab": {
          "base_uri": "https://localhost:8080/"
        },
        "id": "lwyqYIOgRemi",
        "outputId": "4844d454-4b96-4f41-f28f-e525975d7e47"
      },
      "execution_count": null,
      "outputs": [
        {
          "output_type": "stream",
          "name": "stdout",
          "text": [
            "23\n",
            "<class 'int'>\n"
          ]
        }
      ]
    },
    {
      "cell_type": "code",
      "source": [
        "# 실수\n",
        "print(2.3)\n",
        "print(type(2.3))"
      ],
      "metadata": {
        "colab": {
          "base_uri": "https://localhost:8080/"
        },
        "id": "YCrHa2BYTdGN",
        "outputId": "d0f30d87-73bd-49c2-900e-4b7dac3d88ec"
      },
      "execution_count": null,
      "outputs": [
        {
          "output_type": "stream",
          "name": "stdout",
          "text": [
            "2.3\n",
            "<class 'float'>\n"
          ]
        }
      ]
    },
    {
      "cell_type": "markdown",
      "source": [
        "### 사칙연산자"
      ],
      "metadata": {
        "id": "c-dTwzeRUSFz"
      }
    },
    {
      "cell_type": "code",
      "source": [
        "print(3+2)\n",
        "print(3-2)\n",
        "print(3*2)\n",
        "print(3/2)"
      ],
      "metadata": {
        "colab": {
          "base_uri": "https://localhost:8080/"
        },
        "id": "0wL7X9jHTomM",
        "outputId": "6917750c-3136-4f86-8ca1-9b4547f172bc"
      },
      "execution_count": null,
      "outputs": [
        {
          "output_type": "stream",
          "name": "stdout",
          "text": [
            "5\n",
            "1\n",
            "6\n",
            "1.5\n"
          ]
        }
      ]
    },
    {
      "cell_type": "code",
      "source": [
        "# 나누기\n",
        "print(3/2) # 실수\n",
        "print(3//2) # 몫\n",
        "print(3%3) #나머지 = 정수"
      ],
      "metadata": {
        "colab": {
          "base_uri": "https://localhost:8080/"
        },
        "id": "mQlgDGLrUxQd",
        "outputId": "38619720-2041-4000-b139-8ecab040f9a0"
      },
      "execution_count": null,
      "outputs": [
        {
          "output_type": "stream",
          "name": "stdout",
          "text": [
            "1.5\n",
            "1\n",
            "0\n"
          ]
        }
      ]
    },
    {
      "cell_type": "code",
      "source": [
        "# 제곱\n",
        "2**2"
      ],
      "metadata": {
        "colab": {
          "base_uri": "https://localhost:8080/"
        },
        "id": "QivA4PpWU4-4",
        "outputId": "7e691a11-e973-4d47-9c29-819f384ba8f8"
      },
      "execution_count": null,
      "outputs": [
        {
          "output_type": "execute_result",
          "data": {
            "text/plain": [
              "4"
            ]
          },
          "metadata": {},
          "execution_count": 74
        }
      ]
    },
    {
      "cell_type": "code",
      "source": [
        "2**3"
      ],
      "metadata": {
        "colab": {
          "base_uri": "https://localhost:8080/"
        },
        "id": "_PwnCIXTVT5m",
        "outputId": "ebb4d37b-54a4-4d66-dddb-8819915d4fce"
      },
      "execution_count": null,
      "outputs": [
        {
          "output_type": "execute_result",
          "data": {
            "text/plain": [
              "8"
            ]
          },
          "metadata": {},
          "execution_count": 75
        }
      ]
    },
    {
      "cell_type": "code",
      "source": [
        "2**4"
      ],
      "metadata": {
        "colab": {
          "base_uri": "https://localhost:8080/"
        },
        "id": "6mk7lh9CVVB8",
        "outputId": "305a487c-c803-4ee0-f949-27aeaefd3189"
      },
      "execution_count": null,
      "outputs": [
        {
          "output_type": "execute_result",
          "data": {
            "text/plain": [
              "16"
            ]
          },
          "metadata": {},
          "execution_count": 76
        }
      ]
    },
    {
      "cell_type": "markdown",
      "source": [
        "### 우선순위"
      ],
      "metadata": {
        "id": "As6pI90AWI83"
      }
    },
    {
      "cell_type": "code",
      "source": [
        "2+2*2"
      ],
      "metadata": {
        "colab": {
          "base_uri": "https://localhost:8080/"
        },
        "id": "QSTa6xYFVV8R",
        "outputId": "4316f41c-4f4d-4e42-bc98-2fbcbc065360"
      },
      "execution_count": null,
      "outputs": [
        {
          "output_type": "execute_result",
          "data": {
            "text/plain": [
              "6"
            ]
          },
          "metadata": {},
          "execution_count": 77
        }
      ]
    },
    {
      "cell_type": "code",
      "source": [
        "2+(2*2)"
      ],
      "metadata": {
        "colab": {
          "base_uri": "https://localhost:8080/"
        },
        "id": "BmddQGM9WNPq",
        "outputId": "6d50f06c-dbfc-4190-fa0a-a73e2a4cd451"
      },
      "execution_count": null,
      "outputs": [
        {
          "output_type": "execute_result",
          "data": {
            "text/plain": [
              "6"
            ]
          },
          "metadata": {},
          "execution_count": 78
        }
      ]
    },
    {
      "cell_type": "code",
      "source": [
        "2+2-((2*2)/2)*2"
      ],
      "metadata": {
        "colab": {
          "base_uri": "https://localhost:8080/"
        },
        "id": "VjWwIVhhWPvK",
        "outputId": "ca78f484-d1a7-40c7-f3e6-8e9f7ed69af9"
      },
      "execution_count": null,
      "outputs": [
        {
          "output_type": "execute_result",
          "data": {
            "text/plain": [
              "0.0"
            ]
          },
          "metadata": {},
          "execution_count": 79
        }
      ]
    },
    {
      "cell_type": "code",
      "source": [
        "2+2-(((2*2)/2)*2)"
      ],
      "metadata": {
        "colab": {
          "base_uri": "https://localhost:8080/"
        },
        "id": "KyNyqvq3WYOq",
        "outputId": "08c54bbc-0dee-4a15-b172-3f67581740fa"
      },
      "execution_count": null,
      "outputs": [
        {
          "output_type": "execute_result",
          "data": {
            "text/plain": [
              "0.0"
            ]
          },
          "metadata": {},
          "execution_count": 80
        }
      ]
    },
    {
      "cell_type": "markdown",
      "source": [
        "### 숫자와 문자열 연산"
      ],
      "metadata": {
        "id": "Qj3g_EW9aQHV"
      }
    },
    {
      "cell_type": "code",
      "source": [
        "number = 4\n",
        "string = \"랑해\"\n",
        "print(number + string)"
      ],
      "metadata": {
        "colab": {
          "base_uri": "https://localhost:8080/",
          "height": 209
        },
        "id": "qJL29MMeWhXf",
        "outputId": "18989fa0-c8cb-4044-8529-dc32ef56c0e9"
      },
      "execution_count": null,
      "outputs": [
        {
          "output_type": "error",
          "ename": "TypeError",
          "evalue": "ignored",
          "traceback": [
            "\u001b[0;31m---------------------------------------------------------------------------\u001b[0m",
            "\u001b[0;31mTypeError\u001b[0m                                 Traceback (most recent call last)",
            "\u001b[0;32m<ipython-input-81-52d45bee45a0>\u001b[0m in \u001b[0;36m<cell line: 3>\u001b[0;34m()\u001b[0m\n\u001b[1;32m      1\u001b[0m \u001b[0mnumber\u001b[0m \u001b[0;34m=\u001b[0m \u001b[0;36m4\u001b[0m\u001b[0;34m\u001b[0m\u001b[0;34m\u001b[0m\u001b[0m\n\u001b[1;32m      2\u001b[0m \u001b[0mstring\u001b[0m \u001b[0;34m=\u001b[0m \u001b[0;34m\"랑해\"\u001b[0m\u001b[0;34m\u001b[0m\u001b[0;34m\u001b[0m\u001b[0m\n\u001b[0;32m----> 3\u001b[0;31m \u001b[0mprint\u001b[0m\u001b[0;34m(\u001b[0m\u001b[0mnumber\u001b[0m \u001b[0;34m+\u001b[0m \u001b[0mstring\u001b[0m\u001b[0;34m)\u001b[0m\u001b[0;34m\u001b[0m\u001b[0;34m\u001b[0m\u001b[0m\n\u001b[0m",
            "\u001b[0;31mTypeError\u001b[0m: unsupported operand type(s) for +: 'int' and 'str'"
          ]
        }
      ]
    },
    {
      "cell_type": "code",
      "source": [
        "number = \"4\"\n",
        "string = \"랑해\"\n",
        "print(number + string)"
      ],
      "metadata": {
        "colab": {
          "base_uri": "https://localhost:8080/"
        },
        "id": "7xxhh6VBbPkU",
        "outputId": "194fb10a-d4d8-4280-c7f3-8663e79d7a26"
      },
      "execution_count": null,
      "outputs": [
        {
          "output_type": "stream",
          "name": "stdout",
          "text": [
            "4랑해\n"
          ]
        }
      ]
    },
    {
      "cell_type": "markdown",
      "source": [
        "### 문자열의 우선순위"
      ],
      "metadata": {
        "id": "VtJD51AHbJA7"
      }
    },
    {
      "cell_type": "code",
      "source": [
        "print(\"안녕\"+\"하세요\")"
      ],
      "metadata": {
        "colab": {
          "base_uri": "https://localhost:8080/"
        },
        "id": "RETNbSiFaWwH",
        "outputId": "78e1a5f9-674d-459b-a944-531624450613"
      },
      "execution_count": null,
      "outputs": [
        {
          "output_type": "stream",
          "name": "stdout",
          "text": [
            "안녕하세요\n"
          ]
        }
      ]
    },
    {
      "cell_type": "code",
      "source": [
        "print(\"안녕\"+\"하세요\"*3)"
      ],
      "metadata": {
        "colab": {
          "base_uri": "https://localhost:8080/"
        },
        "id": "P1kgD_xIbMd_",
        "outputId": "dcb07277-d8ef-46a3-903a-fee8d93b9e35"
      },
      "execution_count": null,
      "outputs": [
        {
          "output_type": "stream",
          "name": "stdout",
          "text": [
            "안녕하세요하세요하세요\n"
          ]
        }
      ]
    },
    {
      "cell_type": "code",
      "source": [
        "print((\"안녕\"+\"하세요\")*3)"
      ],
      "metadata": {
        "colab": {
          "base_uri": "https://localhost:8080/"
        },
        "id": "dZoj7RI1bZJe",
        "outputId": "6f68594a-b4cc-4a48-e6d4-61635cf024c1"
      },
      "execution_count": null,
      "outputs": [
        {
          "output_type": "stream",
          "name": "stdout",
          "text": [
            "안녕하세요안녕하세요안녕하세요\n"
          ]
        }
      ]
    },
    {
      "cell_type": "markdown",
      "source": [
        "## 변수"
      ],
      "metadata": {
        "id": "0L3ldLAjeSqT"
      }
    },
    {
      "cell_type": "code",
      "source": [
        "# 변수 생성\n",
        "pi = 3.14\n",
        "# 변수 확인\n",
        "pi"
      ],
      "metadata": {
        "colab": {
          "base_uri": "https://localhost:8080/"
        },
        "id": "BplgIx3WblEu",
        "outputId": "d8ef3270-82a9-4017-9bbf-139a7f22f65d"
      },
      "execution_count": null,
      "outputs": [
        {
          "output_type": "execute_result",
          "data": {
            "text/plain": [
              "3.14"
            ]
          },
          "metadata": {},
          "execution_count": 87
        }
      ]
    },
    {
      "cell_type": "code",
      "source": [
        "# 변수 사용\n",
        "print(pi + pi)"
      ],
      "metadata": {
        "colab": {
          "base_uri": "https://localhost:8080/"
        },
        "id": "JMk0zkTVeXut",
        "outputId": "0bc9b182-787b-4bf0-aac0-177b26cc9161"
      },
      "execution_count": null,
      "outputs": [
        {
          "output_type": "stream",
          "name": "stdout",
          "text": [
            "6.28\n"
          ]
        }
      ]
    },
    {
      "cell_type": "markdown",
      "source": [
        "### 연산"
      ],
      "metadata": {
        "id": "eSaJDKWegNea"
      }
    },
    {
      "cell_type": "code",
      "source": [
        "# 사칙연산\n",
        "print(pi+pi)\n",
        "print(pi-pi)\n",
        "print(pi*pi)\n",
        "print(pi/pi)\n",
        "print(pi//2) #몫\n",
        "print(pi%2) #나머지\n",
        "print(pi**2) #제곱"
      ],
      "metadata": {
        "colab": {
          "base_uri": "https://localhost:8080/"
        },
        "id": "csoMqrMGe5iA",
        "outputId": "a430cea5-5354-46d9-dda7-16ae9dbeef4c"
      },
      "execution_count": null,
      "outputs": [
        {
          "output_type": "stream",
          "name": "stdout",
          "text": [
            "6.28\n",
            "0.0\n",
            "9.8596\n",
            "1.0\n",
            "1.0\n",
            "1.1400000000000001\n",
            "9.8596\n"
          ]
        }
      ]
    },
    {
      "cell_type": "code",
      "source": [
        "# 원의 둘레 = 2*pi*r\n",
        "# 원의 넓이 = pi*r*r\n",
        "pi = 3.14\n",
        "r = 5\n",
        "print(\"원의 둘레: \",2*pi*r)\n",
        "print(\"원의 넓이: \",pi*r*r)"
      ],
      "metadata": {
        "colab": {
          "base_uri": "https://localhost:8080/"
        },
        "id": "PEvVBPCHhKR4",
        "outputId": "65655813-5229-49c5-ae96-218b8bd422c4"
      },
      "execution_count": null,
      "outputs": [
        {
          "output_type": "stream",
          "name": "stdout",
          "text": [
            "원의 둘레:  31.400000000000002\n",
            "원의 넓이:  78.5\n"
          ]
        }
      ]
    },
    {
      "cell_type": "markdown",
      "source": [
        "### 복합대입연산자"
      ],
      "metadata": {
        "id": "yltpb_JXn_cL"
      }
    },
    {
      "cell_type": "code",
      "source": [
        "# += 숫자연산\n",
        "no = 10\n",
        "no += 1\n",
        "no += 1\n",
        "no += 1\n",
        "print(no)"
      ],
      "metadata": {
        "colab": {
          "base_uri": "https://localhost:8080/"
        },
        "id": "VTp8Esbxilw7",
        "outputId": "23ff2499-884c-4504-98a3-96af39f4b734"
      },
      "execution_count": null,
      "outputs": [
        {
          "output_type": "stream",
          "name": "stdout",
          "text": [
            "13\n"
          ]
        }
      ]
    },
    {
      "cell_type": "code",
      "source": [
        "# += 문자연산(+,*)\n",
        "string = \"안녕\"\n",
        "string += \"!\"\n",
        "string += \"!\"\n",
        "string += \"!\"\n",
        "print(string)"
      ],
      "metadata": {
        "colab": {
          "base_uri": "https://localhost:8080/"
        },
        "id": "9Aut18iToPrl",
        "outputId": "ef4ab09c-621f-4d64-9b4f-39648ca5e2be"
      },
      "execution_count": null,
      "outputs": [
        {
          "output_type": "stream",
          "name": "stdout",
          "text": [
            "안녕!!!\n"
          ]
        }
      ]
    },
    {
      "cell_type": "markdown",
      "source": [
        "### 사용자입력"
      ],
      "metadata": {
        "id": "LgzmnpDyrpK2"
      }
    },
    {
      "cell_type": "code",
      "source": [
        "# 사용자 입력 값을 반환\n",
        "input(\"문자를 입력하세요>\")"
      ],
      "metadata": {
        "colab": {
          "base_uri": "https://localhost:8080/",
          "height": 54
        },
        "id": "JGCVNIx5pEME",
        "outputId": "2c1b7c8e-1765-4714-8614-e1225c385389"
      },
      "execution_count": null,
      "outputs": [
        {
          "name": "stdout",
          "output_type": "stream",
          "text": [
            "문자를 입력하세요>대한민국\n"
          ]
        },
        {
          "output_type": "execute_result",
          "data": {
            "text/plain": [
              "'대한민국'"
            ],
            "application/vnd.google.colaboratory.intrinsic+json": {
              "type": "string"
            }
          },
          "metadata": {},
          "execution_count": 96
        }
      ]
    },
    {
      "cell_type": "code",
      "source": [
        "input(\"숫자를 입력하세요>\")"
      ],
      "metadata": {
        "colab": {
          "base_uri": "https://localhost:8080/",
          "height": 54
        },
        "id": "Myqs_2FBrvoQ",
        "outputId": "aaba8452-408e-4190-aea7-0d6600bcb2a1"
      },
      "execution_count": null,
      "outputs": [
        {
          "name": "stdout",
          "output_type": "stream",
          "text": [
            "숫자를 입력하세요>10\n"
          ]
        },
        {
          "output_type": "execute_result",
          "data": {
            "text/plain": [
              "'10'"
            ],
            "application/vnd.google.colaboratory.intrinsic+json": {
              "type": "string"
            }
          },
          "metadata": {},
          "execution_count": 97
        }
      ]
    },
    {
      "cell_type": "code",
      "source": [
        "# 문자열\n",
        "var1 = input(\"문자를 입력하세요\")\n",
        "print(type(var1))"
      ],
      "metadata": {
        "colab": {
          "base_uri": "https://localhost:8080/"
        },
        "id": "9WjazUrQsrri",
        "outputId": "a97ef14f-8c1b-4739-c430-0ae1ec4bd423"
      },
      "execution_count": null,
      "outputs": [
        {
          "output_type": "stream",
          "name": "stdout",
          "text": [
            "문자를 입력하세요10\n",
            "<class 'str'>\n"
          ]
        }
      ]
    },
    {
      "cell_type": "code",
      "source": [
        "# 숫자\n",
        "var2 = input(\"숫자를 입력하세요\")\n",
        "print(type(var2))"
      ],
      "metadata": {
        "colab": {
          "base_uri": "https://localhost:8080/"
        },
        "id": "IcMuveZasx1W",
        "outputId": "8a4c17ad-ed39-44d8-f3e0-ef140ea27558"
      },
      "execution_count": null,
      "outputs": [
        {
          "output_type": "stream",
          "name": "stdout",
          "text": [
            "숫자를 입력하세요10\n",
            "<class 'str'>\n"
          ]
        }
      ]
    },
    {
      "cell_type": "code",
      "source": [
        "# bool\n",
        "var3 = input(\"bool을 입력하세요\")\n",
        "print(type(var3))"
      ],
      "metadata": {
        "colab": {
          "base_uri": "https://localhost:8080/"
        },
        "id": "K4Wamm9zs36y",
        "outputId": "da8bd5bb-72d0-4839-b47e-ec91c71d7e23"
      },
      "execution_count": null,
      "outputs": [
        {
          "output_type": "stream",
          "name": "stdout",
          "text": [
            "bool을 입력하세요True\n",
            "<class 'str'>\n"
          ]
        }
      ]
    },
    {
      "cell_type": "code",
      "source": [
        "no = input(\"정수를 입력하세요>\")\n",
        "print(\"계산 결과: \",no+10) #input은 str로만 저장한다!!!!"
      ],
      "metadata": {
        "colab": {
          "base_uri": "https://localhost:8080/",
          "height": 209
        },
        "id": "y5XVXg1Tr0N9",
        "outputId": "d235615c-9ec1-4268-d206-64fe8eb5565e"
      },
      "execution_count": null,
      "outputs": [
        {
          "name": "stdout",
          "output_type": "stream",
          "text": [
            "정수를 입력하세요>10\n"
          ]
        },
        {
          "output_type": "error",
          "ename": "TypeError",
          "evalue": "ignored",
          "traceback": [
            "\u001b[0;31m---------------------------------------------------------------------------\u001b[0m",
            "\u001b[0;31mTypeError\u001b[0m                                 Traceback (most recent call last)",
            "\u001b[0;32m<ipython-input-101-21024a8d7704>\u001b[0m in \u001b[0;36m<cell line: 2>\u001b[0;34m()\u001b[0m\n\u001b[1;32m      1\u001b[0m \u001b[0mno\u001b[0m \u001b[0;34m=\u001b[0m \u001b[0minput\u001b[0m\u001b[0;34m(\u001b[0m\u001b[0;34m\"정수를 입력하세요>\"\u001b[0m\u001b[0;34m)\u001b[0m\u001b[0;34m\u001b[0m\u001b[0;34m\u001b[0m\u001b[0m\n\u001b[0;32m----> 2\u001b[0;31m \u001b[0mprint\u001b[0m\u001b[0;34m(\u001b[0m\u001b[0;34m\"계산 결과: \"\u001b[0m\u001b[0;34m,\u001b[0m\u001b[0mno\u001b[0m\u001b[0;34m+\u001b[0m\u001b[0;36m10\u001b[0m\u001b[0;34m)\u001b[0m\u001b[0;34m\u001b[0m\u001b[0;34m\u001b[0m\u001b[0m\n\u001b[0m",
            "\u001b[0;31mTypeError\u001b[0m: can only concatenate str (not \"int\") to str"
          ]
        }
      ]
    },
    {
      "cell_type": "code",
      "source": [
        "no = input(\"정수를 입력하세요>\")\n",
        "print(\"계산 결과: \",int(no)+10) #정수형으로 변환후 연산"
      ],
      "metadata": {
        "colab": {
          "base_uri": "https://localhost:8080/"
        },
        "id": "UccMKVPrtnM1",
        "outputId": "71d2767a-e209-45cf-e17b-4d307ecb4da8"
      },
      "execution_count": null,
      "outputs": [
        {
          "output_type": "stream",
          "name": "stdout",
          "text": [
            "정수를 입력하세요>10\n",
            "계산 결과:  20\n"
          ]
        }
      ]
    },
    {
      "cell_type": "markdown",
      "source": [
        "### 캐스트 함수"
      ],
      "metadata": {
        "id": "jvhfUj8tu3G8"
      }
    },
    {
      "cell_type": "code",
      "source": [
        "# 정수로 변환 int()\n",
        "input_a = input(\"첫번째 정수를 입력하세요>\")\n",
        "input_b = input(\"두번째 정수를 입력하세요>\")\n",
        "int_a = int(input_a)\n",
        "int_b = int(input_b)\n",
        "print(\"문자열 = \",input_a+input_b)\n",
        "print(\"정수 = \",int_a+int_b)"
      ],
      "metadata": {
        "colab": {
          "base_uri": "https://localhost:8080/"
        },
        "id": "_hYGHf9ZgUjY",
        "outputId": "7b7f466f-3ee8-475b-f80f-1af6f03d17f8"
      },
      "execution_count": null,
      "outputs": [
        {
          "output_type": "stream",
          "name": "stdout",
          "text": [
            "첫번째 정수를 입력하세요>10\n",
            "두번째 정수를 입력하세요>20\n",
            "문자열 =  1020\n",
            "정수 =  30\n"
          ]
        }
      ]
    },
    {
      "cell_type": "code",
      "source": [
        "# 실수로 변환 float()\n",
        "input_a = input(\"첫번째 정수를 입력하세요>\")\n",
        "input_b = input(\"두번째 정수를 입력하세요>\")\n",
        "int_a = float(input_a)\n",
        "int_b = float(input_b)\n",
        "print(\"문자열 = \",input_a+input_b)\n",
        "print(\"실수 = \",int_a+int_b)"
      ],
      "metadata": {
        "colab": {
          "base_uri": "https://localhost:8080/"
        },
        "id": "kSgl0CDggTX8",
        "outputId": "59026163-789d-498f-e539-e8fd1b3a18ab"
      },
      "execution_count": null,
      "outputs": [
        {
          "output_type": "stream",
          "name": "stdout",
          "text": [
            "첫번째 정수를 입력하세요>10\n",
            "두번째 정수를 입력하세요>20\n",
            "문자열 =  1020\n",
            "실수 =  30.0\n"
          ]
        }
      ]
    },
    {
      "cell_type": "code",
      "source": [
        "# 문자 input시 int, float 변환\n",
        "a = int(\"23\")\n",
        "b = float(\"2.3\")\n",
        "print(type(a))\n",
        "print(type(b))"
      ],
      "metadata": {
        "colab": {
          "base_uri": "https://localhost:8080/"
        },
        "id": "tV8Xlsx9etjC",
        "outputId": "00fbbb27-1786-480e-cd58-501badff6760"
      },
      "execution_count": null,
      "outputs": [
        {
          "output_type": "stream",
          "name": "stdout",
          "text": [
            "<class 'int'>\n",
            "<class 'float'>\n"
          ]
        }
      ]
    },
    {
      "cell_type": "code",
      "source": [
        "# 숫자를 문자로 변환\n",
        "a = str(23) #정수\n",
        "b = str(2.3) #실수\n",
        "print(type(a))\n",
        "print(type(b))"
      ],
      "metadata": {
        "colab": {
          "base_uri": "https://localhost:8080/"
        },
        "id": "LP0zB9AFVRod",
        "outputId": "4aa3b381-2a17-45e1-f745-6c71e03e5acf"
      },
      "execution_count": null,
      "outputs": [
        {
          "output_type": "stream",
          "name": "stdout",
          "text": [
            "<class 'str'>\n",
            "<class 'str'>\n"
          ]
        }
      ]
    },
    {
      "cell_type": "markdown",
      "source": [
        "\n",
        "# ValueError"
      ],
      "metadata": {
        "id": "Bs4FJQay1qh2"
      }
    },
    {
      "cell_type": "code",
      "source": [
        "# 1) 숫자가 아닌 값을 숫자로 변환하는 경우\n",
        "int(\"안녕\")"
      ],
      "metadata": {
        "colab": {
          "base_uri": "https://localhost:8080/",
          "height": 190
        },
        "id": "_qWK0URLTfFc",
        "outputId": "f79f9ea6-e855-4f22-8a0e-b61150847dff"
      },
      "execution_count": null,
      "outputs": [
        {
          "output_type": "error",
          "ename": "ValueError",
          "evalue": "ignored",
          "traceback": [
            "\u001b[0;31m---------------------------------------------------------------------------\u001b[0m",
            "\u001b[0;31mValueError\u001b[0m                                Traceback (most recent call last)",
            "\u001b[0;32m<ipython-input-107-fd6a93eb1f4b>\u001b[0m in \u001b[0;36m<cell line: 2>\u001b[0;34m()\u001b[0m\n\u001b[1;32m      1\u001b[0m \u001b[0;31m# 1) 숫자가 아닌 값을 숫자로 변환하는 경우\u001b[0m\u001b[0;34m\u001b[0m\u001b[0;34m\u001b[0m\u001b[0m\n\u001b[0;32m----> 2\u001b[0;31m \u001b[0mint\u001b[0m\u001b[0;34m(\u001b[0m\u001b[0;34m\"안녕\"\u001b[0m\u001b[0;34m)\u001b[0m\u001b[0;34m\u001b[0m\u001b[0;34m\u001b[0m\u001b[0m\n\u001b[0m",
            "\u001b[0;31mValueError\u001b[0m: invalid literal for int() with base 10: '안녕'"
          ]
        }
      ]
    },
    {
      "cell_type": "code",
      "source": [
        "# 2) 실수를 정수로 변환하는 경우\n",
        "int(\"2.3\")"
      ],
      "metadata": {
        "colab": {
          "base_uri": "https://localhost:8080/",
          "height": 190
        },
        "id": "4Hzu9yy115Wh",
        "outputId": "308ee87f-900c-4840-f42d-ec8053d01f6b"
      },
      "execution_count": null,
      "outputs": [
        {
          "output_type": "error",
          "ename": "ValueError",
          "evalue": "ignored",
          "traceback": [
            "\u001b[0;31m---------------------------------------------------------------------------\u001b[0m",
            "\u001b[0;31mValueError\u001b[0m                                Traceback (most recent call last)",
            "\u001b[0;32m<ipython-input-108-a6156ff8ef01>\u001b[0m in \u001b[0;36m<cell line: 2>\u001b[0;34m()\u001b[0m\n\u001b[1;32m      1\u001b[0m \u001b[0;31m# 2) 실수를 정수로 변환하는 경우\u001b[0m\u001b[0;34m\u001b[0m\u001b[0;34m\u001b[0m\u001b[0m\n\u001b[0;32m----> 2\u001b[0;31m \u001b[0mint\u001b[0m\u001b[0;34m(\u001b[0m\u001b[0;34m\"2.3\"\u001b[0m\u001b[0;34m)\u001b[0m\u001b[0;34m\u001b[0m\u001b[0;34m\u001b[0m\u001b[0m\n\u001b[0m",
            "\u001b[0;31mValueError\u001b[0m: invalid literal for int() with base 10: '2.3'"
          ]
        }
      ]
    },
    {
      "cell_type": "markdown",
      "source": [
        "# 변환 프로그램"
      ],
      "metadata": {
        "id": "dTf0eq8i4XHL"
      }
    },
    {
      "cell_type": "markdown",
      "source": [
        "## m -> cm"
      ],
      "metadata": {
        "id": "KE2YSmXu2-pE"
      }
    },
    {
      "cell_type": "code",
      "source": [
        "# 1m = 100cm\n",
        "meter = input(\"키(m)를 입력하세요>\")\n",
        "meter = float(meter)\n",
        "height = meter * 100\n",
        "print(meter,\"m는 cm로 변환하면 \", height,\"cm 입니다.\")"
      ],
      "metadata": {
        "colab": {
          "base_uri": "https://localhost:8080/"
        },
        "id": "94C3IhmU2MEc",
        "outputId": "62bd97ec-385d-48ad-952f-a0a83ed11e10"
      },
      "execution_count": null,
      "outputs": [
        {
          "output_type": "stream",
          "name": "stdout",
          "text": [
            "키(m)를 입력하세요>1.7\n",
            "1.7 m는 cm로 변환하면  170.0 cm 입니다.\n"
          ]
        }
      ]
    },
    {
      "cell_type": "markdown",
      "source": [
        "## inch -> cm"
      ],
      "metadata": {
        "id": "Mdj0NpoJ38f0"
      }
    },
    {
      "cell_type": "code",
      "source": [
        "# 1inch = 2.54cm\n",
        "inch = input(\"인치(inch)를 입력하세요\")\n",
        "inch = float(inch)\n",
        "cm = inch*2.54\n",
        "print(inch,\"inch는 cm로 변환하면 \", cm, \"cm입니다.\")"
      ],
      "metadata": {
        "colab": {
          "base_uri": "https://localhost:8080/"
        },
        "id": "oxdcaVrR3p00",
        "outputId": "22bcdb71-eecc-45eb-dcae-277017e8ab7d"
      },
      "execution_count": null,
      "outputs": [
        {
          "output_type": "stream",
          "name": "stdout",
          "text": [
            "인치(inch)를 입력하세요1\n",
            "1.0 inch는 cm로 변환하면  2.54 cm입니다.\n"
          ]
        }
      ]
    },
    {
      "cell_type": "markdown",
      "source": [
        "# 파이썬 튜터\n",
        "코드 시각화 이해에 도움\n",
        "https://pythontutor.com/visualize.html#mode=display"
      ],
      "metadata": {
        "id": "rU-Q65iP7hZA"
      }
    }
  ]
}