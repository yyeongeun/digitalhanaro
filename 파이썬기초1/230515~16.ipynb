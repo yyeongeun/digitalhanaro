{
  "nbformat": 4,
  "nbformat_minor": 0,
  "metadata": {
    "colab": {
      "provenance": [],
      "toc_visible": true,
      "authorship_tag": "ABX9TyNQq0i2QitGMKshXISEn+uL",
      "include_colab_link": true
    },
    "kernelspec": {
      "name": "python3",
      "display_name": "Python 3"
    },
    "language_info": {
      "name": "python"
    }
  },
  "cells": [
    {
      "cell_type": "markdown",
      "metadata": {
        "id": "view-in-github",
        "colab_type": "text"
      },
      "source": [
        "<a href=\"https://colab.research.google.com/github/yyeongeun/digitalhanaro/blob/main/%ED%8C%8C%EC%9D%B4%EC%8D%AC%EA%B8%B0%EC%B4%881/230515~16.ipynb\" target=\"_parent\"><img src=\"https://colab.research.google.com/assets/colab-badge.svg\" alt=\"Open In Colab\"/></a>"
      ]
    },
    {
      "cell_type": "markdown",
      "source": [
        "# 리스트"
      ],
      "metadata": {
        "id": "2WFgMzaLu1Y-"
      }
    },
    {
      "cell_type": "markdown",
      "source": [
        "## 연결 vs 추가"
      ],
      "metadata": {
        "id": "Oq_F3CnnwpRC"
      }
    },
    {
      "cell_type": "code",
      "execution_count": null,
      "metadata": {
        "colab": {
          "base_uri": "https://localhost:8080/"
        },
        "id": "HIDj3S0OuUsg",
        "outputId": "f6bad7fc-6ae0-46b8-a0bb-27aa6fd3d51d"
      },
      "outputs": [
        {
          "output_type": "execute_result",
          "data": {
            "text/plain": [
              "[1, 2, 3, 4, 5, 6]"
            ]
          },
          "metadata": {},
          "execution_count": 1
        }
      ],
      "source": [
        "# 연결 +\n",
        "list_1 = [1,2,3]\n",
        "list_2 = [4,5,6]\n",
        "print(list_1 + list_2)"
      ]
    },
    {
      "cell_type": "code",
      "source": [
        "# 연결 *\n",
        "print(list_1*3) # 원본 리스트 값 유지"
      ],
      "metadata": {
        "colab": {
          "base_uri": "https://localhost:8080/"
        },
        "id": "BQun1UbRwxHG",
        "outputId": "34a50c1b-625f-4100-c36c-a6fae6ab75a2"
      },
      "execution_count": null,
      "outputs": [
        {
          "output_type": "stream",
          "name": "stdout",
          "text": [
            "[1, 2, 3, 1, 2, 3, 1, 2, 3]\n"
          ]
        }
      ]
    },
    {
      "cell_type": "code",
      "source": [
        "# 추가 + = 뒤에 추가\n",
        "list_1.append(5) # 원본 리스트 값 유지 X, 새 리스트\n",
        "print(list_1) # 파괴적 처리"
      ],
      "metadata": {
        "colab": {
          "base_uri": "https://localhost:8080/"
        },
        "id": "EywVoRQ4xIJJ",
        "outputId": "5eaabd46-8aaa-406a-b604-db8cf19ee86e"
      },
      "execution_count": null,
      "outputs": [
        {
          "output_type": "stream",
          "name": "stdout",
          "text": [
            "[1, 2, 3, 5]\n"
          ]
        }
      ]
    },
    {
      "cell_type": "code",
      "source": [
        "# 리스트 길이\n",
        "len(list_1) #요소의 개수"
      ],
      "metadata": {
        "colab": {
          "base_uri": "https://localhost:8080/"
        },
        "id": "FBLJo073xG8P",
        "outputId": "3fa12416-f0c5-4743-c14a-ace5d1644d4e"
      },
      "execution_count": null,
      "outputs": [
        {
          "output_type": "execute_result",
          "data": {
            "text/plain": [
              "4"
            ]
          },
          "metadata": {},
          "execution_count": 5
        }
      ]
    },
    {
      "cell_type": "code",
      "source": [
        "# 추가 = 중간에 추가 = 원하는 위치(인덱스 번호)에 추가\n",
        "list_1.insert(3,4) # 인덱스 3번 위치에 4라는 값(요소) 추가"
      ],
      "metadata": {
        "id": "L7n4rE0gzW9R"
      },
      "execution_count": null,
      "outputs": []
    },
    {
      "cell_type": "code",
      "source": [
        "print(list_1) # 파괴적 처리"
      ],
      "metadata": {
        "colab": {
          "base_uri": "https://localhost:8080/"
        },
        "id": "lwJniecnzecc",
        "outputId": "0948c5d6-e091-48d3-b0af-1d49bbba56a1"
      },
      "execution_count": null,
      "outputs": [
        {
          "output_type": "stream",
          "name": "stdout",
          "text": [
            "[1, 2, 3, 4, 5]\n"
          ]
        }
      ]
    },
    {
      "cell_type": "code",
      "source": [
        "# 추가 = + 연결 & 파괴적 처리 = 리스트 전체 요소\n",
        "list_1.extend(list_2)\n",
        "print(list_1)"
      ],
      "metadata": {
        "colab": {
          "base_uri": "https://localhost:8080/"
        },
        "id": "CdZV6RXrzlcD",
        "outputId": "f40ddebb-7814-42df-cdf8-4a3bd99d1432"
      },
      "execution_count": null,
      "outputs": [
        {
          "output_type": "stream",
          "name": "stdout",
          "text": [
            "[1, 2, 3, 4, 5, 4, 5, 6]\n"
          ]
        }
      ]
    },
    {
      "cell_type": "markdown",
      "source": [
        "## 제거\n",
        "1.   인덱스 번호로 제거 del pop\n",
        "2.   값으로 제거 remove\n"
      ],
      "metadata": {
        "id": "wg0jlh6O3WGr"
      }
    },
    {
      "cell_type": "code",
      "source": [
        "# 인덱스 번호로 제거\n",
        "# del 키워드 = delete\n",
        "del list_1[2]\n",
        "print(list_1)"
      ],
      "metadata": {
        "colab": {
          "base_uri": "https://localhost:8080/"
        },
        "id": "KQgt2Y7O3Qp1",
        "outputId": "ce0d030e-ceba-4a40-ed84-5f02bea9e2d2"
      },
      "execution_count": null,
      "outputs": [
        {
          "output_type": "stream",
          "name": "stdout",
          "text": [
            "[1, 2, 4, 5, 4, 5, 6]\n"
          ]
        }
      ]
    },
    {
      "cell_type": "code",
      "source": [
        "# pop 키워드\n",
        "list_1.pop(1)\n",
        "print(list_1)"
      ],
      "metadata": {
        "colab": {
          "base_uri": "https://localhost:8080/"
        },
        "id": "xux-0fFN3ViM",
        "outputId": "eafb317c-7918-4540-edb5-a3782c7c5fe1"
      },
      "execution_count": null,
      "outputs": [
        {
          "output_type": "stream",
          "name": "stdout",
          "text": [
            "[1, 4, 5, 4, 5, 6]\n"
          ]
        }
      ]
    },
    {
      "cell_type": "code",
      "source": [
        "# 값으로 제거\n",
        "# remove 함수\n",
        "list_1.remove(4) # 첫번째 4가 삭제\n",
        "print(list_1)"
      ],
      "metadata": {
        "colab": {
          "base_uri": "https://localhost:8080/"
        },
        "id": "c1xZ2CHG3scw",
        "outputId": "bc555054-1d12-4300-c824-d67d7b2aff77"
      },
      "execution_count": null,
      "outputs": [
        {
          "output_type": "stream",
          "name": "stdout",
          "text": [
            "[1, 5, 4, 5, 6]\n"
          ]
        }
      ]
    },
    {
      "cell_type": "code",
      "source": [
        "# 리스트 안의 모든 요소 제거 = 비우기 = 리스트 구조 살아있음\n",
        "list_1.clear()"
      ],
      "metadata": {
        "id": "yMRiydnu4Jwk"
      },
      "execution_count": null,
      "outputs": []
    },
    {
      "cell_type": "markdown",
      "source": [
        "## 정렬"
      ],
      "metadata": {
        "id": "P3MDgcdz83IU"
      }
    },
    {
      "cell_type": "code",
      "source": [
        "# 오름차순\n",
        "score = [75,55,40,90,100]\n",
        "score.sort()\n",
        "print(score)\n",
        "# 내림차순\n",
        "score.sort(reverse=True)\n",
        "print(score)"
      ],
      "metadata": {
        "colab": {
          "base_uri": "https://localhost:8080/"
        },
        "id": "ggHo8VTX85P-",
        "outputId": "1aaf1bca-a7c9-4e08-9174-db314ae14176"
      },
      "execution_count": null,
      "outputs": [
        {
          "output_type": "stream",
          "name": "stdout",
          "text": [
            "[40, 55, 75, 90, 100]\n",
            "[100, 90, 75, 55, 40]\n"
          ]
        }
      ]
    },
    {
      "cell_type": "code",
      "source": [
        "# in & not in\n",
        "print(75 in score)\n",
        "print(0 in score)\n",
        "print(75 not in score)\n",
        "print(0 not in score)"
      ],
      "metadata": {
        "colab": {
          "base_uri": "https://localhost:8080/"
        },
        "id": "Lm1CiBVx9FRN",
        "outputId": "c23308be-e600-4ca0-bc6d-5d79b18494ca"
      },
      "execution_count": null,
      "outputs": [
        {
          "output_type": "stream",
          "name": "stdout",
          "text": [
            "True\n",
            "False\n",
            "False\n",
            "True\n"
          ]
        }
      ]
    },
    {
      "cell_type": "markdown",
      "source": [
        "## 전개 연산자"
      ],
      "metadata": {
        "id": "nE0rDBuxzjrP"
      }
    },
    {
      "cell_type": "code",
      "source": [
        "# 1) 리스트 안에서 사용\n",
        "a = [1,2,3]\n",
        "b = [*a] # 비파괴적 처리 != append 함수와 다름\n",
        "c = [*a, *a]\n",
        "print(a)\n",
        "print(b)\n",
        "print(c)"
      ],
      "metadata": {
        "colab": {
          "base_uri": "https://localhost:8080/"
        },
        "id": "Ye_tMCcR82br",
        "outputId": "5bd1e1b5-cebd-47a4-daa0-48210543186d"
      },
      "execution_count": null,
      "outputs": [
        {
          "output_type": "stream",
          "name": "stdout",
          "text": [
            "[1, 2, 3]\n",
            "[1, 2, 3]\n",
            "[1, 2, 3, 1, 2, 3]\n"
          ]
        }
      ]
    },
    {
      "cell_type": "code",
      "source": [
        "# 2) 함수에서 사용\n",
        "print(a)\n",
        "print(*a)"
      ],
      "metadata": {
        "colab": {
          "base_uri": "https://localhost:8080/"
        },
        "id": "w616KV3P_087",
        "outputId": "c22d4a18-54d6-45b9-c25c-9e710b4eaec7"
      },
      "execution_count": null,
      "outputs": [
        {
          "output_type": "stream",
          "name": "stdout",
          "text": [
            "[1, 2, 3]\n",
            "1 2 3\n"
          ]
        }
      ]
    },
    {
      "cell_type": "markdown",
      "source": [
        "## 반복문\n"
      ],
      "metadata": {
        "id": "YKgmlw-TFCwf"
      }
    },
    {
      "cell_type": "markdown",
      "source": [
        "### 범위"
      ],
      "metadata": {
        "id": "e5C9gOtWFE3i"
      }
    },
    {
      "cell_type": "code",
      "source": [
        "# 1) 끝번호, 시작 번호 생략 (=처음부터)\n",
        "range(10)\n",
        "list(range(10))"
      ],
      "metadata": {
        "colab": {
          "base_uri": "https://localhost:8080/"
        },
        "id": "OoBL53W9FCGF",
        "outputId": "eeeb6ecb-6cf3-4f7e-da06-5b05312dd5b3"
      },
      "execution_count": null,
      "outputs": [
        {
          "output_type": "execute_result",
          "data": {
            "text/plain": [
              "[0, 1, 2, 3, 4, 5, 6, 7, 8, 9]"
            ]
          },
          "metadata": {},
          "execution_count": 20
        }
      ]
    },
    {
      "cell_type": "code",
      "source": [
        "# 2) 시작 번호, 끝번호 & 간격이 1\n",
        "range(1,10)\n",
        "list(range(1,10))"
      ],
      "metadata": {
        "colab": {
          "base_uri": "https://localhost:8080/"
        },
        "id": "g0fP_-0cFKaZ",
        "outputId": "a4160ddf-45e9-4efc-fc7d-cc2442953053"
      },
      "execution_count": null,
      "outputs": [
        {
          "output_type": "execute_result",
          "data": {
            "text/plain": [
              "[1, 2, 3, 4, 5, 6, 7, 8, 9]"
            ]
          },
          "metadata": {},
          "execution_count": 21
        }
      ]
    },
    {
      "cell_type": "code",
      "source": [
        "# 3) 시작 번호, 끝번호, 간격 2\n",
        "range(1,10,2)\n",
        "list(range(1,10,2))"
      ],
      "metadata": {
        "colab": {
          "base_uri": "https://localhost:8080/"
        },
        "id": "gAZVu-O2FPtI",
        "outputId": "39680b19-9d18-417d-afcd-ba1c39656423"
      },
      "execution_count": null,
      "outputs": [
        {
          "output_type": "execute_result",
          "data": {
            "text/plain": [
              "[1, 3, 5, 7, 9]"
            ]
          },
          "metadata": {},
          "execution_count": 23
        }
      ]
    },
    {
      "cell_type": "code",
      "source": [
        "# for 반복문\n",
        "for i in range(10):\n",
        "  print(i)\n",
        "  print(\"반복\")"
      ],
      "metadata": {
        "colab": {
          "base_uri": "https://localhost:8080/"
        },
        "id": "C_mPCyV3FWQ_",
        "outputId": "9e6228a0-04cc-4e26-995a-2047277d17f2"
      },
      "execution_count": null,
      "outputs": [
        {
          "output_type": "stream",
          "name": "stdout",
          "text": [
            "0\n",
            "반복\n",
            "1\n",
            "반복\n",
            "2\n",
            "반복\n",
            "3\n",
            "반복\n",
            "4\n",
            "반복\n",
            "5\n",
            "반복\n",
            "6\n",
            "반복\n",
            "7\n",
            "반복\n",
            "8\n",
            "반복\n",
            "9\n",
            "반복\n"
          ]
        }
      ]
    },
    {
      "cell_type": "code",
      "source": [
        "for i in range(1,10):\n",
        "  print(i)"
      ],
      "metadata": {
        "colab": {
          "base_uri": "https://localhost:8080/"
        },
        "id": "cZ3vdj_aFVNG",
        "outputId": "63429b89-a807-4718-e2c4-f8aea6916a50"
      },
      "execution_count": null,
      "outputs": [
        {
          "output_type": "stream",
          "name": "stdout",
          "text": [
            "1\n",
            "2\n",
            "3\n",
            "4\n",
            "5\n",
            "6\n",
            "7\n",
            "8\n",
            "9\n"
          ]
        }
      ]
    },
    {
      "cell_type": "code",
      "source": [
        "for i in range(1,10,2):\n",
        "  print(i)"
      ],
      "metadata": {
        "colab": {
          "base_uri": "https://localhost:8080/"
        },
        "id": "HMBuM-Z08QrB",
        "outputId": "ab9b4253-2495-4d5d-d7df-e4b58357c718"
      },
      "execution_count": null,
      "outputs": [
        {
          "output_type": "stream",
          "name": "stdout",
          "text": [
            "1\n",
            "3\n",
            "5\n",
            "7\n",
            "9\n"
          ]
        }
      ]
    },
    {
      "cell_type": "code",
      "source": [
        "# 리스트로 반복문\n",
        "list_a = [1,2,3] # 1차원\n",
        "list_b = [[1,2,3],[4,5,6]] # 2차원"
      ],
      "metadata": {
        "id": "QrftWGLSMWfO"
      },
      "execution_count": null,
      "outputs": []
    },
    {
      "cell_type": "code",
      "source": [
        "# 3개의 요소를 가지고 있어 3번 반복\n",
        "for i in list_a:\n",
        "  print(i)"
      ],
      "metadata": {
        "colab": {
          "base_uri": "https://localhost:8080/"
        },
        "id": "li1r6MEPMdrz",
        "outputId": "05ba8f1c-1d4b-459e-8739-0f6507e0e541"
      },
      "execution_count": null,
      "outputs": [
        {
          "output_type": "stream",
          "name": "stdout",
          "text": [
            "1\n",
            "2\n",
            "3\n"
          ]
        }
      ]
    },
    {
      "cell_type": "code",
      "source": [
        "# 2개의 요소를 가지고 있어 2번 반복\n",
        "# 여전히 리스트 형태로 출력\n",
        "for i in list_b:\n",
        "  print(i)"
      ],
      "metadata": {
        "colab": {
          "base_uri": "https://localhost:8080/"
        },
        "id": "KkKxnKfXMiGY",
        "outputId": "5e4ca333-9a40-44ed-983c-0c06b0512632"
      },
      "execution_count": null,
      "outputs": [
        {
          "output_type": "stream",
          "name": "stdout",
          "text": [
            "[1, 2, 3]\n",
            "[4, 5, 6]\n"
          ]
        }
      ]
    },
    {
      "cell_type": "code",
      "source": [
        "for i in list_b:\n",
        "  for j in i:\n",
        "    print(j)"
      ],
      "metadata": {
        "colab": {
          "base_uri": "https://localhost:8080/"
        },
        "id": "YTxenzhMNLpA",
        "outputId": "69058c99-1bb8-499a-a807-0f078efa12ae"
      },
      "execution_count": null,
      "outputs": [
        {
          "output_type": "stream",
          "name": "stdout",
          "text": [
            "1\n",
            "2\n",
            "3\n",
            "4\n",
            "5\n",
            "6\n"
          ]
        }
      ]
    },
    {
      "cell_type": "code",
      "source": [
        "list_c = [[1,2,3],[4,5,6],7]"
      ],
      "metadata": {
        "id": "rJMhf5gbOrVn"
      },
      "execution_count": null,
      "outputs": []
    },
    {
      "cell_type": "code",
      "source": [
        "for i in list_c:\n",
        "  print(i)\n",
        "  for j in i: #원소가 한개일땐 반복문 불가능 => error!\n",
        "    print(j)"
      ],
      "metadata": {
        "colab": {
          "base_uri": "https://localhost:8080/",
          "height": 390
        },
        "id": "FTKed1goOvdy",
        "outputId": "6ce8cf22-6fc2-4b81-8e1a-5e833aeddd67"
      },
      "execution_count": null,
      "outputs": [
        {
          "output_type": "stream",
          "name": "stdout",
          "text": [
            "[1, 2, 3]\n",
            "1\n",
            "2\n",
            "3\n",
            "[4, 5, 6]\n",
            "4\n",
            "5\n",
            "6\n",
            "7\n"
          ]
        },
        {
          "output_type": "error",
          "ename": "TypeError",
          "evalue": "ignored",
          "traceback": [
            "\u001b[0;31m---------------------------------------------------------------------------\u001b[0m",
            "\u001b[0;31mTypeError\u001b[0m                                 Traceback (most recent call last)",
            "\u001b[0;32m<ipython-input-33-212734c06e44>\u001b[0m in \u001b[0;36m<cell line: 1>\u001b[0;34m()\u001b[0m\n\u001b[1;32m      1\u001b[0m \u001b[0;32mfor\u001b[0m \u001b[0mi\u001b[0m \u001b[0;32min\u001b[0m \u001b[0mlist_c\u001b[0m\u001b[0;34m:\u001b[0m\u001b[0;34m\u001b[0m\u001b[0;34m\u001b[0m\u001b[0m\n\u001b[1;32m      2\u001b[0m   \u001b[0mprint\u001b[0m\u001b[0;34m(\u001b[0m\u001b[0mi\u001b[0m\u001b[0;34m)\u001b[0m\u001b[0;34m\u001b[0m\u001b[0;34m\u001b[0m\u001b[0m\n\u001b[0;32m----> 3\u001b[0;31m   \u001b[0;32mfor\u001b[0m \u001b[0mj\u001b[0m \u001b[0;32min\u001b[0m \u001b[0mi\u001b[0m\u001b[0;34m:\u001b[0m \u001b[0;31m#원소가 한개일땐 반복문 불가능 => error!\u001b[0m\u001b[0;34m\u001b[0m\u001b[0;34m\u001b[0m\u001b[0m\n\u001b[0m\u001b[1;32m      4\u001b[0m     \u001b[0mprint\u001b[0m\u001b[0;34m(\u001b[0m\u001b[0mj\u001b[0m\u001b[0;34m)\u001b[0m\u001b[0;34m\u001b[0m\u001b[0;34m\u001b[0m\u001b[0m\n",
            "\u001b[0;31mTypeError\u001b[0m: 'int' object is not iterable"
          ]
        }
      ]
    },
    {
      "cell_type": "code",
      "source": [
        "for i in list_c:\n",
        "  if type(i) == list: # 리스트인 경우만 for문 돌리기\n",
        "    for j in i:\n",
        "      print(j)\n",
        "  else:\n",
        "    print(i)"
      ],
      "metadata": {
        "colab": {
          "base_uri": "https://localhost:8080/"
        },
        "id": "oioTz0ZKPTV4",
        "outputId": "8dcca6d8-c179-4046-e497-de270a7b52b0"
      },
      "execution_count": null,
      "outputs": [
        {
          "output_type": "stream",
          "name": "stdout",
          "text": [
            "1\n",
            "2\n",
            "3\n",
            "4\n",
            "5\n",
            "6\n",
            "7\n"
          ]
        }
      ]
    },
    {
      "cell_type": "markdown",
      "source": [
        "# 딕셔너리\n",
        "\n",
        "{\"key\":value}\n",
        "[key] 인덱싱"
      ],
      "metadata": {
        "id": "t0U5WxFHLCqC"
      }
    },
    {
      "cell_type": "markdown",
      "source": [
        "## 딕셔너리 만들기"
      ],
      "metadata": {
        "id": "nAslGjGjqB3y"
      }
    },
    {
      "cell_type": "code",
      "source": [
        "# 리스트와 딕셔너리 비교\n",
        "# 딕셔너리 생성\n",
        "sd_dic = {\n",
        "    \"이름\" : \"정대만\",\n",
        "    \"나이\" : 19,\n",
        "    \"키\" : 183,\n",
        "    \"몸무게\" : 70\n",
        "}\n",
        "# 리스트 생성\n",
        "sd_list = [\"정대만\",19,183,70]"
      ],
      "metadata": {
        "id": "vbzPg6zULDF7"
      },
      "execution_count": null,
      "outputs": []
    },
    {
      "cell_type": "code",
      "source": [
        "# 이름 보기\n",
        "print(sd_dic[\"이름\"])\n",
        "print(sd_list[0])"
      ],
      "metadata": {
        "colab": {
          "base_uri": "https://localhost:8080/"
        },
        "id": "XEZ3RfilTARX",
        "outputId": "23d2d7d8-775d-472d-c19f-03bd811b0fdd"
      },
      "execution_count": null,
      "outputs": [
        {
          "output_type": "stream",
          "name": "stdout",
          "text": [
            "정대만\n",
            "정대만\n"
          ]
        }
      ]
    },
    {
      "cell_type": "code",
      "source": [
        "# 나이 보기\n",
        "print(sd_dic[\"나이\"])\n",
        "print(sd_list[1])"
      ],
      "metadata": {
        "colab": {
          "base_uri": "https://localhost:8080/"
        },
        "id": "VyLn0pPRSzG1",
        "outputId": "5485763f-c398-4090-a09e-3c83a46e4db6"
      },
      "execution_count": null,
      "outputs": [
        {
          "output_type": "stream",
          "name": "stdout",
          "text": [
            "19\n",
            "19\n"
          ]
        }
      ]
    },
    {
      "cell_type": "code",
      "source": [
        "# 몸무게 보기\n",
        "print(sd_dic[\"몸무게\"])\n",
        "print(sd_list[3])"
      ],
      "metadata": {
        "colab": {
          "base_uri": "https://localhost:8080/"
        },
        "id": "16lsX4eek6ED",
        "outputId": "b3af3e09-7765-4a53-d939-9cec72ec94da"
      },
      "execution_count": null,
      "outputs": [
        {
          "output_type": "stream",
          "name": "stdout",
          "text": [
            "70\n",
            "70\n"
          ]
        }
      ]
    },
    {
      "cell_type": "code",
      "source": [
        "# 딕셔너리 값 변경\n",
        "sd_dic[\"키\"] = 185\n",
        "print(sd_dic)\n",
        "\n",
        "# sd_dic{\"키\"} <= 실수하지 말 것!"
      ],
      "metadata": {
        "colab": {
          "base_uri": "https://localhost:8080/"
        },
        "id": "pNAIBzlkk9N2",
        "outputId": "f3edcbfe-1e62-40b0-ff86-4e75324dc452"
      },
      "execution_count": null,
      "outputs": [
        {
          "output_type": "stream",
          "name": "stdout",
          "text": [
            "{'이름': '정대만', '나이': 19, '키': 185, '몸무게': 70}\n"
          ]
        }
      ]
    },
    {
      "cell_type": "markdown",
      "source": [
        "## 여러개 값을 가지는 딕셔너리"
      ],
      "metadata": {
        "id": "7GN3X9pJp-Nw"
      }
    },
    {
      "cell_type": "code",
      "source": [
        "# 여러 개의 값을 가지는 딕셔너리 생성\n",
        "bs = {\n",
        "    \"선수\" : [\"채치수\",\"정대만\",\"송태섭\",\"강백호\",\"서태웅\"],\n",
        "    \"감독\" : [\"안감독\"],\n",
        "    \"매니저\" : [\"한나\"]\n",
        "}\n",
        "print(bs)"
      ],
      "metadata": {
        "colab": {
          "base_uri": "https://localhost:8080/"
        },
        "id": "xrQl_AkblqUk",
        "outputId": "7d384331-29aa-45ab-83eb-b58525916c91"
      },
      "execution_count": null,
      "outputs": [
        {
          "output_type": "stream",
          "name": "stdout",
          "text": [
            "{'선수': ['채치수', '정대만', '송태섭', '강백호', '서태웅'], '감독': ['안감독'], '매니저': ['한나']}\n"
          ]
        }
      ]
    },
    {
      "cell_type": "code",
      "source": [
        "bs[\"선수\"] "
      ],
      "metadata": {
        "colab": {
          "base_uri": "https://localhost:8080/"
        },
        "id": "P67RKjlZnA9-",
        "outputId": "005f9e3f-1909-481f-f03e-9d7d3cfd88bd"
      },
      "execution_count": null,
      "outputs": [
        {
          "output_type": "execute_result",
          "data": {
            "text/plain": [
              "['채치수', '정대만', '송태섭', '강백호', '서태웅']"
            ]
          },
          "metadata": {},
          "execution_count": 43
        }
      ]
    },
    {
      "cell_type": "code",
      "source": [
        "bs[\"선수\"][1]"
      ],
      "metadata": {
        "colab": {
          "base_uri": "https://localhost:8080/",
          "height": 35
        },
        "id": "Mo6NBA7rnMOP",
        "outputId": "629e1445-f0fd-4d00-ad4f-629e3d503f2f"
      },
      "execution_count": null,
      "outputs": [
        {
          "output_type": "execute_result",
          "data": {
            "text/plain": [
              "'정대만'"
            ],
            "application/vnd.google.colaboratory.intrinsic+json": {
              "type": "string"
            }
          },
          "metadata": {},
          "execution_count": 44
        }
      ]
    },
    {
      "cell_type": "code",
      "source": [
        "# 값 변경\n",
        "bs[\"매니저\"][0] = \"소연\"\n",
        "print(bs)"
      ],
      "metadata": {
        "colab": {
          "base_uri": "https://localhost:8080/"
        },
        "id": "P7VO-U8SnRaR",
        "outputId": "a18991a7-76af-4a74-d944-34a35e85b124"
      },
      "execution_count": null,
      "outputs": [
        {
          "output_type": "stream",
          "name": "stdout",
          "text": [
            "{'선수': ['채치수', '정대만', '송태섭', '강백호', '서태웅'], '감독': ['안감독'], '매니저': ['소연']}\n"
          ]
        }
      ]
    },
    {
      "cell_type": "code",
      "source": [
        "# 새로운 키와 값 추가\n",
        "# 하나의 값\n",
        "bs[\"상대팀\"] = \"산왕공고\"\n",
        "print(bs)"
      ],
      "metadata": {
        "colab": {
          "base_uri": "https://localhost:8080/"
        },
        "id": "smVHRGvgnsV2",
        "outputId": "8e379715-7720-4b97-c61c-a0279a2200c7"
      },
      "execution_count": null,
      "outputs": [
        {
          "output_type": "stream",
          "name": "stdout",
          "text": [
            "{'선수': ['채치수', '정대만', '송태섭', '강백호', '서태웅'], '감독': ['안감독'], '매니저': ['소연'], '상대팀': '산왕공고'}\n"
          ]
        }
      ]
    },
    {
      "cell_type": "code",
      "source": [
        "# 여러 개의 값\n",
        "bs[\"별명\"] = [\"고릴라\",\"불꽃남자\"]\n",
        "print(bs)"
      ],
      "metadata": {
        "colab": {
          "base_uri": "https://localhost:8080/"
        },
        "id": "WBz-lA7Np4tW",
        "outputId": "c14b6413-6f87-44b9-d57a-461ed9ae9990"
      },
      "execution_count": null,
      "outputs": [
        {
          "output_type": "stream",
          "name": "stdout",
          "text": [
            "{'선수': ['채치수', '정대만', '송태섭', '강백호', '서태웅'], '감독': ['안감독'], '매니저': ['소연'], '상대팀': '산왕공고', '별명': ['고릴라', '불꽃남자']}\n"
          ]
        }
      ]
    },
    {
      "cell_type": "markdown",
      "source": [
        "## 키와 값 제거"
      ],
      "metadata": {
        "id": "LuEfL1fOqNO-"
      }
    },
    {
      "cell_type": "code",
      "source": [
        "del bs[\"상대팀\"] #키와 값 동시 삭제\n",
        "print(bs)"
      ],
      "metadata": {
        "colab": {
          "base_uri": "https://localhost:8080/"
        },
        "id": "-xKI0qSFqJK2",
        "outputId": "81575d8a-0298-49fa-da9e-8980d48cf9a7"
      },
      "execution_count": null,
      "outputs": [
        {
          "output_type": "stream",
          "name": "stdout",
          "text": [
            "{'선수': ['채치수', '정대만', '송태섭', '강백호', '서태웅'], '감독': ['안감독'], '매니저': ['소연'], '별명': ['고릴라', '불꽃남자']}\n"
          ]
        }
      ]
    },
    {
      "cell_type": "markdown",
      "source": [
        "## keyError"
      ],
      "metadata": {
        "id": "2kQG2ugQsM0B"
      }
    },
    {
      "cell_type": "code",
      "source": [
        "# 존재하지 않는 키를 사용할 때 발생\n",
        "# 값\n",
        "bs[\"상대팀\"]"
      ],
      "metadata": {
        "colab": {
          "base_uri": "https://localhost:8080/",
          "height": 209
        },
        "id": "mnDF0Ng9qSJb",
        "outputId": "bced0bcb-7df2-42cc-cee5-ec4bec0cddb1"
      },
      "execution_count": null,
      "outputs": [
        {
          "output_type": "error",
          "ename": "KeyError",
          "evalue": "ignored",
          "traceback": [
            "\u001b[0;31m---------------------------------------------------------------------------\u001b[0m",
            "\u001b[0;31mKeyError\u001b[0m                                  Traceback (most recent call last)",
            "\u001b[0;32m<ipython-input-50-2e03c7cc80d9>\u001b[0m in \u001b[0;36m<cell line: 3>\u001b[0;34m()\u001b[0m\n\u001b[1;32m      1\u001b[0m \u001b[0;31m# 존재하지 않는 키를 사용할 때 발생\u001b[0m\u001b[0;34m\u001b[0m\u001b[0;34m\u001b[0m\u001b[0m\n\u001b[1;32m      2\u001b[0m \u001b[0;31m# 값\u001b[0m\u001b[0;34m\u001b[0m\u001b[0;34m\u001b[0m\u001b[0m\n\u001b[0;32m----> 3\u001b[0;31m \u001b[0mbs\u001b[0m\u001b[0;34m[\u001b[0m\u001b[0;34m\"상대팀\"\u001b[0m\u001b[0;34m]\u001b[0m\u001b[0;34m\u001b[0m\u001b[0;34m\u001b[0m\u001b[0m\n\u001b[0m",
            "\u001b[0;31mKeyError\u001b[0m: '상대팀'"
          ]
        }
      ]
    },
    {
      "cell_type": "code",
      "source": [
        "del bs[\"상대팀\"] #키와 값 동시 삭제\n",
        "print(bs)"
      ],
      "metadata": {
        "colab": {
          "base_uri": "https://localhost:8080/",
          "height": 190
        },
        "id": "QhG75xXCsXp8",
        "outputId": "7402c439-8cd6-46bd-e985-3412ccc5d34d"
      },
      "execution_count": null,
      "outputs": [
        {
          "output_type": "error",
          "ename": "KeyError",
          "evalue": "ignored",
          "traceback": [
            "\u001b[0;31m---------------------------------------------------------------------------\u001b[0m",
            "\u001b[0;31mKeyError\u001b[0m                                  Traceback (most recent call last)",
            "\u001b[0;32m<ipython-input-51-332fe6194f79>\u001b[0m in \u001b[0;36m<cell line: 1>\u001b[0;34m()\u001b[0m\n\u001b[0;32m----> 1\u001b[0;31m \u001b[0;32mdel\u001b[0m \u001b[0mbs\u001b[0m\u001b[0;34m[\u001b[0m\u001b[0;34m\"상대팀\"\u001b[0m\u001b[0;34m]\u001b[0m \u001b[0;31m#키와 값 동시 삭제\u001b[0m\u001b[0;34m\u001b[0m\u001b[0;34m\u001b[0m\u001b[0m\n\u001b[0m\u001b[1;32m      2\u001b[0m \u001b[0mprint\u001b[0m\u001b[0;34m(\u001b[0m\u001b[0mbs\u001b[0m\u001b[0;34m)\u001b[0m\u001b[0;34m\u001b[0m\u001b[0;34m\u001b[0m\u001b[0m\n",
            "\u001b[0;31mKeyError\u001b[0m: '상대팀'"
          ]
        }
      ]
    },
    {
      "cell_type": "markdown",
      "source": [
        "## NameError"
      ],
      "metadata": {
        "id": "D6gtav_PsqJS"
      }
    },
    {
      "cell_type": "code",
      "source": [
        "# 문자열로 키 만들 때 따옴표 있어야함\n",
        "a = {이름 : \"강백호\"}\n",
        "print(a)"
      ],
      "metadata": {
        "colab": {
          "base_uri": "https://localhost:8080/",
          "height": 190
        },
        "id": "qqMO1X9hsoJc",
        "outputId": "948528d1-2aa1-4f79-da27-fb7074dba17e"
      },
      "execution_count": null,
      "outputs": [
        {
          "output_type": "error",
          "ename": "NameError",
          "evalue": "ignored",
          "traceback": [
            "\u001b[0;31m---------------------------------------------------------------------------\u001b[0m",
            "\u001b[0;31mNameError\u001b[0m                                 Traceback (most recent call last)",
            "\u001b[0;32m<ipython-input-52-e299212da603>\u001b[0m in \u001b[0;36m<cell line: 1>\u001b[0;34m()\u001b[0m\n\u001b[0;32m----> 1\u001b[0;31m \u001b[0ma\u001b[0m \u001b[0;34m=\u001b[0m \u001b[0;34m{\u001b[0m\u001b[0m이름\u001b[0m \u001b[0;34m:\u001b[0m \u001b[0;34m\"강백호\"\u001b[0m\u001b[0;34m}\u001b[0m\u001b[0;34m\u001b[0m\u001b[0;34m\u001b[0m\u001b[0m\n\u001b[0m\u001b[1;32m      2\u001b[0m \u001b[0mprint\u001b[0m\u001b[0;34m(\u001b[0m\u001b[0ma\u001b[0m\u001b[0;34m)\u001b[0m\u001b[0;34m\u001b[0m\u001b[0;34m\u001b[0m\u001b[0m\n",
            "\u001b[0;31mNameError\u001b[0m: name '이름' is not defined"
          ]
        }
      ]
    },
    {
      "cell_type": "code",
      "source": [
        "# 에러 수정 = 키가 문자열이면 따옴표로 묶어줘야 함\n",
        "a = {\"이름\" : \"강백호\"}\n",
        "print(a)"
      ],
      "metadata": {
        "colab": {
          "base_uri": "https://localhost:8080/"
        },
        "id": "M5ZG_BJRs5cI",
        "outputId": "9d039234-bb75-4cab-b8c8-d488338e2441"
      },
      "execution_count": null,
      "outputs": [
        {
          "output_type": "stream",
          "name": "stdout",
          "text": [
            "{'이름': '강백호'}\n"
          ]
        }
      ]
    },
    {
      "cell_type": "markdown",
      "source": [
        "## in 연산자"
      ],
      "metadata": {
        "id": "pTbvPqR0uMn-"
      }
    },
    {
      "cell_type": "code",
      "source": [
        "# 찾고 싶은 키\n",
        "\"선수\" in bs"
      ],
      "metadata": {
        "colab": {
          "base_uri": "https://localhost:8080/"
        },
        "id": "qPxzdTEMtH95",
        "outputId": "a534c355-9f3e-4e03-c7d1-be8b8a45d992"
      },
      "execution_count": null,
      "outputs": [
        {
          "output_type": "execute_result",
          "data": {
            "text/plain": [
              "True"
            ]
          },
          "metadata": {},
          "execution_count": 54
        }
      ]
    },
    {
      "cell_type": "code",
      "source": [
        "\"선생님\" in bs"
      ],
      "metadata": {
        "colab": {
          "base_uri": "https://localhost:8080/"
        },
        "id": "WGlS8kB0uUAt",
        "outputId": "734aa995-a4fd-45dc-b095-69a6eec5a748"
      },
      "execution_count": null,
      "outputs": [
        {
          "output_type": "execute_result",
          "data": {
            "text/plain": [
              "False"
            ]
          },
          "metadata": {},
          "execution_count": 55
        }
      ]
    },
    {
      "cell_type": "code",
      "source": [
        "# 딕셔너리의 키 존재여부\n",
        "key = input(\"찾고 싶은 키를 입력하세요>\")\n",
        "if key in bs:\n",
        "  print(\"존재하는 키입니다. 해당 값은 \", bs[key], \"입니다.\")\n",
        "else:\n",
        "  print(\"존재하지 않는 키입니다.\")"
      ],
      "metadata": {
        "colab": {
          "base_uri": "https://localhost:8080/"
        },
        "id": "a55Aa1TauWFZ",
        "outputId": "a596dfe5-8652-4316-95fe-79bffdc49594"
      },
      "execution_count": null,
      "outputs": [
        {
          "output_type": "stream",
          "name": "stdout",
          "text": [
            "찾고 싶은 키를 입력하세요>선수\n",
            "존재하는 키입니다. 해당 값은  ['채치수', '정대만', '송태섭', '강백호', '서태웅'] 입니다.\n"
          ]
        }
      ]
    },
    {
      "cell_type": "markdown",
      "source": [
        "## 값을 보여주는 함수"
      ],
      "metadata": {
        "id": "cnl8OrWvyVvE"
      }
    },
    {
      "cell_type": "code",
      "source": [
        "# 존재하는 키로 값 보기\n",
        "bs[\"감독\"]"
      ],
      "metadata": {
        "colab": {
          "base_uri": "https://localhost:8080/"
        },
        "id": "WVU33MAyvAbb",
        "outputId": "fc7b122a-f933-4cf6-ac31-d0635cb88b33"
      },
      "execution_count": null,
      "outputs": [
        {
          "output_type": "execute_result",
          "data": {
            "text/plain": [
              "['안감독']"
            ]
          },
          "metadata": {},
          "execution_count": 59
        }
      ]
    },
    {
      "cell_type": "code",
      "source": [
        "# 존재하지 않는 키로 값 보기 = KeyError\n",
        "bs[\"감독님\"]"
      ],
      "metadata": {
        "colab": {
          "base_uri": "https://localhost:8080/",
          "height": 172
        },
        "id": "HYgJbVBfyYE3",
        "outputId": "5fcb1b6f-b07f-40f3-af4c-5896265aca80"
      },
      "execution_count": null,
      "outputs": [
        {
          "output_type": "error",
          "ename": "KeyError",
          "evalue": "ignored",
          "traceback": [
            "\u001b[0;31m---------------------------------------------------------------------------\u001b[0m",
            "\u001b[0;31mKeyError\u001b[0m                                  Traceback (most recent call last)",
            "\u001b[0;32m<ipython-input-60-68de7f2c2efb>\u001b[0m in \u001b[0;36m<cell line: 1>\u001b[0;34m()\u001b[0m\n\u001b[0;32m----> 1\u001b[0;31m \u001b[0mbs\u001b[0m\u001b[0;34m[\u001b[0m\u001b[0;34m\"감독님\"\u001b[0m\u001b[0;34m]\u001b[0m\u001b[0;34m\u001b[0m\u001b[0;34m\u001b[0m\u001b[0m\n\u001b[0m",
            "\u001b[0;31mKeyError\u001b[0m: '감독님'"
          ]
        }
      ]
    },
    {
      "cell_type": "code",
      "source": [
        "# 존재하지 않는 키로 값 보기 = 에러 없이 결과가 없다는 내용\n",
        "# 딕셔너리명.get(\"key명\")\n",
        "bs.get(\"감독\")"
      ],
      "metadata": {
        "colab": {
          "base_uri": "https://localhost:8080/"
        },
        "id": "BtkT8eaBu_dY",
        "outputId": "e3df1ff6-029a-4dbb-c218-27ea7a3213f6"
      },
      "execution_count": null,
      "outputs": [
        {
          "output_type": "execute_result",
          "data": {
            "text/plain": [
              "['안감독']"
            ]
          },
          "metadata": {},
          "execution_count": 63
        }
      ]
    },
    {
      "cell_type": "code",
      "source": [
        "value = bs.get(\"감독님\")\n",
        "print(value)"
      ],
      "metadata": {
        "colab": {
          "base_uri": "https://localhost:8080/"
        },
        "id": "F1LTdgFdu9nv",
        "outputId": "b61c3c35-e7d5-47d3-d71b-e6ec4f808b7d"
      },
      "execution_count": null,
      "outputs": [
        {
          "output_type": "stream",
          "name": "stdout",
          "text": [
            "None\n"
          ]
        }
      ]
    },
    {
      "cell_type": "markdown",
      "source": [
        "# 반복문"
      ],
      "metadata": {
        "id": "uWwXVx0F1ify"
      }
    },
    {
      "cell_type": "markdown",
      "source": [
        "## 딕셔너리로 반복문"
      ],
      "metadata": {
        "id": "aeTmGsop1jX8"
      }
    },
    {
      "cell_type": "code",
      "source": [
        "sd_dic = {\n",
        "    \"이름\" : \"정대만\",\n",
        "    \"나이\" : 19,\n",
        "    \"키\" : 183,\n",
        "    \"몸무게\" : 70\n",
        "}"
      ],
      "metadata": {
        "id": "t7mRwlW2nlSZ"
      },
      "execution_count": null,
      "outputs": []
    },
    {
      "cell_type": "code",
      "source": [
        "sd_dic"
      ],
      "metadata": {
        "colab": {
          "base_uri": "https://localhost:8080/"
        },
        "id": "qpVVLeO3m_Qt",
        "outputId": "77fa101c-6fef-4657-aca4-14b04fbc21ba"
      },
      "execution_count": null,
      "outputs": [
        {
          "output_type": "execute_result",
          "data": {
            "text/plain": [
              "{'이름': '정대만', '나이': 19, '키': 183, '몸무게': 70}"
            ]
          },
          "metadata": {},
          "execution_count": 67
        }
      ]
    },
    {
      "cell_type": "code",
      "source": [
        "# 반복문\n",
        "for i in sd_dic:\n",
        "  print(i) #키\n",
        "  print(sd_dic[i]) #값"
      ],
      "metadata": {
        "colab": {
          "base_uri": "https://localhost:8080/"
        },
        "id": "6NmQcsm81pX1",
        "outputId": "03e381d9-2170-419a-8293-1024c4ae30d9"
      },
      "execution_count": null,
      "outputs": [
        {
          "output_type": "stream",
          "name": "stdout",
          "text": [
            "이름\n",
            "정대만\n",
            "나이\n",
            "19\n",
            "키\n",
            "183\n",
            "몸무게\n",
            "70\n"
          ]
        }
      ]
    },
    {
      "cell_type": "code",
      "source": [
        "sd_dic.items()"
      ],
      "metadata": {
        "colab": {
          "base_uri": "https://localhost:8080/"
        },
        "id": "CYaScarp18rF",
        "outputId": "ad0e0a37-decf-4301-c562-853b82fb6137"
      },
      "execution_count": null,
      "outputs": [
        {
          "output_type": "execute_result",
          "data": {
            "text/plain": [
              "dict_items([('이름', '정대만'), ('나이', 19), ('키', 183), ('몸무게', 70)])"
            ]
          },
          "metadata": {},
          "execution_count": 70
        }
      ]
    },
    {
      "cell_type": "markdown",
      "source": [
        "## "
      ],
      "metadata": {
        "id": "QJl1unwL23y2"
      }
    },
    {
      "cell_type": "code",
      "source": [
        "character = {\n",
        "    \"name\" : \"정대만\",\n",
        "    \"number\" : 14,\n",
        "    \"records\" : {\n",
        "        \"three_point\" : 24,\n",
        "        \"rebound\" : 1\n",
        "    },\n",
        "    \"schools\" : [\"무석중\",\"북산고\"]\n",
        "}\n",
        "print(character)\n",
        "\n",
        "# 복잡한 딕셔너리 값 출력하기\n",
        "for i in character:\n",
        "  if type(character[i]) == list: #리스트 list\n",
        "    for j in character[i]:\n",
        "      print(j)\n",
        "  elif type(character[i]) == dict: #딕셔너리 dict\n",
        "    for k in character[i]:\n",
        "      print(character[i][k])\n",
        "  else: #나머지 값들\n",
        "    print(character[i])"
      ],
      "metadata": {
        "colab": {
          "base_uri": "https://localhost:8080/"
        },
        "id": "KuuQ2jj1131R",
        "outputId": "373b874e-7600-4e58-e9aa-71238c2a4ff9"
      },
      "execution_count": null,
      "outputs": [
        {
          "output_type": "stream",
          "name": "stdout",
          "text": [
            "{'name': '정대만', 'number': 14, 'records': {'three_point': 24, 'rebound': 1}, 'schools': ['무석중', '북산고']}\n",
            "정대만\n",
            "14\n",
            "24\n",
            "1\n",
            "무석중\n",
            "북산고\n"
          ]
        }
      ]
    },
    {
      "cell_type": "markdown",
      "source": [
        "## 범위(계속)"
      ],
      "metadata": {
        "id": "5p4zcFe2AjBv"
      }
    },
    {
      "cell_type": "code",
      "source": [
        "# 매개변수는 정수형이어야 함\n",
        "n = 20\n",
        "range(n)"
      ],
      "metadata": {
        "colab": {
          "base_uri": "https://localhost:8080/"
        },
        "id": "FiFI0oxgAihM",
        "outputId": "98d46066-abc6-4481-d190-5257689f784c"
      },
      "execution_count": null,
      "outputs": [
        {
          "output_type": "execute_result",
          "data": {
            "text/plain": [
              "range(0, 20)"
            ]
          },
          "metadata": {},
          "execution_count": 89
        }
      ]
    },
    {
      "cell_type": "code",
      "source": [
        "range(n/2) # float형이기 때문에 에러 발생"
      ],
      "metadata": {
        "colab": {
          "base_uri": "https://localhost:8080/",
          "height": 172
        },
        "id": "SgpP0XpA36GM",
        "outputId": "b2a3e006-34eb-4bd1-f678-a072d16045aa"
      },
      "execution_count": null,
      "outputs": [
        {
          "output_type": "error",
          "ename": "TypeError",
          "evalue": "ignored",
          "traceback": [
            "\u001b[0;31m---------------------------------------------------------------------------\u001b[0m",
            "\u001b[0;31mTypeError\u001b[0m                                 Traceback (most recent call last)",
            "\u001b[0;32m<ipython-input-90-f61a39710465>\u001b[0m in \u001b[0;36m<cell line: 1>\u001b[0;34m()\u001b[0m\n\u001b[0;32m----> 1\u001b[0;31m \u001b[0mrange\u001b[0m\u001b[0;34m(\u001b[0m\u001b[0mn\u001b[0m\u001b[0;34m/\u001b[0m\u001b[0;36m2\u001b[0m\u001b[0;34m)\u001b[0m\u001b[0;34m\u001b[0m\u001b[0;34m\u001b[0m\u001b[0m\n\u001b[0m",
            "\u001b[0;31mTypeError\u001b[0m: 'float' object cannot be interpreted as an integer"
          ]
        }
      ]
    },
    {
      "cell_type": "code",
      "source": [
        "# 몫\n",
        "range(n//2) # 정수"
      ],
      "metadata": {
        "colab": {
          "base_uri": "https://localhost:8080/"
        },
        "id": "iTtv7DlY4vcK",
        "outputId": "3558fdc0-473d-4a5c-d31e-d66eead857b6"
      },
      "execution_count": null,
      "outputs": [
        {
          "output_type": "execute_result",
          "data": {
            "text/plain": [
              "range(0, 10)"
            ]
          },
          "metadata": {},
          "execution_count": 91
        }
      ]
    },
    {
      "cell_type": "code",
      "source": [
        "# 나머지\n",
        "range(n%6)"
      ],
      "metadata": {
        "colab": {
          "base_uri": "https://localhost:8080/"
        },
        "id": "mGs-ZcLkAwk9",
        "outputId": "ee1c3c1b-bdad-4588-dcc3-30a373cd9fdb"
      },
      "execution_count": null,
      "outputs": [
        {
          "output_type": "execute_result",
          "data": {
            "text/plain": [
              "range(0, 2)"
            ]
          },
          "metadata": {},
          "execution_count": 92
        }
      ]
    },
    {
      "cell_type": "markdown",
      "source": [
        "## 리스트와 범위로 반복문"
      ],
      "metadata": {
        "id": "0kO3dCkYBdJ7"
      }
    },
    {
      "cell_type": "code",
      "source": [
        "# 인덱스 번호와 값을 동시에 출력\n",
        "list_a = [21,34,11,5,67]"
      ],
      "metadata": {
        "id": "saTy_2riAy28"
      },
      "execution_count": null,
      "outputs": []
    },
    {
      "cell_type": "code",
      "source": [
        "print(range(len(list_a)))\n",
        "print(list(range(len(list_a))))"
      ],
      "metadata": {
        "colab": {
          "base_uri": "https://localhost:8080/"
        },
        "id": "cSE1pLmzB4LR",
        "outputId": "588db5fe-35a8-48db-9061-8edff1242876"
      },
      "execution_count": null,
      "outputs": [
        {
          "output_type": "stream",
          "name": "stdout",
          "text": [
            "range(0, 5)\n",
            "[0, 1, 2, 3, 4]\n"
          ]
        }
      ]
    },
    {
      "cell_type": "code",
      "source": [
        "for i in range(len(list_a)):\n",
        "  print(\"인덱스\",i,\"값\",list_a[i])"
      ],
      "metadata": {
        "colab": {
          "base_uri": "https://localhost:8080/"
        },
        "id": "Ck3VWOHTB-t1",
        "outputId": "0d34eaf1-91e4-4195-d034-b60de11a1345"
      },
      "execution_count": null,
      "outputs": [
        {
          "output_type": "stream",
          "name": "stdout",
          "text": [
            "인덱스 0 값 21\n",
            "인덱스 1 값 34\n",
            "인덱스 2 값 11\n",
            "인덱스 3 값 5\n",
            "인덱스 4 값 67\n"
          ]
        }
      ]
    },
    {
      "cell_type": "markdown",
      "source": [
        "## 역반복문"
      ],
      "metadata": {
        "id": "cYFmWT-xEOvv"
      }
    },
    {
      "cell_type": "code",
      "source": [
        "# 역순으로 반복\n",
        "# range(0,5)\n",
        "for i in range(5,0,-1):\n",
        "  print(i)"
      ],
      "metadata": {
        "colab": {
          "base_uri": "https://localhost:8080/"
        },
        "id": "xbCeqZkcB7Wu",
        "outputId": "fa95ef5a-2bb9-4003-a9c6-d6001934d5c9"
      },
      "execution_count": null,
      "outputs": [
        {
          "output_type": "stream",
          "name": "stdout",
          "text": [
            "5\n",
            "4\n",
            "3\n",
            "2\n",
            "1\n"
          ]
        }
      ]
    },
    {
      "cell_type": "code",
      "source": [
        "for i in range(5,1-1,-2):\n",
        "  print(i)"
      ],
      "metadata": {
        "colab": {
          "base_uri": "https://localhost:8080/"
        },
        "id": "lStarZ1yEVh_",
        "outputId": "d5c7e012-9236-478e-f47a-4edf3fb48511"
      },
      "execution_count": null,
      "outputs": [
        {
          "output_type": "stream",
          "name": "stdout",
          "text": [
            "5\n",
            "3\n",
            "1\n"
          ]
        }
      ]
    },
    {
      "cell_type": "code",
      "source": [
        "for i in reversed(range(1,5+1)): # reversed(range())\n",
        "  print(i)"
      ],
      "metadata": {
        "colab": {
          "base_uri": "https://localhost:8080/"
        },
        "id": "nVjZtsmFFGFD",
        "outputId": "765d02d7-3c39-41ec-eb38-842308cd17cf"
      },
      "execution_count": null,
      "outputs": [
        {
          "output_type": "stream",
          "name": "stdout",
          "text": [
            "5\n",
            "4\n",
            "3\n",
            "2\n",
            "1\n"
          ]
        }
      ]
    },
    {
      "cell_type": "markdown",
      "source": [
        "# 반복문 while"
      ],
      "metadata": {
        "id": "ZygWScFrHHoP"
      }
    },
    {
      "cell_type": "code",
      "source": [
        "# 무한반복\n",
        "while True:\n",
        "  print(\"언제 끝나\")"
      ],
      "metadata": {
        "id": "bpCpXT5jFhvi"
      },
      "execution_count": null,
      "outputs": []
    },
    {
      "cell_type": "code",
      "source": [
        "# 무한반복\n",
        "while True:\n",
        "  print(\"언제 끝나\",end = \"\")"
      ],
      "metadata": {
        "id": "n8zwOOlNHPJP"
      },
      "execution_count": null,
      "outputs": []
    },
    {
      "cell_type": "markdown",
      "source": [
        "## while 문으로 for 문처럼 사용"
      ],
      "metadata": {
        "id": "3J5V8gS9InYB"
      }
    },
    {
      "cell_type": "code",
      "source": [
        "# 숫자를 0~9까지 출력\n",
        "for i in range(10):\n",
        "  print(i)"
      ],
      "metadata": {
        "colab": {
          "base_uri": "https://localhost:8080/"
        },
        "id": "HWAj5wZVHv-p",
        "outputId": "f094400c-ead6-4bf9-a4a5-12e3cc1f8f64"
      },
      "execution_count": null,
      "outputs": [
        {
          "output_type": "stream",
          "name": "stdout",
          "text": [
            "0\n",
            "1\n",
            "2\n",
            "3\n",
            "4\n",
            "5\n",
            "6\n",
            "7\n",
            "8\n",
            "9\n"
          ]
        }
      ]
    },
    {
      "cell_type": "code",
      "source": [
        "# while문으로 재현\n",
        "i = 0\n",
        "while i < 10:\n",
        "  print(i)\n",
        "  i += 1"
      ],
      "metadata": {
        "colab": {
          "base_uri": "https://localhost:8080/"
        },
        "id": "K7Djkdo7It08",
        "outputId": "92aec085-690c-4e5c-9d9c-4f64b8f392f2"
      },
      "execution_count": null,
      "outputs": [
        {
          "output_type": "stream",
          "name": "stdout",
          "text": [
            "0\n",
            "1\n",
            "2\n",
            "3\n",
            "4\n",
            "5\n",
            "6\n",
            "7\n",
            "8\n",
            "9\n"
          ]
        }
      ]
    },
    {
      "cell_type": "markdown",
      "source": [
        "## 값이 있는 동안에 반복"
      ],
      "metadata": {
        "id": "guh63Bh0J9qo"
      }
    },
    {
      "cell_type": "code",
      "source": [
        "list_a = [1,2,3,2,4,2,5]\n",
        "value = 2\n",
        "while value in list_a:\n",
        "  list_a.remove(value)\n",
        "\n",
        "print(list_a)"
      ],
      "metadata": {
        "colab": {
          "base_uri": "https://localhost:8080/"
        },
        "id": "dYcoxJA5Ix4S",
        "outputId": "6a8aff7d-ae89-4813-ef07-1e588d0183b7"
      },
      "execution_count": null,
      "outputs": [
        {
          "output_type": "stream",
          "name": "stdout",
          "text": [
            "[1, 3, 4, 5]\n"
          ]
        }
      ]
    },
    {
      "cell_type": "markdown",
      "source": [
        "## 시간 기반으로 반복"
      ],
      "metadata": {
        "id": "mYXsafNaN3vH"
      }
    },
    {
      "cell_type": "code",
      "source": [
        "import time\n",
        "number = 0\n",
        "target = time.time() + 3 \n",
        "while time.time() < target: # 3초동안 반복\n",
        "  number += 1\n",
        "print(number)"
      ],
      "metadata": {
        "colab": {
          "base_uri": "https://localhost:8080/"
        },
        "id": "Z8sfedOJKhnN",
        "outputId": "c04f37db-958c-4ac4-91b4-9ce86956f32e"
      },
      "execution_count": null,
      "outputs": [
        {
          "output_type": "stream",
          "name": "stdout",
          "text": [
            "11158793\n"
          ]
        }
      ]
    },
    {
      "cell_type": "markdown",
      "source": [
        "## break/continue"
      ],
      "metadata": {
        "id": "8W8FZCqNPpV6"
      }
    },
    {
      "cell_type": "code",
      "source": [
        "# break\n",
        "# 반복 종료\n",
        "i = 0\n",
        "while True:\n",
        "  print(i)\n",
        "  i += 1\n",
        "  yn = input(\"종료할까요? (종료를 원하시면 Y나 y를 입력하세요)>\")\n",
        "  if yn in [\"Y\",\"y\"]:\n",
        "    print(\"반복 종료\")\n",
        "    break"
      ],
      "metadata": {
        "colab": {
          "base_uri": "https://localhost:8080/"
        },
        "id": "yNjFh2B5Okii",
        "outputId": "b0385aa1-8600-4886-a631-5a32952f27d8"
      },
      "execution_count": null,
      "outputs": [
        {
          "output_type": "stream",
          "name": "stdout",
          "text": [
            "0\n",
            "종료할까요? (종료를 원하시면 Y나 y를 입력하세요)>n\n",
            "1\n",
            "종료할까요? (종료를 원하시면 Y나 y를 입력하세요)>y\n",
            "반복 종료\n"
          ]
        }
      ]
    },
    {
      "cell_type": "code",
      "source": [
        "# continue\n",
        "# 현재 반복 생략하고 다음 반복으로\n",
        "list_a = [100,20,150,50,200]\n",
        "for i in list_a:\n",
        "  if i < 100:\n",
        "    continue\n",
        "  print(i)"
      ],
      "metadata": {
        "colab": {
          "base_uri": "https://localhost:8080/"
        },
        "id": "EghT_RNVQvWi",
        "outputId": "bb5e8c21-75cb-4268-e360-4f1465065e08"
      },
      "execution_count": null,
      "outputs": [
        {
          "output_type": "stream",
          "name": "stdout",
          "text": [
            "100\n",
            "150\n",
            "200\n"
          ]
        }
      ]
    },
    {
      "cell_type": "markdown",
      "source": [
        "# 문자열, 리스트, 딕셔너리"
      ],
      "metadata": {
        "id": "2DLYMShwR3KN"
      }
    },
    {
      "cell_type": "code",
      "source": [
        "list_a = [1,2,3,4,5]\n",
        "\n",
        "print(min(list_a)) # 최소값\n",
        "print(max(list_a)) # 최대값\n",
        "print(sum(list_a)) # 합계"
      ],
      "metadata": {
        "colab": {
          "base_uri": "https://localhost:8080/"
        },
        "id": "66n9HABjRu8m",
        "outputId": "7d1dedf7-4f12-4584-a775-d6f6fe85f3e7"
      },
      "execution_count": null,
      "outputs": [
        {
          "output_type": "stream",
          "name": "stdout",
          "text": [
            "1\n",
            "5\n",
            "15\n"
          ]
        }
      ]
    },
    {
      "cell_type": "code",
      "source": [
        "print(min(1,2,3,4,5))\n",
        "print(max(1,2,3,4,5))"
      ],
      "metadata": {
        "colab": {
          "base_uri": "https://localhost:8080/"
        },
        "id": "1i420juVS15C",
        "outputId": "a7c4a343-ef5f-4244-ec31-eeec490c54cb"
      },
      "execution_count": null,
      "outputs": [
        {
          "output_type": "stream",
          "name": "stdout",
          "text": [
            "1\n",
            "5\n"
          ]
        }
      ]
    },
    {
      "cell_type": "code",
      "source": [
        "# 역순\n",
        "list_a = [1,2,3,4,5]\n",
        "list_b = reversed(list_a)\n",
        "print(list_a)\n",
        "print(list_b)\n",
        "print(list(list_b)) # 리스트가 아니라, list() 사용"
      ],
      "metadata": {
        "colab": {
          "base_uri": "https://localhost:8080/"
        },
        "id": "Oh0EEQ5iTFxn",
        "outputId": "37305834-7ea7-4d45-d791-56dd1c0e4a5e"
      },
      "execution_count": null,
      "outputs": [
        {
          "output_type": "stream",
          "name": "stdout",
          "text": [
            "[1, 2, 3, 4, 5]\n",
            "<list_reverseiterator object at 0x7f1cc81645b0>\n",
            "[5, 4, 3, 2, 1]\n"
          ]
        }
      ]
    },
    {
      "cell_type": "code",
      "source": [
        "# 역반복문\n",
        "for i in reversed(list_a):\n",
        "  print(i)"
      ],
      "metadata": {
        "colab": {
          "base_uri": "https://localhost:8080/"
        },
        "id": "JAacNufdURAG",
        "outputId": "ebcf33da-e09b-4372-e1b9-bb94d4e2c84a"
      },
      "execution_count": null,
      "outputs": [
        {
          "output_type": "stream",
          "name": "stdout",
          "text": [
            "5\n",
            "4\n",
            "3\n",
            "2\n",
            "1\n"
          ]
        }
      ]
    },
    {
      "cell_type": "markdown",
      "source": [
        "## list명.enumerate()"
      ],
      "metadata": {
        "id": "Xn_p_fEQV160"
      }
    },
    {
      "cell_type": "code",
      "source": [
        "# 인덱스와 값을 동시에 출력 => 함수로 해결\n",
        "list_a = [21,34,11,5,67]"
      ],
      "metadata": {
        "id": "Jv5GuyjwU5x_"
      },
      "execution_count": null,
      "outputs": []
    },
    {
      "cell_type": "code",
      "source": [
        "# 1) 리스트\n",
        "i = 0\n",
        "for j in list_a:\n",
        "  print(\"인덱스\",i,\"값\",j)  \n",
        "  i += 1"
      ],
      "metadata": {
        "colab": {
          "base_uri": "https://localhost:8080/"
        },
        "id": "v7d5J7h3Vt3_",
        "outputId": "3eb530f4-18c5-4115-c883-e02729ac9278"
      },
      "execution_count": null,
      "outputs": [
        {
          "output_type": "stream",
          "name": "stdout",
          "text": [
            "인덱스 0 값 21\n",
            "인덱스 1 값 34\n",
            "인덱스 2 값 11\n",
            "인덱스 3 값 5\n",
            "인덱스 4 값 67\n"
          ]
        }
      ]
    },
    {
      "cell_type": "code",
      "source": [
        "# 2) 리스트 & 범위\n",
        "for i in range(len(list_a)):\n",
        "  print(\"인덱스\",i,\"값\",list_a[i])"
      ],
      "metadata": {
        "colab": {
          "base_uri": "https://localhost:8080/"
        },
        "id": "v_P8EvVGWHj0",
        "outputId": "d07a6cfe-0926-46b5-8e99-efa4a5c8ff16"
      },
      "execution_count": null,
      "outputs": [
        {
          "output_type": "stream",
          "name": "stdout",
          "text": [
            "인덱스 0 값 21\n",
            "인덱스 1 값 34\n",
            "인덱스 2 값 11\n",
            "인덱스 3 값 5\n",
            "인덱스 4 값 67\n"
          ]
        }
      ]
    },
    {
      "cell_type": "code",
      "source": [
        "# enumerate\n",
        "enumerate(list_a) #객체\n",
        "list(enumerate(list_a)) #리스트와 유사하지만, 튜플값으로 저장되어 값 변경 불가능"
      ],
      "metadata": {
        "colab": {
          "base_uri": "https://localhost:8080/"
        },
        "id": "0ueu5a_EWTBU",
        "outputId": "c6aa7f6f-1f3c-4eeb-959d-d1b51955ef4c"
      },
      "execution_count": null,
      "outputs": [
        {
          "output_type": "execute_result",
          "data": {
            "text/plain": [
              "[(0, 21), (1, 34), (2, 11), (3, 5), (4, 67)]"
            ]
          },
          "metadata": {},
          "execution_count": 119
        }
      ]
    },
    {
      "cell_type": "code",
      "source": [
        "for i,j in enumerate(list_a):\n",
        "  print(\"인덱스\",i,\"값\",j)"
      ],
      "metadata": {
        "colab": {
          "base_uri": "https://localhost:8080/"
        },
        "id": "iZIrrrvDWr8s",
        "outputId": "15a6ca56-33cd-4812-ac87-f6d7344e90fe"
      },
      "execution_count": null,
      "outputs": [
        {
          "output_type": "stream",
          "name": "stdout",
          "text": [
            "인덱스 0 값 21\n",
            "인덱스 1 값 34\n",
            "인덱스 2 값 11\n",
            "인덱스 3 값 5\n",
            "인덱스 4 값 67\n"
          ]
        }
      ]
    },
    {
      "cell_type": "markdown",
      "source": [
        "## 딕셔너리.items()"
      ],
      "metadata": {
        "id": "0Q2KqrEWV4LL"
      }
    },
    {
      "cell_type": "code",
      "source": [
        "# 4) items 함수 with 딕셔너리\n",
        "# 키와 값을 동시에 출력\n",
        "sd_dic = {\n",
        "    \"이름\" : \"정대만\",\n",
        "    \"나이\" : 19,\n",
        "    \"키\": 183,\n",
        "    \"몸무게\" : 70\n",
        "}\n",
        "sd_dic.items() # 튜플로 저장"
      ],
      "metadata": {
        "colab": {
          "base_uri": "https://localhost:8080/"
        },
        "id": "iCGNaN1jb5jH",
        "outputId": "caa5ffff-4c21-4f76-a13f-2ba9499ad88a"
      },
      "execution_count": null,
      "outputs": [
        {
          "output_type": "execute_result",
          "data": {
            "text/plain": [
              "dict_items([('이름', '정대만'), ('나이', 19), ('키', 183), ('몸무게', 70)])"
            ]
          },
          "metadata": {},
          "execution_count": 125
        }
      ]
    },
    {
      "cell_type": "code",
      "source": [
        "for i, j in sd_dic.items():\n",
        "  print(\"키\",i,\"값\",j)"
      ],
      "metadata": {
        "colab": {
          "base_uri": "https://localhost:8080/"
        },
        "id": "qBncz_0GcEkt",
        "outputId": "794e7bdb-6733-44ed-996a-9ca591d1be70"
      },
      "execution_count": null,
      "outputs": [
        {
          "output_type": "stream",
          "name": "stdout",
          "text": [
            "키 이름 값 정대만\n",
            "키 나이 값 19\n",
            "키 키 값 183\n",
            "키 몸무게 값 70\n"
          ]
        }
      ]
    },
    {
      "cell_type": "markdown",
      "source": [
        "## 리스트 내포\n",
        "대괄호 안에 만듬 = append"
      ],
      "metadata": {
        "id": "PtPOnk4ddTzU"
      }
    },
    {
      "cell_type": "code",
      "source": [
        "list_a = []\n",
        "list_b = []\n",
        "\n",
        "for i in range(1,6):\n",
        "  list_a.append(i)\n",
        "  list_b.append(i**2) #제곱\n",
        "\n",
        "print(list_a) ; print(list_b)"
      ],
      "metadata": {
        "colab": {
          "base_uri": "https://localhost:8080/"
        },
        "id": "nf2FO8o7cZGm",
        "outputId": "4e85f25f-e601-4a60-bae7-a273fdc341e3"
      },
      "execution_count": null,
      "outputs": [
        {
          "output_type": "stream",
          "name": "stdout",
          "text": [
            "[1, 2, 3, 4, 5]\n",
            "[1, 4, 9, 16, 25]\n"
          ]
        }
      ]
    },
    {
      "cell_type": "code",
      "source": [
        "# 리스트 내포로 재현\n",
        "list_c = [i**2 for i in range(1,5+1)]\n",
        "print(list_c)"
      ],
      "metadata": {
        "colab": {
          "base_uri": "https://localhost:8080/"
        },
        "id": "3dukI142d8AQ",
        "outputId": "deeb6b52-70a9-48fb-e9d4-36e7c5ad922f"
      },
      "execution_count": null,
      "outputs": [
        {
          "output_type": "stream",
          "name": "stdout",
          "text": [
            "[1, 4, 9, 16, 25]\n"
          ]
        }
      ]
    },
    {
      "cell_type": "code",
      "source": [
        "# 리스트 내포에 조건문 추가\n",
        "# 과일만 리스트로 저장\n",
        "list_a = [\"사과\",\"참외\",\"수박\",\"토마토\"]\n",
        "fruit = [i #표현식(값 표현)\n",
        "         for i in list_a #반복문\n",
        "         if i!= \"토마토\"] # 조건문\n",
        "fruit"
      ],
      "metadata": {
        "colab": {
          "base_uri": "https://localhost:8080/"
        },
        "id": "5ozY-XDhe0kP",
        "outputId": "f9e38c7c-578e-4c29-9c54-47c4c1175a0f"
      },
      "execution_count": null,
      "outputs": [
        {
          "output_type": "execute_result",
          "data": {
            "text/plain": [
              "['사과', '참외', '수박']"
            ]
          },
          "metadata": {},
          "execution_count": 132
        }
      ]
    },
    {
      "cell_type": "markdown",
      "source": [
        "## \\n 여러 줄의 문자열 출력"
      ],
      "metadata": {
        "id": "XRipgPah5jFA"
      }
    },
    {
      "cell_type": "code",
      "source": [
        "# 홀수, 짝수 구분하는 프로그램\n",
        "number = int(input(\"정수를 입력하세요>\"))\n",
        "if number%2 == 0:\n",
        "  print(\"\"\"\\\n",
        "  입력한 숫자는 {}입니다.\n",
        "  {}는 짝수입니다.\\\n",
        "  \"\"\".format(number,number))\n",
        "else:\n",
        "  print(\"\"\"\\\n",
        "  입력한 숫자는 {}입니다.\n",
        "  {}는 홀수입니다.\\\n",
        "  \"\"\".format(number,number))\n",
        "\n",
        "  # 코드의 일관성이 없음 = 가독성이 떨어짐"
      ],
      "metadata": {
        "id": "6JK6wgx4dyDe",
        "colab": {
          "base_uri": "https://localhost:8080/"
        },
        "outputId": "089daf7e-6817-49d9-8e4d-67a36385925b"
      },
      "execution_count": null,
      "outputs": [
        {
          "output_type": "stream",
          "name": "stdout",
          "text": [
            "정수를 입력하세요>16\n",
            "  입력한 숫자는 16입니다.\n",
            "  16는 짝수입니다.  \n"
          ]
        }
      ]
    },
    {
      "cell_type": "code",
      "source": [
        "number = int(input(\"정수를 입력하세요>\"))\n",
        "if number%2 == 0:\n",
        "  print(\"입력한 숫자는 {}입니다.\\n{}는 짝수입니다.\".format(number,number))\n",
        "else:\n",
        "  print(\"입력한 숫자는 {}입니다.\\n{}는 홀수입니다.\".format(number,number))"
      ],
      "metadata": {
        "colab": {
          "base_uri": "https://localhost:8080/"
        },
        "id": "GstIKyg56hxo",
        "outputId": "796f17f9-daf5-48c7-ed1b-d499cbc70f2f"
      },
      "execution_count": null,
      "outputs": [
        {
          "output_type": "stream",
          "name": "stdout",
          "text": [
            "정수를 입력하세요>16\n",
            "입력한 숫자는 16입니다.\n",
            "16는 짝수입니다.\n"
          ]
        }
      ]
    },
    {
      "cell_type": "markdown",
      "source": [
        "## join 문자열 연결"
      ],
      "metadata": {
        "id": "y12VYV799T2Z"
      }
    },
    {
      "cell_type": "code",
      "source": [
        "print(\"-\".join([\"010\",\"1234\",\"5678\"]))\n",
        "print(\" \".join([\"010\",\"1234\",\"5678\"]))\n",
        "print(\"|\".join([\"010\",\"1234\",\"5678\"])) # shit + \\"
      ],
      "metadata": {
        "colab": {
          "base_uri": "https://localhost:8080/"
        },
        "id": "MU9U78H88WpC",
        "outputId": "65576418-ae93-4701-f93e-7eebcd56e190"
      },
      "execution_count": null,
      "outputs": [
        {
          "output_type": "stream",
          "name": "stdout",
          "text": [
            "010-1234-5678\n",
            "010 1234 5678\n",
            "010|1234|5678\n"
          ]
        }
      ]
    },
    {
      "cell_type": "code",
      "source": [
        "number = int(input(\"정수를 입력하세요>\"))\n",
        "if number%2 == 0:\n",
        "  print(\"\\n\".join([\"입력한 숫자는 {}입니다.\",\"{}는 짝수입니다.\"]).format(number,number))\n",
        "else:\n",
        "  print(\"\\n\".join([\"입력한 숫자는 {}입니다.\",\"{}는 홀수입니다.\"]).format(number,number))"
      ],
      "metadata": {
        "colab": {
          "base_uri": "https://localhost:8080/"
        },
        "id": "j5-1zmIC95s0",
        "outputId": "2d317f2c-cc00-489a-a613-ebdfaf9b72f7"
      },
      "execution_count": null,
      "outputs": [
        {
          "output_type": "stream",
          "name": "stdout",
          "text": [
            "정수를 입력하세요>16\n",
            "입력한 숫자는 16입니다.\n",
            "16는 짝수입니다.\n"
          ]
        }
      ]
    },
    {
      "cell_type": "code",
      "source": [
        "# 소괄호로 문자 연결 => , 없이 사용해야 함!\n",
        "a = (\n",
        "    \"나는 \" # 사이사이에 쉼표넣으면 문자열 X\n",
        "     \"여름을 \"\n",
        "     \"좋아합니다.\"\n",
        ")\n",
        "print(a)\n",
        "print(type(a)) #여전히 문자열"
      ],
      "metadata": {
        "id": "76nkgtFSdqs_",
        "colab": {
          "base_uri": "https://localhost:8080/"
        },
        "outputId": "56d2a1ab-055d-4857-ec2c-9c9240ec7e1d"
      },
      "execution_count": null,
      "outputs": [
        {
          "output_type": "stream",
          "name": "stdout",
          "text": [
            "나는여름을 좋아합니다.\n",
            "<class 'str'>\n"
          ]
        }
      ]
    },
    {
      "cell_type": "code",
      "source": [
        "# 쉼표 있는 버전\n",
        "a = (\n",
        "    \"나는 \",\n",
        "     \"여름을 \",\n",
        "     \"좋아합니다.\"\n",
        ")\n",
        "print(a)\n",
        "print(type(a)) #튜플, 자료구조"
      ],
      "metadata": {
        "colab": {
          "base_uri": "https://localhost:8080/"
        },
        "id": "AKXkH7t8_oDR",
        "outputId": "6b2f79cd-7352-403f-98da-cafff3002c61"
      },
      "execution_count": null,
      "outputs": [
        {
          "output_type": "stream",
          "name": "stdout",
          "text": [
            "('나는 ', '여름을 ', '좋아합니다.')\n",
            "<class 'tuple'>\n"
          ]
        }
      ]
    },
    {
      "cell_type": "code",
      "source": [
        "a = (\n",
        "    \"나는 \\n\"\n",
        "     \"여름을 \\n\"\n",
        "     \"좋아합니다.\"\n",
        ")\n",
        "print(a)\n",
        "print(type(a))"
      ],
      "metadata": {
        "colab": {
          "base_uri": "https://localhost:8080/"
        },
        "id": "1AqknXDd_t9p",
        "outputId": "8dc062a0-b123-4dd5-e038-9774c39566c6"
      },
      "execution_count": null,
      "outputs": [
        {
          "output_type": "stream",
          "name": "stdout",
          "text": [
            "나는 \n",
            "여름을 \n",
            "좋아합니다.\n",
            "<class 'str'>\n"
          ]
        }
      ]
    },
    {
      "cell_type": "code",
      "source": [
        "number = int(input(\"정수를 입력하세요>\"))\n",
        "if number%2 == 0:\n",
        "  print(\"입력한 숫자는 {}입니다.\\n\" #문자열과 문자열 사이에 쉼표 없음!\n",
        "        \"{}는 짝수입니다.\".format(number,number))\n",
        "else:\n",
        "  print(\"입력한 숫자는 {}입니다.\\n\"\n",
        "        \"{}는 홀수입니다.\".format(number,number))"
      ],
      "metadata": {
        "colab": {
          "base_uri": "https://localhost:8080/"
        },
        "id": "qUrUjOpZAAS0",
        "outputId": "e08bd4fe-a80a-4c3c-90e3-d09e1c81a811"
      },
      "execution_count": null,
      "outputs": [
        {
          "output_type": "stream",
          "name": "stdout",
          "text": [
            "정수를 입력하세요>16\n",
            "입력한 숫자는 16입니다.\n",
            "16는 짝수입니다.\n"
          ]
        }
      ]
    },
    {
      "cell_type": "markdown",
      "source": [
        "## 이터레이터"
      ],
      "metadata": {
        "id": "7MHzrYmQE-aX"
      }
    },
    {
      "cell_type": "code",
      "source": [
        "a = [1,2,3]\n",
        "b = reversed(a)\n",
        "print(b) # iterator object\n",
        "print(list(b))\n",
        "print(list(b)) # 메모리 효율성"
      ],
      "metadata": {
        "colab": {
          "base_uri": "https://localhost:8080/"
        },
        "id": "m4NllMcJBT9v",
        "outputId": "b03255fb-491d-4dda-8592-df046d64fa36"
      },
      "execution_count": null,
      "outputs": [
        {
          "output_type": "stream",
          "name": "stdout",
          "text": [
            "<list_reverseiterator object at 0x7fb32d552b00>\n",
            "[3, 2, 1]\n",
            "[]\n"
          ]
        }
      ]
    },
    {
      "cell_type": "code",
      "source": [
        "a = [1,2,3]\n",
        "b = list(reversed(a))\n",
        "print(b);print(b) #list로 만들면 저장되어서 안없어짐"
      ],
      "metadata": {
        "colab": {
          "base_uri": "https://localhost:8080/"
        },
        "id": "vbym6uu1BRDX",
        "outputId": "7241e7e0-6ab3-432d-f3ee-1b9432b48cdf"
      },
      "execution_count": null,
      "outputs": [
        {
          "output_type": "stream",
          "name": "stdout",
          "text": [
            "[3, 2, 1]\n",
            "[3, 2, 1]\n"
          ]
        }
      ]
    },
    {
      "cell_type": "code",
      "source": [
        "a = [1,2,3]\n",
        "b = reversed(a)\n",
        "print(next(b))\n",
        "print(next(b))\n",
        "print(next(b))"
      ],
      "metadata": {
        "colab": {
          "base_uri": "https://localhost:8080/"
        },
        "id": "gnayuebOGGZy",
        "outputId": "973f8858-0e88-4cd6-a747-c9b515d713a2"
      },
      "execution_count": null,
      "outputs": [
        {
          "output_type": "stream",
          "name": "stdout",
          "text": [
            "3\n",
            "2\n",
            "1\n"
          ]
        }
      ]
    },
    {
      "cell_type": "markdown",
      "source": [
        "# 함수"
      ],
      "metadata": {
        "id": "VPZzM0qIIMF-"
      }
    },
    {
      "cell_type": "markdown",
      "source": [
        "## 사용자 정의 함수"
      ],
      "metadata": {
        "id": "TSke54pkIs17"
      }
    },
    {
      "cell_type": "code",
      "source": [
        "def print3times():\n",
        "  print(\"안녕\")\n",
        "  print(\"안녕\")\n",
        "  print(\"안녕\")\n",
        "\n",
        "print3times()"
      ],
      "metadata": {
        "colab": {
          "base_uri": "https://localhost:8080/"
        },
        "id": "kBungMxVGLdE",
        "outputId": "7f2d3768-1f0a-48b6-f157-8e321010d21f"
      },
      "execution_count": null,
      "outputs": [
        {
          "output_type": "stream",
          "name": "stdout",
          "text": [
            "안녕\n",
            "안녕\n",
            "안녕\n"
          ]
        }
      ]
    },
    {
      "cell_type": "markdown",
      "source": [
        "## 일반매개변수"
      ],
      "metadata": {
        "id": "zG2KI5_VLvU0"
      }
    },
    {
      "cell_type": "code",
      "source": [
        "# 일반매개변수 = 값을 순서대로 입력\n",
        "def printntimes(value,n):\n",
        "  for i in range(n): # n은 반드시 정수\n",
        "    print(value) # 무슨 값이든 상관 없음\n",
        "\n",
        "printntimes(\"안녕\",3)"
      ],
      "metadata": {
        "colab": {
          "base_uri": "https://localhost:8080/"
        },
        "id": "zjNFknVnJz6_",
        "outputId": "5c5e72ec-ca15-46be-8f7b-c4eac00a3743"
      },
      "execution_count": null,
      "outputs": [
        {
          "output_type": "stream",
          "name": "stdout",
          "text": [
            "안녕\n",
            "안녕\n",
            "안녕\n"
          ]
        }
      ]
    },
    {
      "cell_type": "code",
      "source": [
        "printntimes(\"안녕\",3/2) #range에 정수형이 들어 가야하기 때문에 에러 발생"
      ],
      "metadata": {
        "id": "vAHCqIwfMhy6"
      },
      "execution_count": null,
      "outputs": []
    },
    {
      "cell_type": "code",
      "source": [
        "printntimes()"
      ],
      "metadata": {
        "id": "qKTk3ptkMkcS"
      },
      "execution_count": null,
      "outputs": []
    },
    {
      "cell_type": "code",
      "source": [
        "printntimes(\"안녕\")"
      ],
      "metadata": {
        "id": "el8lzVGSMl-Q"
      },
      "execution_count": null,
      "outputs": []
    },
    {
      "cell_type": "code",
      "source": [
        "printntimes(3,3)"
      ],
      "metadata": {
        "colab": {
          "base_uri": "https://localhost:8080/"
        },
        "id": "tWAJQhfvMnOG",
        "outputId": "f75633bb-5e2e-437f-eb65-56ff8709c663"
      },
      "execution_count": null,
      "outputs": [
        {
          "output_type": "stream",
          "name": "stdout",
          "text": [
            "3\n",
            "3\n",
            "3\n"
          ]
        }
      ]
    },
    {
      "cell_type": "code",
      "source": [
        "printntimes(3,3,3)"
      ],
      "metadata": {
        "id": "hcKtTgv9MonP"
      },
      "execution_count": null,
      "outputs": []
    },
    {
      "cell_type": "markdown",
      "source": [
        "## 가변매개변수"
      ],
      "metadata": {
        "id": "aLM5qEi2Lw24"
      }
    },
    {
      "cell_type": "code",
      "source": [
        "# 가변매개변수 = 입력할 수 있는 값의 개수 제한이 없음 = *values\n",
        "# 일반매개변수 뒤에 와야함\n",
        "def printntimes(n, *values):\n",
        "  for i in range(n): # n은 반드시 정수\n",
        "    for j in values:\n",
        "      print(j)\n",
        "\n",
        "printntimes(3,\"안녕\",\"파이썬\",\"재밌니\")"
      ],
      "metadata": {
        "colab": {
          "base_uri": "https://localhost:8080/"
        },
        "id": "7W8UUZQgKzv4",
        "outputId": "f9e31680-bfcd-461c-a3fa-e16955a5e525"
      },
      "execution_count": null,
      "outputs": [
        {
          "output_type": "stream",
          "name": "stdout",
          "text": [
            "안녕\n",
            "파이썬\n",
            "재밌니\n",
            "안녕\n",
            "파이썬\n",
            "재밌니\n",
            "안녕\n",
            "파이썬\n",
            "재밌니\n"
          ]
        }
      ]
    },
    {
      "cell_type": "markdown",
      "source": [
        "## 기본매개변수"
      ],
      "metadata": {
        "id": "bOzLZVeaO2VR"
      }
    },
    {
      "cell_type": "code",
      "source": [
        "# 기본매개변수 = 기본값을 가지는 매개변수\n",
        "# 가본매개변수 뒤에 기본매개변수\n",
        "def printntimes(*values, n = 3):\n",
        "  for i in range(n):\n",
        "    for j in values:\n",
        "      print(j)\n",
        "\n",
        "printntimes(\"안녕\",\"파이썬\",\"재밌니\")\n",
        "# 순서 : 일반매개변수 - 기본매개변수 - 가변매개변수"
      ],
      "metadata": {
        "colab": {
          "base_uri": "https://localhost:8080/"
        },
        "id": "qx-LMQWwN4Sr",
        "outputId": "6f0d5601-9dd2-4ccb-89e3-67dc4ded38e4"
      },
      "execution_count": null,
      "outputs": [
        {
          "output_type": "stream",
          "name": "stdout",
          "text": [
            "안녕\n",
            "파이썬\n",
            "재밌니\n",
            "안녕\n",
            "파이썬\n",
            "재밌니\n",
            "안녕\n",
            "파이썬\n",
            "재밌니\n"
          ]
        }
      ]
    },
    {
      "cell_type": "markdown",
      "source": [
        "## 키워드 매개변수"
      ],
      "metadata": {
        "id": "lJsT7qfTS3Nv"
      }
    },
    {
      "cell_type": "code",
      "source": [
        "# 매개변수의 이름을 지정해서 입력\n",
        "printntimes(\"안녕\",\"파이썬\",\"재밌니\",n=5)"
      ],
      "metadata": {
        "colab": {
          "base_uri": "https://localhost:8080/"
        },
        "id": "I-oj2c88PRyH",
        "outputId": "42966daa-5857-4f0a-fb28-5f7fc65334fa"
      },
      "execution_count": null,
      "outputs": [
        {
          "output_type": "stream",
          "name": "stdout",
          "text": [
            "안녕\n",
            "파이썬\n",
            "재밌니\n",
            "안녕\n",
            "파이썬\n",
            "재밌니\n",
            "안녕\n",
            "파이썬\n",
            "재밌니\n",
            "안녕\n",
            "파이썬\n",
            "재밌니\n",
            "안녕\n",
            "파이썬\n",
            "재밌니\n"
          ]
        }
      ]
    },
    {
      "cell_type": "code",
      "source": [
        "printntimes(\"안녕\",\"파이썬\",\"재밌니\",5)"
      ],
      "metadata": {
        "colab": {
          "base_uri": "https://localhost:8080/"
        },
        "id": "tDi-25MoN1Gu",
        "outputId": "6527a999-a1ef-4606-a7dd-519dd2261d1e"
      },
      "execution_count": null,
      "outputs": [
        {
          "output_type": "stream",
          "name": "stdout",
          "text": [
            "안녕\n",
            "파이썬\n",
            "재밌니\n",
            "5\n",
            "안녕\n",
            "파이썬\n",
            "재밌니\n",
            "5\n",
            "안녕\n",
            "파이썬\n",
            "재밌니\n",
            "5\n"
          ]
        }
      ]
    },
    {
      "cell_type": "code",
      "source": [
        "printntimes(n=5, \"안녕\",\"파이썬\",\"재밌니\")"
      ],
      "metadata": {
        "colab": {
          "base_uri": "https://localhost:8080/",
          "height": 136
        },
        "id": "L9YVIbjrNUc9",
        "outputId": "ea6bd5ab-d265-4c4f-a3d5-3f771f9d9ec4"
      },
      "execution_count": null,
      "outputs": [
        {
          "output_type": "error",
          "ename": "SyntaxError",
          "evalue": "ignored",
          "traceback": [
            "\u001b[0;36m  File \u001b[0;32m\"<ipython-input-38-f8452f92d62d>\"\u001b[0;36m, line \u001b[0;32m1\u001b[0m\n\u001b[0;31m    printntimes(n=5, \"안녕\",\"파이썬\",\"재밌니\")\u001b[0m\n\u001b[0m                                     ^\u001b[0m\n\u001b[0;31mSyntaxError\u001b[0m\u001b[0;31m:\u001b[0m positional argument follows keyword argument\n"
          ]
        }
      ]
    },
    {
      "cell_type": "code",
      "source": [
        "# 키워드 매개변수를 사용하면 좋은 점\n",
        "# 순서 고려하지 않아도 됨\n",
        "def test(a,b=3,c=4):\n",
        "  print(a+b+c)"
      ],
      "metadata": {
        "id": "2IEFRjNuKyrx"
      },
      "execution_count": null,
      "outputs": []
    },
    {
      "cell_type": "code",
      "source": [
        "# 1) 기본 형태로 사용 = 매개변수 순서대로 입력\n",
        "test(2,4,6)"
      ],
      "metadata": {
        "colab": {
          "base_uri": "https://localhost:8080/"
        },
        "id": "wIsXERrT_ivC",
        "outputId": "92ad3cdb-9307-4312-9588-9994f0c8c72f"
      },
      "execution_count": null,
      "outputs": [
        {
          "output_type": "stream",
          "name": "stdout",
          "text": [
            "12\n"
          ]
        }
      ]
    },
    {
      "cell_type": "code",
      "source": [
        "test(2) # 위치기반 2+3+4"
      ],
      "metadata": {
        "colab": {
          "base_uri": "https://localhost:8080/"
        },
        "id": "BCvjeKDf_ejL",
        "outputId": "673a487a-230c-49b2-aa1c-932be04f91dc"
      },
      "execution_count": null,
      "outputs": [
        {
          "output_type": "stream",
          "name": "stdout",
          "text": [
            "9\n"
          ]
        }
      ]
    },
    {
      "cell_type": "code",
      "source": [
        "# 2) 키워드 매개변수로 입력\n",
        "test(a = 2)"
      ],
      "metadata": {
        "colab": {
          "base_uri": "https://localhost:8080/"
        },
        "id": "rBS0lvdxUSa2",
        "outputId": "1c4f7b8c-8f5d-4017-f5cb-5149a8d28fa2"
      },
      "execution_count": null,
      "outputs": [
        {
          "output_type": "stream",
          "name": "stdout",
          "text": [
            "9\n"
          ]
        }
      ]
    },
    {
      "cell_type": "code",
      "source": [
        "test(a = 2, b = 4, c = 7)"
      ],
      "metadata": {
        "colab": {
          "base_uri": "https://localhost:8080/"
        },
        "id": "QfJSOLrFUgqD",
        "outputId": "acdd55ad-9a7d-41cb-afae-8a623c28a180"
      },
      "execution_count": null,
      "outputs": [
        {
          "output_type": "stream",
          "name": "stdout",
          "text": [
            "13\n"
          ]
        }
      ]
    },
    {
      "cell_type": "code",
      "source": [
        "# 3) 키워드 매개변수 순서를 바꿔 입력 !!! GOOD\n",
        "test(b = 4, c = 7, a = 2)"
      ],
      "metadata": {
        "colab": {
          "base_uri": "https://localhost:8080/"
        },
        "id": "VcePkM4PUjpu",
        "outputId": "29f876a7-c74e-4dfa-8729-4c0c0482af85"
      },
      "execution_count": null,
      "outputs": [
        {
          "output_type": "stream",
          "name": "stdout",
          "text": [
            "13\n"
          ]
        }
      ]
    },
    {
      "cell_type": "code",
      "source": [
        "# 4) 키워드 매개변수 일부만 사용\n",
        "test(a = 2, c = 7)"
      ],
      "metadata": {
        "colab": {
          "base_uri": "https://localhost:8080/"
        },
        "id": "fUos-Vi_Uwcq",
        "outputId": "f4bb8c49-8750-4848-dea2-7859750dac7d"
      },
      "execution_count": null,
      "outputs": [
        {
          "output_type": "stream",
          "name": "stdout",
          "text": [
            "12\n"
          ]
        }
      ]
    },
    {
      "cell_type": "code",
      "source": [
        "test(2,c = 7)"
      ],
      "metadata": {
        "colab": {
          "base_uri": "https://localhost:8080/"
        },
        "id": "Ps2IlHqqVHK9",
        "outputId": "2b7916d9-b573-4d28-f532-845879ee96b7"
      },
      "execution_count": null,
      "outputs": [
        {
          "output_type": "stream",
          "name": "stdout",
          "text": [
            "12\n"
          ]
        }
      ]
    },
    {
      "cell_type": "markdown",
      "source": [
        "## return"
      ],
      "metadata": {
        "id": "pucbHLlEW-iq"
      }
    },
    {
      "cell_type": "code",
      "source": [
        "# 리턴 = 반환값, 리턴값 = 함수 적용 결과\n",
        "# 1) 자료 없이 리턴\n",
        "def return_test():\n",
        "  print(\"A\")\n",
        "  return\n",
        "  print(\"B\")\n",
        "\n",
        "return_test()"
      ],
      "metadata": {
        "colab": {
          "base_uri": "https://localhost:8080/"
        },
        "id": "L_HVGBjsVIsc",
        "outputId": "a365b550-8957-4529-f7e7-3ed8e1bb59fa"
      },
      "execution_count": null,
      "outputs": [
        {
          "output_type": "stream",
          "name": "stdout",
          "text": [
            "A\n"
          ]
        }
      ]
    },
    {
      "cell_type": "code",
      "source": [
        "# 2) 자료와 함께 리턴\n",
        "def return_test():\n",
        "  return \"B\"\n",
        "\n",
        "return_test()"
      ],
      "metadata": {
        "colab": {
          "base_uri": "https://localhost:8080/",
          "height": 35
        },
        "id": "c2PchJ_KYIhT",
        "outputId": "5ea3f4d7-ab4c-446d-d360-acf641d5a9fc"
      },
      "execution_count": null,
      "outputs": [
        {
          "output_type": "execute_result",
          "data": {
            "text/plain": [
              "'B'"
            ],
            "application/vnd.google.colaboratory.intrinsic+json": {
              "type": "string"
            }
          },
          "metadata": {},
          "execution_count": 51
        }
      ]
    },
    {
      "cell_type": "code",
      "source": [
        "def return_test():\n",
        "  a = 3+2\n",
        "  return 1\n",
        "\n",
        "return_test()"
      ],
      "metadata": {
        "colab": {
          "base_uri": "https://localhost:8080/"
        },
        "id": "JBgROdBgYz1r",
        "outputId": "ce5085a6-d1f0-4b41-b2d3-525eb9862dcb"
      },
      "execution_count": null,
      "outputs": [
        {
          "output_type": "execute_result",
          "data": {
            "text/plain": [
              "1"
            ]
          },
          "metadata": {},
          "execution_count": 52
        }
      ]
    },
    {
      "cell_type": "markdown",
      "source": [
        "## 입력한 값을 모두 더하는 함수"
      ],
      "metadata": {
        "id": "J466fx8IaOxi"
      }
    },
    {
      "cell_type": "code",
      "source": [
        "def sum_all(start,end):\n",
        "  output = 0\n",
        "  for i in range(start, end+1):\n",
        "    output += i\n",
        "  return output"
      ],
      "metadata": {
        "id": "GidzqE6CVD39"
      },
      "execution_count": null,
      "outputs": []
    },
    {
      "cell_type": "code",
      "source": [
        "# 일반매개변수로 사용 = 순서대로 입력\n",
        "sum_all(1,3)"
      ],
      "metadata": {
        "colab": {
          "base_uri": "https://localhost:8080/"
        },
        "id": "JwSPHTvxbP3w",
        "outputId": "1e547ba0-e510-4bbf-c37e-de1fc9bbc112"
      },
      "execution_count": null,
      "outputs": [
        {
          "output_type": "execute_result",
          "data": {
            "text/plain": [
              "6"
            ]
          },
          "metadata": {},
          "execution_count": 58
        }
      ]
    },
    {
      "cell_type": "code",
      "source": [
        "# 키워드 매개변수로 사용 = 순서 상관 없음\n",
        "sum_all(start=1, end=3)"
      ],
      "metadata": {
        "colab": {
          "base_uri": "https://localhost:8080/"
        },
        "id": "6gxBpI-ZbSDx",
        "outputId": "e25116ea-9309-4d98-b92b-cf75c698921e"
      },
      "execution_count": null,
      "outputs": [
        {
          "output_type": "execute_result",
          "data": {
            "text/plain": [
              "6"
            ]
          },
          "metadata": {},
          "execution_count": 59
        }
      ]
    },
    {
      "cell_type": "code",
      "source": [
        "sum_all(end = 3, start = 1)"
      ],
      "metadata": {
        "colab": {
          "base_uri": "https://localhost:8080/"
        },
        "id": "zuyMY5BDbU9Z",
        "outputId": "cc30f366-9f61-43d3-803d-9ad53826e733"
      },
      "execution_count": null,
      "outputs": [
        {
          "output_type": "execute_result",
          "data": {
            "text/plain": [
              "6"
            ]
          },
          "metadata": {},
          "execution_count": 60
        }
      ]
    },
    {
      "cell_type": "code",
      "source": [
        "# 기본매개변수\n",
        "def sum_all(start=1,end=10,step=2):\n",
        "  output = 0\n",
        "  for i in range(start, end+1):\n",
        "    output += i\n",
        "  return output"
      ],
      "metadata": {
        "id": "6DAH4qtKbwLx"
      },
      "execution_count": null,
      "outputs": []
    },
    {
      "cell_type": "code",
      "source": [
        "sum_all()"
      ],
      "metadata": {
        "colab": {
          "base_uri": "https://localhost:8080/"
        },
        "id": "gt20LAMUcl54",
        "outputId": "d5d42a9e-f396-44d3-d0c2-f96a793ef7b9"
      },
      "execution_count": null,
      "outputs": [
        {
          "output_type": "execute_result",
          "data": {
            "text/plain": [
              "55"
            ]
          },
          "metadata": {},
          "execution_count": 62
        }
      ]
    },
    {
      "cell_type": "code",
      "source": [
        "# 일반매개변수로 사용 = 순서대로 입력\n",
        "sum_all(1,5,2)"
      ],
      "metadata": {
        "colab": {
          "base_uri": "https://localhost:8080/"
        },
        "id": "aFe2Kktwcmn7",
        "outputId": "113ed8fa-c7d2-4d3b-d9d8-c541d4c89fad"
      },
      "execution_count": null,
      "outputs": [
        {
          "output_type": "execute_result",
          "data": {
            "text/plain": [
              "15"
            ]
          },
          "metadata": {},
          "execution_count": 63
        }
      ]
    },
    {
      "cell_type": "code",
      "source": [
        "# 키워드 매개변수로 사용 = 순서 상관 없음\n",
        "sum_all(start = 2, end = 5, step = 2)"
      ],
      "metadata": {
        "colab": {
          "base_uri": "https://localhost:8080/"
        },
        "id": "kQNovR8JcqmZ",
        "outputId": "fb2d3cdd-23d1-4713-d60d-7c1e36030237"
      },
      "execution_count": null,
      "outputs": [
        {
          "output_type": "execute_result",
          "data": {
            "text/plain": [
              "14"
            ]
          },
          "metadata": {},
          "execution_count": 64
        }
      ]
    },
    {
      "cell_type": "code",
      "source": [
        "sum_all(step = 2, start = 2, end = 5)"
      ],
      "metadata": {
        "colab": {
          "base_uri": "https://localhost:8080/"
        },
        "id": "0Jr2fwDzcw2R",
        "outputId": "6c41e5f6-6a5d-484b-c85d-9d9a64a5e4cb"
      },
      "execution_count": null,
      "outputs": [
        {
          "output_type": "execute_result",
          "data": {
            "text/plain": [
              "14"
            ]
          },
          "metadata": {},
          "execution_count": 65
        }
      ]
    },
    {
      "cell_type": "code",
      "source": [
        "# 키워드 매개변수 일부만 사용\n",
        "sum_all(start = 1, step = 2)"
      ],
      "metadata": {
        "colab": {
          "base_uri": "https://localhost:8080/"
        },
        "id": "-w_8EJhjc2pm",
        "outputId": "969f4a0f-e85e-41bb-d834-f31abad835c4"
      },
      "execution_count": null,
      "outputs": [
        {
          "output_type": "execute_result",
          "data": {
            "text/plain": [
              "55"
            ]
          },
          "metadata": {},
          "execution_count": 66
        }
      ]
    },
    {
      "cell_type": "markdown",
      "source": [
        "#함수의 활용"
      ],
      "metadata": {
        "id": "tkG2zwTXtwqh"
      }
    },
    {
      "cell_type": "markdown",
      "source": [
        "## 재귀함수"
      ],
      "metadata": {
        "id": "qyrjVSV3vbLh"
      }
    },
    {
      "cell_type": "code",
      "source": [
        "# 팩토리얼\n",
        "# 반복문으로 구현\n",
        "def factorial(n):\n",
        "  output = 1\n",
        "  for i in range(1,n+1):\n",
        "    output *= i\n",
        "  return output"
      ],
      "metadata": {
        "id": "hbtzrL-Qc645"
      },
      "execution_count": null,
      "outputs": []
    },
    {
      "cell_type": "code",
      "source": [
        "print(factorial(1))\n",
        "print(factorial(2))\n",
        "print(factorial(3))"
      ],
      "metadata": {
        "colab": {
          "base_uri": "https://localhost:8080/"
        },
        "id": "trgRTbz7wX48",
        "outputId": "0c9e871f-efc8-438f-caf1-cefaccb93626"
      },
      "execution_count": null,
      "outputs": [
        {
          "output_type": "stream",
          "name": "stdout",
          "text": [
            "1\n",
            "2\n",
            "6\n"
          ]
        }
      ]
    },
    {
      "cell_type": "code",
      "source": [
        "def factorial(n):\n",
        "  output = 1\n",
        "  for i in range(n,1-1,-1):\n",
        "    output *= i\n",
        "  return output"
      ],
      "metadata": {
        "id": "L0FIUTO4wl7K"
      },
      "execution_count": null,
      "outputs": []
    },
    {
      "cell_type": "code",
      "source": [
        "print(factorial(1))\n",
        "print(factorial(2))\n",
        "print(factorial(3))"
      ],
      "metadata": {
        "colab": {
          "base_uri": "https://localhost:8080/"
        },
        "id": "I5Rk_rsywtgD",
        "outputId": "dbccaa8f-e3d0-4912-efb9-f21577d88c86"
      },
      "execution_count": null,
      "outputs": [
        {
          "output_type": "stream",
          "name": "stdout",
          "text": [
            "1\n",
            "2\n",
            "6\n"
          ]
        }
      ]
    },
    {
      "cell_type": "code",
      "source": [
        "# 재귀함수로 구현\n",
        "def factorial(n):\n",
        "  if n == 0:\n",
        "    return 1\n",
        "  else:\n",
        "    return n*factorial(n-1)"
      ],
      "metadata": {
        "id": "0nDd4CWxwgCp"
      },
      "execution_count": null,
      "outputs": []
    },
    {
      "cell_type": "code",
      "source": [
        "print(factorial(1))\n",
        "print(factorial(2))\n",
        "print(factorial(3))"
      ],
      "metadata": {
        "colab": {
          "base_uri": "https://localhost:8080/"
        },
        "id": "hUlj5omiyL5C",
        "outputId": "a0f49817-4eb6-4297-b258-8637ad107367"
      },
      "execution_count": null,
      "outputs": [
        {
          "output_type": "stream",
          "name": "stdout",
          "text": [
            "1\n",
            "2\n",
            "6\n"
          ]
        }
      ]
    },
    {
      "cell_type": "markdown",
      "source": [
        "## 피보나치 수열"
      ],
      "metadata": {
        "id": "yNKxH9Ad2bde"
      }
    },
    {
      "cell_type": "code",
      "source": [
        "# 피보나치 수열 = 앞의 두 숫자를 합한게 다음 숫자\n",
        "def fibonacci(n):\n",
        "  if n==1:\n",
        "    return 1\n",
        "  elif n==2:\n",
        "    return 1\n",
        "  else:\n",
        "    return fibonacci(n-1)+fibonacci(n-2)"
      ],
      "metadata": {
        "id": "F3ZK71BZwcz_"
      },
      "execution_count": null,
      "outputs": []
    },
    {
      "cell_type": "code",
      "source": [
        "print(fibonacci(1))\n",
        "print(fibonacci(2))\n",
        "print(fibonacci(3))\n",
        "print(fibonacci(4))\n",
        "print(fibonacci(5))"
      ],
      "metadata": {
        "colab": {
          "base_uri": "https://localhost:8080/"
        },
        "id": "I0ooPezK2lJ6",
        "outputId": "be267127-404a-4146-cc8f-ddc2e317df3f"
      },
      "execution_count": null,
      "outputs": [
        {
          "output_type": "stream",
          "name": "stdout",
          "text": [
            "1\n",
            "1\n",
            "2\n",
            "3\n",
            "5\n"
          ]
        }
      ]
    },
    {
      "cell_type": "code",
      "source": [
        "print(fibonacci(25))"
      ],
      "metadata": {
        "colab": {
          "base_uri": "https://localhost:8080/"
        },
        "id": "nJYnAnOrcj7J",
        "outputId": "686fcf52-772b-44f8-9020-2f5c212e8ebf"
      },
      "execution_count": null,
      "outputs": [
        {
          "output_type": "stream",
          "name": "stdout",
          "text": [
            "75025\n"
          ]
        }
      ]
    },
    {
      "cell_type": "code",
      "source": [
        "print(fibonacci(50)) # 같은 계산 반복하는 문제 발생"
      ],
      "metadata": {
        "colab": {
          "base_uri": "https://localhost:8080/",
          "height": 323
        },
        "id": "FRmbTkmt3zTG",
        "outputId": "41dd8ced-0178-478d-e21c-7eecc3313e79"
      },
      "execution_count": null,
      "outputs": [
        {
          "output_type": "error",
          "ename": "KeyboardInterrupt",
          "evalue": "ignored",
          "traceback": [
            "\u001b[0;31m---------------------------------------------------------------------------\u001b[0m",
            "\u001b[0;31mKeyboardInterrupt\u001b[0m                         Traceback (most recent call last)",
            "\u001b[0;32m<ipython-input-83-a05d7ce37f43>\u001b[0m in \u001b[0;36m<cell line: 1>\u001b[0;34m()\u001b[0m\n\u001b[0;32m----> 1\u001b[0;31m \u001b[0mprint\u001b[0m\u001b[0;34m(\u001b[0m\u001b[0mfibonacci\u001b[0m\u001b[0;34m(\u001b[0m\u001b[0;36m50\u001b[0m\u001b[0;34m)\u001b[0m\u001b[0;34m)\u001b[0m \u001b[0;31m# 같은 계산 반복하는 문제 발생\u001b[0m\u001b[0;34m\u001b[0m\u001b[0;34m\u001b[0m\u001b[0m\n\u001b[0m",
            "\u001b[0;32m<ipython-input-79-22faa436e0cc>\u001b[0m in \u001b[0;36mfibonacci\u001b[0;34m(n)\u001b[0m\n\u001b[1;32m      6\u001b[0m     \u001b[0;32mreturn\u001b[0m \u001b[0;36m1\u001b[0m\u001b[0;34m\u001b[0m\u001b[0;34m\u001b[0m\u001b[0m\n\u001b[1;32m      7\u001b[0m   \u001b[0;32melse\u001b[0m\u001b[0;34m:\u001b[0m\u001b[0;34m\u001b[0m\u001b[0;34m\u001b[0m\u001b[0m\n\u001b[0;32m----> 8\u001b[0;31m     \u001b[0;32mreturn\u001b[0m \u001b[0mfibonacci\u001b[0m\u001b[0;34m(\u001b[0m\u001b[0mn\u001b[0m\u001b[0;34m-\u001b[0m\u001b[0;36m1\u001b[0m\u001b[0;34m)\u001b[0m\u001b[0;34m+\u001b[0m\u001b[0mfibonacci\u001b[0m\u001b[0;34m(\u001b[0m\u001b[0mn\u001b[0m\u001b[0;34m-\u001b[0m\u001b[0;36m2\u001b[0m\u001b[0;34m)\u001b[0m\u001b[0;34m\u001b[0m\u001b[0;34m\u001b[0m\u001b[0m\n\u001b[0m",
            "\u001b[0;32m<ipython-input-79-22faa436e0cc>\u001b[0m in \u001b[0;36mfibonacci\u001b[0;34m(n)\u001b[0m\n\u001b[1;32m      6\u001b[0m     \u001b[0;32mreturn\u001b[0m \u001b[0;36m1\u001b[0m\u001b[0;34m\u001b[0m\u001b[0;34m\u001b[0m\u001b[0m\n\u001b[1;32m      7\u001b[0m   \u001b[0;32melse\u001b[0m\u001b[0;34m:\u001b[0m\u001b[0;34m\u001b[0m\u001b[0;34m\u001b[0m\u001b[0m\n\u001b[0;32m----> 8\u001b[0;31m     \u001b[0;32mreturn\u001b[0m \u001b[0mfibonacci\u001b[0m\u001b[0;34m(\u001b[0m\u001b[0mn\u001b[0m\u001b[0;34m-\u001b[0m\u001b[0;36m1\u001b[0m\u001b[0;34m)\u001b[0m\u001b[0;34m+\u001b[0m\u001b[0mfibonacci\u001b[0m\u001b[0;34m(\u001b[0m\u001b[0mn\u001b[0m\u001b[0;34m-\u001b[0m\u001b[0;36m2\u001b[0m\u001b[0;34m)\u001b[0m\u001b[0;34m\u001b[0m\u001b[0;34m\u001b[0m\u001b[0m\n\u001b[0m",
            "\u001b[0;32m<ipython-input-79-22faa436e0cc>\u001b[0m in \u001b[0;36mfibonacci\u001b[0;34m(n)\u001b[0m\n\u001b[1;32m      6\u001b[0m     \u001b[0;32mreturn\u001b[0m \u001b[0;36m1\u001b[0m\u001b[0;34m\u001b[0m\u001b[0;34m\u001b[0m\u001b[0m\n\u001b[1;32m      7\u001b[0m   \u001b[0;32melse\u001b[0m\u001b[0;34m:\u001b[0m\u001b[0;34m\u001b[0m\u001b[0;34m\u001b[0m\u001b[0m\n\u001b[0;32m----> 8\u001b[0;31m     \u001b[0;32mreturn\u001b[0m \u001b[0mfibonacci\u001b[0m\u001b[0;34m(\u001b[0m\u001b[0mn\u001b[0m\u001b[0;34m-\u001b[0m\u001b[0;36m1\u001b[0m\u001b[0;34m)\u001b[0m\u001b[0;34m+\u001b[0m\u001b[0mfibonacci\u001b[0m\u001b[0;34m(\u001b[0m\u001b[0mn\u001b[0m\u001b[0;34m-\u001b[0m\u001b[0;36m2\u001b[0m\u001b[0;34m)\u001b[0m\u001b[0;34m\u001b[0m\u001b[0;34m\u001b[0m\u001b[0m\n\u001b[0m",
            "\u001b[0;32m<ipython-input-79-22faa436e0cc>\u001b[0m in \u001b[0;36mfibonacci\u001b[0;34m(n)\u001b[0m\n\u001b[1;32m      6\u001b[0m     \u001b[0;32mreturn\u001b[0m \u001b[0;36m1\u001b[0m\u001b[0;34m\u001b[0m\u001b[0;34m\u001b[0m\u001b[0m\n\u001b[1;32m      7\u001b[0m   \u001b[0;32melse\u001b[0m\u001b[0;34m:\u001b[0m\u001b[0;34m\u001b[0m\u001b[0;34m\u001b[0m\u001b[0m\n\u001b[0;32m----> 8\u001b[0;31m     \u001b[0;32mreturn\u001b[0m \u001b[0mfibonacci\u001b[0m\u001b[0;34m(\u001b[0m\u001b[0mn\u001b[0m\u001b[0;34m-\u001b[0m\u001b[0;36m1\u001b[0m\u001b[0;34m)\u001b[0m\u001b[0;34m+\u001b[0m\u001b[0mfibonacci\u001b[0m\u001b[0;34m(\u001b[0m\u001b[0mn\u001b[0m\u001b[0;34m-\u001b[0m\u001b[0;36m2\u001b[0m\u001b[0;34m)\u001b[0m\u001b[0;34m\u001b[0m\u001b[0;34m\u001b[0m\u001b[0m\n\u001b[0m",
            "\u001b[0;32m<ipython-input-79-22faa436e0cc>\u001b[0m in \u001b[0;36mfibonacci\u001b[0;34m(n)\u001b[0m\n\u001b[1;32m      6\u001b[0m     \u001b[0;32mreturn\u001b[0m \u001b[0;36m1\u001b[0m\u001b[0;34m\u001b[0m\u001b[0;34m\u001b[0m\u001b[0m\n\u001b[1;32m      7\u001b[0m   \u001b[0;32melse\u001b[0m\u001b[0;34m:\u001b[0m\u001b[0;34m\u001b[0m\u001b[0;34m\u001b[0m\u001b[0m\n\u001b[0;32m----> 8\u001b[0;31m     \u001b[0;32mreturn\u001b[0m \u001b[0mfibonacci\u001b[0m\u001b[0;34m(\u001b[0m\u001b[0mn\u001b[0m\u001b[0;34m-\u001b[0m\u001b[0;36m1\u001b[0m\u001b[0;34m)\u001b[0m\u001b[0;34m+\u001b[0m\u001b[0mfibonacci\u001b[0m\u001b[0;34m(\u001b[0m\u001b[0mn\u001b[0m\u001b[0;34m-\u001b[0m\u001b[0;36m2\u001b[0m\u001b[0;34m)\u001b[0m\u001b[0;34m\u001b[0m\u001b[0;34m\u001b[0m\u001b[0m\n\u001b[0m",
            "\u001b[0;32m<ipython-input-79-22faa436e0cc>\u001b[0m in \u001b[0;36mfibonacci\u001b[0;34m(n)\u001b[0m\n\u001b[1;32m      6\u001b[0m     \u001b[0;32mreturn\u001b[0m \u001b[0;36m1\u001b[0m\u001b[0;34m\u001b[0m\u001b[0;34m\u001b[0m\u001b[0m\n\u001b[1;32m      7\u001b[0m   \u001b[0;32melse\u001b[0m\u001b[0;34m:\u001b[0m\u001b[0;34m\u001b[0m\u001b[0;34m\u001b[0m\u001b[0m\n\u001b[0;32m----> 8\u001b[0;31m     \u001b[0;32mreturn\u001b[0m \u001b[0mfibonacci\u001b[0m\u001b[0;34m(\u001b[0m\u001b[0mn\u001b[0m\u001b[0;34m-\u001b[0m\u001b[0;36m1\u001b[0m\u001b[0;34m)\u001b[0m\u001b[0;34m+\u001b[0m\u001b[0mfibonacci\u001b[0m\u001b[0;34m(\u001b[0m\u001b[0mn\u001b[0m\u001b[0;34m-\u001b[0m\u001b[0;36m2\u001b[0m\u001b[0;34m)\u001b[0m\u001b[0;34m\u001b[0m\u001b[0;34m\u001b[0m\u001b[0m\n\u001b[0m",
            "\u001b[0;32m<ipython-input-79-22faa436e0cc>\u001b[0m in \u001b[0;36mfibonacci\u001b[0;34m(n)\u001b[0m\n\u001b[1;32m      6\u001b[0m     \u001b[0;32mreturn\u001b[0m \u001b[0;36m1\u001b[0m\u001b[0;34m\u001b[0m\u001b[0;34m\u001b[0m\u001b[0m\n\u001b[1;32m      7\u001b[0m   \u001b[0;32melse\u001b[0m\u001b[0;34m:\u001b[0m\u001b[0;34m\u001b[0m\u001b[0;34m\u001b[0m\u001b[0m\n\u001b[0;32m----> 8\u001b[0;31m     \u001b[0;32mreturn\u001b[0m \u001b[0mfibonacci\u001b[0m\u001b[0;34m(\u001b[0m\u001b[0mn\u001b[0m\u001b[0;34m-\u001b[0m\u001b[0;36m1\u001b[0m\u001b[0;34m)\u001b[0m\u001b[0;34m+\u001b[0m\u001b[0mfibonacci\u001b[0m\u001b[0;34m(\u001b[0m\u001b[0mn\u001b[0m\u001b[0;34m-\u001b[0m\u001b[0;36m2\u001b[0m\u001b[0;34m)\u001b[0m\u001b[0;34m\u001b[0m\u001b[0;34m\u001b[0m\u001b[0m\n\u001b[0m",
            "\u001b[0;32m<ipython-input-79-22faa436e0cc>\u001b[0m in \u001b[0;36mfibonacci\u001b[0;34m(n)\u001b[0m\n\u001b[1;32m      6\u001b[0m     \u001b[0;32mreturn\u001b[0m \u001b[0;36m1\u001b[0m\u001b[0;34m\u001b[0m\u001b[0;34m\u001b[0m\u001b[0m\n\u001b[1;32m      7\u001b[0m   \u001b[0;32melse\u001b[0m\u001b[0;34m:\u001b[0m\u001b[0;34m\u001b[0m\u001b[0;34m\u001b[0m\u001b[0m\n\u001b[0;32m----> 8\u001b[0;31m     \u001b[0;32mreturn\u001b[0m \u001b[0mfibonacci\u001b[0m\u001b[0;34m(\u001b[0m\u001b[0mn\u001b[0m\u001b[0;34m-\u001b[0m\u001b[0;36m1\u001b[0m\u001b[0;34m)\u001b[0m\u001b[0;34m+\u001b[0m\u001b[0mfibonacci\u001b[0m\u001b[0;34m(\u001b[0m\u001b[0mn\u001b[0m\u001b[0;34m-\u001b[0m\u001b[0;36m2\u001b[0m\u001b[0;34m)\u001b[0m\u001b[0;34m\u001b[0m\u001b[0;34m\u001b[0m\u001b[0m\n\u001b[0m",
            "\u001b[0;32m<ipython-input-79-22faa436e0cc>\u001b[0m in \u001b[0;36mfibonacci\u001b[0;34m(n)\u001b[0m\n\u001b[1;32m      6\u001b[0m     \u001b[0;32mreturn\u001b[0m \u001b[0;36m1\u001b[0m\u001b[0;34m\u001b[0m\u001b[0;34m\u001b[0m\u001b[0m\n\u001b[1;32m      7\u001b[0m   \u001b[0;32melse\u001b[0m\u001b[0;34m:\u001b[0m\u001b[0;34m\u001b[0m\u001b[0;34m\u001b[0m\u001b[0m\n\u001b[0;32m----> 8\u001b[0;31m     \u001b[0;32mreturn\u001b[0m \u001b[0mfibonacci\u001b[0m\u001b[0;34m(\u001b[0m\u001b[0mn\u001b[0m\u001b[0;34m-\u001b[0m\u001b[0;36m1\u001b[0m\u001b[0;34m)\u001b[0m\u001b[0;34m+\u001b[0m\u001b[0mfibonacci\u001b[0m\u001b[0;34m(\u001b[0m\u001b[0mn\u001b[0m\u001b[0;34m-\u001b[0m\u001b[0;36m2\u001b[0m\u001b[0;34m)\u001b[0m\u001b[0;34m\u001b[0m\u001b[0;34m\u001b[0m\u001b[0m\n\u001b[0m",
            "\u001b[0;32m<ipython-input-79-22faa436e0cc>\u001b[0m in \u001b[0;36mfibonacci\u001b[0;34m(n)\u001b[0m\n\u001b[1;32m      6\u001b[0m     \u001b[0;32mreturn\u001b[0m \u001b[0;36m1\u001b[0m\u001b[0;34m\u001b[0m\u001b[0;34m\u001b[0m\u001b[0m\n\u001b[1;32m      7\u001b[0m   \u001b[0;32melse\u001b[0m\u001b[0;34m:\u001b[0m\u001b[0;34m\u001b[0m\u001b[0;34m\u001b[0m\u001b[0m\n\u001b[0;32m----> 8\u001b[0;31m     \u001b[0;32mreturn\u001b[0m \u001b[0mfibonacci\u001b[0m\u001b[0;34m(\u001b[0m\u001b[0mn\u001b[0m\u001b[0;34m-\u001b[0m\u001b[0;36m1\u001b[0m\u001b[0;34m)\u001b[0m\u001b[0;34m+\u001b[0m\u001b[0mfibonacci\u001b[0m\u001b[0;34m(\u001b[0m\u001b[0mn\u001b[0m\u001b[0;34m-\u001b[0m\u001b[0;36m2\u001b[0m\u001b[0;34m)\u001b[0m\u001b[0;34m\u001b[0m\u001b[0;34m\u001b[0m\u001b[0m\n\u001b[0m",
            "\u001b[0;32m<ipython-input-79-22faa436e0cc>\u001b[0m in \u001b[0;36mfibonacci\u001b[0;34m(n)\u001b[0m\n\u001b[1;32m      6\u001b[0m     \u001b[0;32mreturn\u001b[0m \u001b[0;36m1\u001b[0m\u001b[0;34m\u001b[0m\u001b[0;34m\u001b[0m\u001b[0m\n\u001b[1;32m      7\u001b[0m   \u001b[0;32melse\u001b[0m\u001b[0;34m:\u001b[0m\u001b[0;34m\u001b[0m\u001b[0;34m\u001b[0m\u001b[0m\n\u001b[0;32m----> 8\u001b[0;31m     \u001b[0;32mreturn\u001b[0m \u001b[0mfibonacci\u001b[0m\u001b[0;34m(\u001b[0m\u001b[0mn\u001b[0m\u001b[0;34m-\u001b[0m\u001b[0;36m1\u001b[0m\u001b[0;34m)\u001b[0m\u001b[0;34m+\u001b[0m\u001b[0mfibonacci\u001b[0m\u001b[0;34m(\u001b[0m\u001b[0mn\u001b[0m\u001b[0;34m-\u001b[0m\u001b[0;36m2\u001b[0m\u001b[0;34m)\u001b[0m\u001b[0;34m\u001b[0m\u001b[0;34m\u001b[0m\u001b[0m\n\u001b[0m",
            "\u001b[0;32m<ipython-input-79-22faa436e0cc>\u001b[0m in \u001b[0;36mfibonacci\u001b[0;34m(n)\u001b[0m\n\u001b[1;32m      6\u001b[0m     \u001b[0;32mreturn\u001b[0m \u001b[0;36m1\u001b[0m\u001b[0;34m\u001b[0m\u001b[0;34m\u001b[0m\u001b[0m\n\u001b[1;32m      7\u001b[0m   \u001b[0;32melse\u001b[0m\u001b[0;34m:\u001b[0m\u001b[0;34m\u001b[0m\u001b[0;34m\u001b[0m\u001b[0m\n\u001b[0;32m----> 8\u001b[0;31m     \u001b[0;32mreturn\u001b[0m \u001b[0mfibonacci\u001b[0m\u001b[0;34m(\u001b[0m\u001b[0mn\u001b[0m\u001b[0;34m-\u001b[0m\u001b[0;36m1\u001b[0m\u001b[0;34m)\u001b[0m\u001b[0;34m+\u001b[0m\u001b[0mfibonacci\u001b[0m\u001b[0;34m(\u001b[0m\u001b[0mn\u001b[0m\u001b[0;34m-\u001b[0m\u001b[0;36m2\u001b[0m\u001b[0;34m)\u001b[0m\u001b[0;34m\u001b[0m\u001b[0;34m\u001b[0m\u001b[0m\n\u001b[0m",
            "\u001b[0;32m<ipython-input-79-22faa436e0cc>\u001b[0m in \u001b[0;36mfibonacci\u001b[0;34m(n)\u001b[0m\n\u001b[1;32m      6\u001b[0m     \u001b[0;32mreturn\u001b[0m \u001b[0;36m1\u001b[0m\u001b[0;34m\u001b[0m\u001b[0;34m\u001b[0m\u001b[0m\n\u001b[1;32m      7\u001b[0m   \u001b[0;32melse\u001b[0m\u001b[0;34m:\u001b[0m\u001b[0;34m\u001b[0m\u001b[0;34m\u001b[0m\u001b[0m\n\u001b[0;32m----> 8\u001b[0;31m     \u001b[0;32mreturn\u001b[0m \u001b[0mfibonacci\u001b[0m\u001b[0;34m(\u001b[0m\u001b[0mn\u001b[0m\u001b[0;34m-\u001b[0m\u001b[0;36m1\u001b[0m\u001b[0;34m)\u001b[0m\u001b[0;34m+\u001b[0m\u001b[0mfibonacci\u001b[0m\u001b[0;34m(\u001b[0m\u001b[0mn\u001b[0m\u001b[0;34m-\u001b[0m\u001b[0;36m2\u001b[0m\u001b[0;34m)\u001b[0m\u001b[0;34m\u001b[0m\u001b[0;34m\u001b[0m\u001b[0m\n\u001b[0m",
            "\u001b[0;32m<ipython-input-79-22faa436e0cc>\u001b[0m in \u001b[0;36mfibonacci\u001b[0;34m(n)\u001b[0m\n\u001b[1;32m      6\u001b[0m     \u001b[0;32mreturn\u001b[0m \u001b[0;36m1\u001b[0m\u001b[0;34m\u001b[0m\u001b[0;34m\u001b[0m\u001b[0m\n\u001b[1;32m      7\u001b[0m   \u001b[0;32melse\u001b[0m\u001b[0;34m:\u001b[0m\u001b[0;34m\u001b[0m\u001b[0;34m\u001b[0m\u001b[0m\n\u001b[0;32m----> 8\u001b[0;31m     \u001b[0;32mreturn\u001b[0m \u001b[0mfibonacci\u001b[0m\u001b[0;34m(\u001b[0m\u001b[0mn\u001b[0m\u001b[0;34m-\u001b[0m\u001b[0;36m1\u001b[0m\u001b[0;34m)\u001b[0m\u001b[0;34m+\u001b[0m\u001b[0mfibonacci\u001b[0m\u001b[0;34m(\u001b[0m\u001b[0mn\u001b[0m\u001b[0;34m-\u001b[0m\u001b[0;36m2\u001b[0m\u001b[0;34m)\u001b[0m\u001b[0;34m\u001b[0m\u001b[0;34m\u001b[0m\u001b[0m\n\u001b[0m",
            "\u001b[0;32m<ipython-input-79-22faa436e0cc>\u001b[0m in \u001b[0;36mfibonacci\u001b[0;34m(n)\u001b[0m\n\u001b[1;32m      6\u001b[0m     \u001b[0;32mreturn\u001b[0m \u001b[0;36m1\u001b[0m\u001b[0;34m\u001b[0m\u001b[0;34m\u001b[0m\u001b[0m\n\u001b[1;32m      7\u001b[0m   \u001b[0;32melse\u001b[0m\u001b[0;34m:\u001b[0m\u001b[0;34m\u001b[0m\u001b[0;34m\u001b[0m\u001b[0m\n\u001b[0;32m----> 8\u001b[0;31m     \u001b[0;32mreturn\u001b[0m \u001b[0mfibonacci\u001b[0m\u001b[0;34m(\u001b[0m\u001b[0mn\u001b[0m\u001b[0;34m-\u001b[0m\u001b[0;36m1\u001b[0m\u001b[0;34m)\u001b[0m\u001b[0;34m+\u001b[0m\u001b[0mfibonacci\u001b[0m\u001b[0;34m(\u001b[0m\u001b[0mn\u001b[0m\u001b[0;34m-\u001b[0m\u001b[0;36m2\u001b[0m\u001b[0;34m)\u001b[0m\u001b[0;34m\u001b[0m\u001b[0;34m\u001b[0m\u001b[0m\n\u001b[0m",
            "\u001b[0;32m<ipython-input-79-22faa436e0cc>\u001b[0m in \u001b[0;36mfibonacci\u001b[0;34m(n)\u001b[0m\n\u001b[1;32m      6\u001b[0m     \u001b[0;32mreturn\u001b[0m \u001b[0;36m1\u001b[0m\u001b[0;34m\u001b[0m\u001b[0;34m\u001b[0m\u001b[0m\n\u001b[1;32m      7\u001b[0m   \u001b[0;32melse\u001b[0m\u001b[0;34m:\u001b[0m\u001b[0;34m\u001b[0m\u001b[0;34m\u001b[0m\u001b[0m\n\u001b[0;32m----> 8\u001b[0;31m     \u001b[0;32mreturn\u001b[0m \u001b[0mfibonacci\u001b[0m\u001b[0;34m(\u001b[0m\u001b[0mn\u001b[0m\u001b[0;34m-\u001b[0m\u001b[0;36m1\u001b[0m\u001b[0;34m)\u001b[0m\u001b[0;34m+\u001b[0m\u001b[0mfibonacci\u001b[0m\u001b[0;34m(\u001b[0m\u001b[0mn\u001b[0m\u001b[0;34m-\u001b[0m\u001b[0;36m2\u001b[0m\u001b[0;34m)\u001b[0m\u001b[0;34m\u001b[0m\u001b[0;34m\u001b[0m\u001b[0m\n\u001b[0m",
            "\u001b[0;32m<ipython-input-79-22faa436e0cc>\u001b[0m in \u001b[0;36mfibonacci\u001b[0;34m(n)\u001b[0m\n\u001b[1;32m      6\u001b[0m     \u001b[0;32mreturn\u001b[0m \u001b[0;36m1\u001b[0m\u001b[0;34m\u001b[0m\u001b[0;34m\u001b[0m\u001b[0m\n\u001b[1;32m      7\u001b[0m   \u001b[0;32melse\u001b[0m\u001b[0;34m:\u001b[0m\u001b[0;34m\u001b[0m\u001b[0;34m\u001b[0m\u001b[0m\n\u001b[0;32m----> 8\u001b[0;31m     \u001b[0;32mreturn\u001b[0m \u001b[0mfibonacci\u001b[0m\u001b[0;34m(\u001b[0m\u001b[0mn\u001b[0m\u001b[0;34m-\u001b[0m\u001b[0;36m1\u001b[0m\u001b[0;34m)\u001b[0m\u001b[0;34m+\u001b[0m\u001b[0mfibonacci\u001b[0m\u001b[0;34m(\u001b[0m\u001b[0mn\u001b[0m\u001b[0;34m-\u001b[0m\u001b[0;36m2\u001b[0m\u001b[0;34m)\u001b[0m\u001b[0;34m\u001b[0m\u001b[0;34m\u001b[0m\u001b[0m\n\u001b[0m",
            "\u001b[0;32m<ipython-input-79-22faa436e0cc>\u001b[0m in \u001b[0;36mfibonacci\u001b[0;34m(n)\u001b[0m\n\u001b[1;32m      6\u001b[0m     \u001b[0;32mreturn\u001b[0m \u001b[0;36m1\u001b[0m\u001b[0;34m\u001b[0m\u001b[0;34m\u001b[0m\u001b[0m\n\u001b[1;32m      7\u001b[0m   \u001b[0;32melse\u001b[0m\u001b[0;34m:\u001b[0m\u001b[0;34m\u001b[0m\u001b[0;34m\u001b[0m\u001b[0m\n\u001b[0;32m----> 8\u001b[0;31m     \u001b[0;32mreturn\u001b[0m \u001b[0mfibonacci\u001b[0m\u001b[0;34m(\u001b[0m\u001b[0mn\u001b[0m\u001b[0;34m-\u001b[0m\u001b[0;36m1\u001b[0m\u001b[0;34m)\u001b[0m\u001b[0;34m+\u001b[0m\u001b[0mfibonacci\u001b[0m\u001b[0;34m(\u001b[0m\u001b[0mn\u001b[0m\u001b[0;34m-\u001b[0m\u001b[0;36m2\u001b[0m\u001b[0;34m)\u001b[0m\u001b[0;34m\u001b[0m\u001b[0;34m\u001b[0m\u001b[0m\n\u001b[0m",
            "\u001b[0;32m<ipython-input-79-22faa436e0cc>\u001b[0m in \u001b[0;36mfibonacci\u001b[0;34m(n)\u001b[0m\n\u001b[1;32m      6\u001b[0m     \u001b[0;32mreturn\u001b[0m \u001b[0;36m1\u001b[0m\u001b[0;34m\u001b[0m\u001b[0;34m\u001b[0m\u001b[0m\n\u001b[1;32m      7\u001b[0m   \u001b[0;32melse\u001b[0m\u001b[0;34m:\u001b[0m\u001b[0;34m\u001b[0m\u001b[0;34m\u001b[0m\u001b[0m\n\u001b[0;32m----> 8\u001b[0;31m     \u001b[0;32mreturn\u001b[0m \u001b[0mfibonacci\u001b[0m\u001b[0;34m(\u001b[0m\u001b[0mn\u001b[0m\u001b[0;34m-\u001b[0m\u001b[0;36m1\u001b[0m\u001b[0;34m)\u001b[0m\u001b[0;34m+\u001b[0m\u001b[0mfibonacci\u001b[0m\u001b[0;34m(\u001b[0m\u001b[0mn\u001b[0m\u001b[0;34m-\u001b[0m\u001b[0;36m2\u001b[0m\u001b[0;34m)\u001b[0m\u001b[0;34m\u001b[0m\u001b[0;34m\u001b[0m\u001b[0m\n\u001b[0m",
            "\u001b[0;32m<ipython-input-79-22faa436e0cc>\u001b[0m in \u001b[0;36mfibonacci\u001b[0;34m(n)\u001b[0m\n\u001b[1;32m      6\u001b[0m     \u001b[0;32mreturn\u001b[0m \u001b[0;36m1\u001b[0m\u001b[0;34m\u001b[0m\u001b[0;34m\u001b[0m\u001b[0m\n\u001b[1;32m      7\u001b[0m   \u001b[0;32melse\u001b[0m\u001b[0;34m:\u001b[0m\u001b[0;34m\u001b[0m\u001b[0;34m\u001b[0m\u001b[0m\n\u001b[0;32m----> 8\u001b[0;31m     \u001b[0;32mreturn\u001b[0m \u001b[0mfibonacci\u001b[0m\u001b[0;34m(\u001b[0m\u001b[0mn\u001b[0m\u001b[0;34m-\u001b[0m\u001b[0;36m1\u001b[0m\u001b[0;34m)\u001b[0m\u001b[0;34m+\u001b[0m\u001b[0mfibonacci\u001b[0m\u001b[0;34m(\u001b[0m\u001b[0mn\u001b[0m\u001b[0;34m-\u001b[0m\u001b[0;36m2\u001b[0m\u001b[0;34m)\u001b[0m\u001b[0;34m\u001b[0m\u001b[0;34m\u001b[0m\u001b[0m\n\u001b[0m",
            "\u001b[0;32m<ipython-input-79-22faa436e0cc>\u001b[0m in \u001b[0;36mfibonacci\u001b[0;34m(n)\u001b[0m\n\u001b[1;32m      6\u001b[0m     \u001b[0;32mreturn\u001b[0m \u001b[0;36m1\u001b[0m\u001b[0;34m\u001b[0m\u001b[0;34m\u001b[0m\u001b[0m\n\u001b[1;32m      7\u001b[0m   \u001b[0;32melse\u001b[0m\u001b[0;34m:\u001b[0m\u001b[0;34m\u001b[0m\u001b[0;34m\u001b[0m\u001b[0m\n\u001b[0;32m----> 8\u001b[0;31m     \u001b[0;32mreturn\u001b[0m \u001b[0mfibonacci\u001b[0m\u001b[0;34m(\u001b[0m\u001b[0mn\u001b[0m\u001b[0;34m-\u001b[0m\u001b[0;36m1\u001b[0m\u001b[0;34m)\u001b[0m\u001b[0;34m+\u001b[0m\u001b[0mfibonacci\u001b[0m\u001b[0;34m(\u001b[0m\u001b[0mn\u001b[0m\u001b[0;34m-\u001b[0m\u001b[0;36m2\u001b[0m\u001b[0;34m)\u001b[0m\u001b[0;34m\u001b[0m\u001b[0;34m\u001b[0m\u001b[0m\n\u001b[0m",
            "\u001b[0;32m<ipython-input-79-22faa436e0cc>\u001b[0m in \u001b[0;36mfibonacci\u001b[0;34m(n)\u001b[0m\n\u001b[1;32m      6\u001b[0m     \u001b[0;32mreturn\u001b[0m \u001b[0;36m1\u001b[0m\u001b[0;34m\u001b[0m\u001b[0;34m\u001b[0m\u001b[0m\n\u001b[1;32m      7\u001b[0m   \u001b[0;32melse\u001b[0m\u001b[0;34m:\u001b[0m\u001b[0;34m\u001b[0m\u001b[0;34m\u001b[0m\u001b[0m\n\u001b[0;32m----> 8\u001b[0;31m     \u001b[0;32mreturn\u001b[0m \u001b[0mfibonacci\u001b[0m\u001b[0;34m(\u001b[0m\u001b[0mn\u001b[0m\u001b[0;34m-\u001b[0m\u001b[0;36m1\u001b[0m\u001b[0;34m)\u001b[0m\u001b[0;34m+\u001b[0m\u001b[0mfibonacci\u001b[0m\u001b[0;34m(\u001b[0m\u001b[0mn\u001b[0m\u001b[0;34m-\u001b[0m\u001b[0;36m2\u001b[0m\u001b[0;34m)\u001b[0m\u001b[0;34m\u001b[0m\u001b[0;34m\u001b[0m\u001b[0m\n\u001b[0m",
            "\u001b[0;32m<ipython-input-79-22faa436e0cc>\u001b[0m in \u001b[0;36mfibonacci\u001b[0;34m(n)\u001b[0m\n\u001b[1;32m      6\u001b[0m     \u001b[0;32mreturn\u001b[0m \u001b[0;36m1\u001b[0m\u001b[0;34m\u001b[0m\u001b[0;34m\u001b[0m\u001b[0m\n\u001b[1;32m      7\u001b[0m   \u001b[0;32melse\u001b[0m\u001b[0;34m:\u001b[0m\u001b[0;34m\u001b[0m\u001b[0;34m\u001b[0m\u001b[0m\n\u001b[0;32m----> 8\u001b[0;31m     \u001b[0;32mreturn\u001b[0m \u001b[0mfibonacci\u001b[0m\u001b[0;34m(\u001b[0m\u001b[0mn\u001b[0m\u001b[0;34m-\u001b[0m\u001b[0;36m1\u001b[0m\u001b[0;34m)\u001b[0m\u001b[0;34m+\u001b[0m\u001b[0mfibonacci\u001b[0m\u001b[0;34m(\u001b[0m\u001b[0mn\u001b[0m\u001b[0;34m-\u001b[0m\u001b[0;36m2\u001b[0m\u001b[0;34m)\u001b[0m\u001b[0;34m\u001b[0m\u001b[0;34m\u001b[0m\u001b[0m\n\u001b[0m",
            "\u001b[0;32m<ipython-input-79-22faa436e0cc>\u001b[0m in \u001b[0;36mfibonacci\u001b[0;34m(n)\u001b[0m\n\u001b[1;32m      6\u001b[0m     \u001b[0;32mreturn\u001b[0m \u001b[0;36m1\u001b[0m\u001b[0;34m\u001b[0m\u001b[0;34m\u001b[0m\u001b[0m\n\u001b[1;32m      7\u001b[0m   \u001b[0;32melse\u001b[0m\u001b[0;34m:\u001b[0m\u001b[0;34m\u001b[0m\u001b[0;34m\u001b[0m\u001b[0m\n\u001b[0;32m----> 8\u001b[0;31m     \u001b[0;32mreturn\u001b[0m \u001b[0mfibonacci\u001b[0m\u001b[0;34m(\u001b[0m\u001b[0mn\u001b[0m\u001b[0;34m-\u001b[0m\u001b[0;36m1\u001b[0m\u001b[0;34m)\u001b[0m\u001b[0;34m+\u001b[0m\u001b[0mfibonacci\u001b[0m\u001b[0;34m(\u001b[0m\u001b[0mn\u001b[0m\u001b[0;34m-\u001b[0m\u001b[0;36m2\u001b[0m\u001b[0;34m)\u001b[0m\u001b[0;34m\u001b[0m\u001b[0;34m\u001b[0m\u001b[0m\n\u001b[0m",
            "\u001b[0;32m<ipython-input-79-22faa436e0cc>\u001b[0m in \u001b[0;36mfibonacci\u001b[0;34m(n)\u001b[0m\n\u001b[1;32m      6\u001b[0m     \u001b[0;32mreturn\u001b[0m \u001b[0;36m1\u001b[0m\u001b[0;34m\u001b[0m\u001b[0;34m\u001b[0m\u001b[0m\n\u001b[1;32m      7\u001b[0m   \u001b[0;32melse\u001b[0m\u001b[0;34m:\u001b[0m\u001b[0;34m\u001b[0m\u001b[0;34m\u001b[0m\u001b[0m\n\u001b[0;32m----> 8\u001b[0;31m     \u001b[0;32mreturn\u001b[0m \u001b[0mfibonacci\u001b[0m\u001b[0;34m(\u001b[0m\u001b[0mn\u001b[0m\u001b[0;34m-\u001b[0m\u001b[0;36m1\u001b[0m\u001b[0;34m)\u001b[0m\u001b[0;34m+\u001b[0m\u001b[0mfibonacci\u001b[0m\u001b[0;34m(\u001b[0m\u001b[0mn\u001b[0m\u001b[0;34m-\u001b[0m\u001b[0;36m2\u001b[0m\u001b[0;34m)\u001b[0m\u001b[0;34m\u001b[0m\u001b[0;34m\u001b[0m\u001b[0m\n\u001b[0m",
            "\u001b[0;32m<ipython-input-79-22faa436e0cc>\u001b[0m in \u001b[0;36mfibonacci\u001b[0;34m(n)\u001b[0m\n\u001b[1;32m      6\u001b[0m     \u001b[0;32mreturn\u001b[0m \u001b[0;36m1\u001b[0m\u001b[0;34m\u001b[0m\u001b[0;34m\u001b[0m\u001b[0m\n\u001b[1;32m      7\u001b[0m   \u001b[0;32melse\u001b[0m\u001b[0;34m:\u001b[0m\u001b[0;34m\u001b[0m\u001b[0;34m\u001b[0m\u001b[0m\n\u001b[0;32m----> 8\u001b[0;31m     \u001b[0;32mreturn\u001b[0m \u001b[0mfibonacci\u001b[0m\u001b[0;34m(\u001b[0m\u001b[0mn\u001b[0m\u001b[0;34m-\u001b[0m\u001b[0;36m1\u001b[0m\u001b[0;34m)\u001b[0m\u001b[0;34m+\u001b[0m\u001b[0mfibonacci\u001b[0m\u001b[0;34m(\u001b[0m\u001b[0mn\u001b[0m\u001b[0;34m-\u001b[0m\u001b[0;36m2\u001b[0m\u001b[0;34m)\u001b[0m\u001b[0;34m\u001b[0m\u001b[0;34m\u001b[0m\u001b[0m\n\u001b[0m",
            "\u001b[0;32m<ipython-input-79-22faa436e0cc>\u001b[0m in \u001b[0;36mfibonacci\u001b[0;34m(n)\u001b[0m\n\u001b[1;32m      6\u001b[0m     \u001b[0;32mreturn\u001b[0m \u001b[0;36m1\u001b[0m\u001b[0;34m\u001b[0m\u001b[0;34m\u001b[0m\u001b[0m\n\u001b[1;32m      7\u001b[0m   \u001b[0;32melse\u001b[0m\u001b[0;34m:\u001b[0m\u001b[0;34m\u001b[0m\u001b[0;34m\u001b[0m\u001b[0m\n\u001b[0;32m----> 8\u001b[0;31m     \u001b[0;32mreturn\u001b[0m \u001b[0mfibonacci\u001b[0m\u001b[0;34m(\u001b[0m\u001b[0mn\u001b[0m\u001b[0;34m-\u001b[0m\u001b[0;36m1\u001b[0m\u001b[0;34m)\u001b[0m\u001b[0;34m+\u001b[0m\u001b[0mfibonacci\u001b[0m\u001b[0;34m(\u001b[0m\u001b[0mn\u001b[0m\u001b[0;34m-\u001b[0m\u001b[0;36m2\u001b[0m\u001b[0;34m)\u001b[0m\u001b[0;34m\u001b[0m\u001b[0;34m\u001b[0m\u001b[0m\n\u001b[0m",
            "\u001b[0;32m<ipython-input-79-22faa436e0cc>\u001b[0m in \u001b[0;36mfibonacci\u001b[0;34m(n)\u001b[0m\n\u001b[1;32m      6\u001b[0m     \u001b[0;32mreturn\u001b[0m \u001b[0;36m1\u001b[0m\u001b[0;34m\u001b[0m\u001b[0;34m\u001b[0m\u001b[0m\n\u001b[1;32m      7\u001b[0m   \u001b[0;32melse\u001b[0m\u001b[0;34m:\u001b[0m\u001b[0;34m\u001b[0m\u001b[0;34m\u001b[0m\u001b[0m\n\u001b[0;32m----> 8\u001b[0;31m     \u001b[0;32mreturn\u001b[0m \u001b[0mfibonacci\u001b[0m\u001b[0;34m(\u001b[0m\u001b[0mn\u001b[0m\u001b[0;34m-\u001b[0m\u001b[0;36m1\u001b[0m\u001b[0;34m)\u001b[0m\u001b[0;34m+\u001b[0m\u001b[0mfibonacci\u001b[0m\u001b[0;34m(\u001b[0m\u001b[0mn\u001b[0m\u001b[0;34m-\u001b[0m\u001b[0;36m2\u001b[0m\u001b[0;34m)\u001b[0m\u001b[0;34m\u001b[0m\u001b[0;34m\u001b[0m\u001b[0m\n\u001b[0m",
            "\u001b[0;32m<ipython-input-79-22faa436e0cc>\u001b[0m in \u001b[0;36mfibonacci\u001b[0;34m(n)\u001b[0m\n\u001b[1;32m      6\u001b[0m     \u001b[0;32mreturn\u001b[0m \u001b[0;36m1\u001b[0m\u001b[0;34m\u001b[0m\u001b[0;34m\u001b[0m\u001b[0m\n\u001b[1;32m      7\u001b[0m   \u001b[0;32melse\u001b[0m\u001b[0;34m:\u001b[0m\u001b[0;34m\u001b[0m\u001b[0;34m\u001b[0m\u001b[0m\n\u001b[0;32m----> 8\u001b[0;31m     \u001b[0;32mreturn\u001b[0m \u001b[0mfibonacci\u001b[0m\u001b[0;34m(\u001b[0m\u001b[0mn\u001b[0m\u001b[0;34m-\u001b[0m\u001b[0;36m1\u001b[0m\u001b[0;34m)\u001b[0m\u001b[0;34m+\u001b[0m\u001b[0mfibonacci\u001b[0m\u001b[0;34m(\u001b[0m\u001b[0mn\u001b[0m\u001b[0;34m-\u001b[0m\u001b[0;36m2\u001b[0m\u001b[0;34m)\u001b[0m\u001b[0;34m\u001b[0m\u001b[0;34m\u001b[0m\u001b[0m\n\u001b[0m",
            "\u001b[0;32m<ipython-input-79-22faa436e0cc>\u001b[0m in \u001b[0;36mfibonacci\u001b[0;34m(n)\u001b[0m\n\u001b[1;32m      6\u001b[0m     \u001b[0;32mreturn\u001b[0m \u001b[0;36m1\u001b[0m\u001b[0;34m\u001b[0m\u001b[0;34m\u001b[0m\u001b[0m\n\u001b[1;32m      7\u001b[0m   \u001b[0;32melse\u001b[0m\u001b[0;34m:\u001b[0m\u001b[0;34m\u001b[0m\u001b[0;34m\u001b[0m\u001b[0m\n\u001b[0;32m----> 8\u001b[0;31m     \u001b[0;32mreturn\u001b[0m \u001b[0mfibonacci\u001b[0m\u001b[0;34m(\u001b[0m\u001b[0mn\u001b[0m\u001b[0;34m-\u001b[0m\u001b[0;36m1\u001b[0m\u001b[0;34m)\u001b[0m\u001b[0;34m+\u001b[0m\u001b[0mfibonacci\u001b[0m\u001b[0;34m(\u001b[0m\u001b[0mn\u001b[0m\u001b[0;34m-\u001b[0m\u001b[0;36m2\u001b[0m\u001b[0;34m)\u001b[0m\u001b[0;34m\u001b[0m\u001b[0;34m\u001b[0m\u001b[0m\n\u001b[0m",
            "\u001b[0;32m<ipython-input-79-22faa436e0cc>\u001b[0m in \u001b[0;36mfibonacci\u001b[0;34m(n)\u001b[0m\n\u001b[1;32m      6\u001b[0m     \u001b[0;32mreturn\u001b[0m \u001b[0;36m1\u001b[0m\u001b[0;34m\u001b[0m\u001b[0;34m\u001b[0m\u001b[0m\n\u001b[1;32m      7\u001b[0m   \u001b[0;32melse\u001b[0m\u001b[0;34m:\u001b[0m\u001b[0;34m\u001b[0m\u001b[0;34m\u001b[0m\u001b[0m\n\u001b[0;32m----> 8\u001b[0;31m     \u001b[0;32mreturn\u001b[0m \u001b[0mfibonacci\u001b[0m\u001b[0;34m(\u001b[0m\u001b[0mn\u001b[0m\u001b[0;34m-\u001b[0m\u001b[0;36m1\u001b[0m\u001b[0;34m)\u001b[0m\u001b[0;34m+\u001b[0m\u001b[0mfibonacci\u001b[0m\u001b[0;34m(\u001b[0m\u001b[0mn\u001b[0m\u001b[0;34m-\u001b[0m\u001b[0;36m2\u001b[0m\u001b[0;34m)\u001b[0m\u001b[0;34m\u001b[0m\u001b[0;34m\u001b[0m\u001b[0m\n\u001b[0m",
            "\u001b[0;32m<ipython-input-79-22faa436e0cc>\u001b[0m in \u001b[0;36mfibonacci\u001b[0;34m(n)\u001b[0m\n\u001b[1;32m      6\u001b[0m     \u001b[0;32mreturn\u001b[0m \u001b[0;36m1\u001b[0m\u001b[0;34m\u001b[0m\u001b[0;34m\u001b[0m\u001b[0m\n\u001b[1;32m      7\u001b[0m   \u001b[0;32melse\u001b[0m\u001b[0;34m:\u001b[0m\u001b[0;34m\u001b[0m\u001b[0;34m\u001b[0m\u001b[0m\n\u001b[0;32m----> 8\u001b[0;31m     \u001b[0;32mreturn\u001b[0m \u001b[0mfibonacci\u001b[0m\u001b[0;34m(\u001b[0m\u001b[0mn\u001b[0m\u001b[0;34m-\u001b[0m\u001b[0;36m1\u001b[0m\u001b[0;34m)\u001b[0m\u001b[0;34m+\u001b[0m\u001b[0mfibonacci\u001b[0m\u001b[0;34m(\u001b[0m\u001b[0mn\u001b[0m\u001b[0;34m-\u001b[0m\u001b[0;36m2\u001b[0m\u001b[0;34m)\u001b[0m\u001b[0;34m\u001b[0m\u001b[0;34m\u001b[0m\u001b[0m\n\u001b[0m",
            "\u001b[0;32m<ipython-input-79-22faa436e0cc>\u001b[0m in \u001b[0;36mfibonacci\u001b[0;34m(n)\u001b[0m\n\u001b[1;32m      6\u001b[0m     \u001b[0;32mreturn\u001b[0m \u001b[0;36m1\u001b[0m\u001b[0;34m\u001b[0m\u001b[0;34m\u001b[0m\u001b[0m\n\u001b[1;32m      7\u001b[0m   \u001b[0;32melse\u001b[0m\u001b[0;34m:\u001b[0m\u001b[0;34m\u001b[0m\u001b[0;34m\u001b[0m\u001b[0m\n\u001b[0;32m----> 8\u001b[0;31m     \u001b[0;32mreturn\u001b[0m \u001b[0mfibonacci\u001b[0m\u001b[0;34m(\u001b[0m\u001b[0mn\u001b[0m\u001b[0;34m-\u001b[0m\u001b[0;36m1\u001b[0m\u001b[0;34m)\u001b[0m\u001b[0;34m+\u001b[0m\u001b[0mfibonacci\u001b[0m\u001b[0;34m(\u001b[0m\u001b[0mn\u001b[0m\u001b[0;34m-\u001b[0m\u001b[0;36m2\u001b[0m\u001b[0;34m)\u001b[0m\u001b[0;34m\u001b[0m\u001b[0;34m\u001b[0m\u001b[0m\n\u001b[0m",
            "\u001b[0;32m<ipython-input-79-22faa436e0cc>\u001b[0m in \u001b[0;36mfibonacci\u001b[0;34m(n)\u001b[0m\n\u001b[1;32m      6\u001b[0m     \u001b[0;32mreturn\u001b[0m \u001b[0;36m1\u001b[0m\u001b[0;34m\u001b[0m\u001b[0;34m\u001b[0m\u001b[0m\n\u001b[1;32m      7\u001b[0m   \u001b[0;32melse\u001b[0m\u001b[0;34m:\u001b[0m\u001b[0;34m\u001b[0m\u001b[0;34m\u001b[0m\u001b[0m\n\u001b[0;32m----> 8\u001b[0;31m     \u001b[0;32mreturn\u001b[0m \u001b[0mfibonacci\u001b[0m\u001b[0;34m(\u001b[0m\u001b[0mn\u001b[0m\u001b[0;34m-\u001b[0m\u001b[0;36m1\u001b[0m\u001b[0;34m)\u001b[0m\u001b[0;34m+\u001b[0m\u001b[0mfibonacci\u001b[0m\u001b[0;34m(\u001b[0m\u001b[0mn\u001b[0m\u001b[0;34m-\u001b[0m\u001b[0;36m2\u001b[0m\u001b[0;34m)\u001b[0m\u001b[0;34m\u001b[0m\u001b[0;34m\u001b[0m\u001b[0m\n\u001b[0m",
            "\u001b[0;32m<ipython-input-79-22faa436e0cc>\u001b[0m in \u001b[0;36mfibonacci\u001b[0;34m(n)\u001b[0m\n\u001b[1;32m      6\u001b[0m     \u001b[0;32mreturn\u001b[0m \u001b[0;36m1\u001b[0m\u001b[0;34m\u001b[0m\u001b[0;34m\u001b[0m\u001b[0m\n\u001b[1;32m      7\u001b[0m   \u001b[0;32melse\u001b[0m\u001b[0;34m:\u001b[0m\u001b[0;34m\u001b[0m\u001b[0;34m\u001b[0m\u001b[0m\n\u001b[0;32m----> 8\u001b[0;31m     \u001b[0;32mreturn\u001b[0m \u001b[0mfibonacci\u001b[0m\u001b[0;34m(\u001b[0m\u001b[0mn\u001b[0m\u001b[0;34m-\u001b[0m\u001b[0;36m1\u001b[0m\u001b[0;34m)\u001b[0m\u001b[0;34m+\u001b[0m\u001b[0mfibonacci\u001b[0m\u001b[0;34m(\u001b[0m\u001b[0mn\u001b[0m\u001b[0;34m-\u001b[0m\u001b[0;36m2\u001b[0m\u001b[0;34m)\u001b[0m\u001b[0;34m\u001b[0m\u001b[0;34m\u001b[0m\u001b[0m\n\u001b[0m",
            "\u001b[0;32m<ipython-input-79-22faa436e0cc>\u001b[0m in \u001b[0;36mfibonacci\u001b[0;34m(n)\u001b[0m\n\u001b[1;32m      1\u001b[0m \u001b[0;31m# 피보나치 수열 = 앞의 두 숫자를 합한게 다음 숫자\u001b[0m\u001b[0;34m\u001b[0m\u001b[0;34m\u001b[0m\u001b[0m\n\u001b[1;32m      2\u001b[0m \u001b[0;32mdef\u001b[0m \u001b[0mfibonacci\u001b[0m\u001b[0;34m(\u001b[0m\u001b[0mn\u001b[0m\u001b[0;34m)\u001b[0m\u001b[0;34m:\u001b[0m\u001b[0;34m\u001b[0m\u001b[0;34m\u001b[0m\u001b[0m\n\u001b[0;32m----> 3\u001b[0;31m   \u001b[0;32mif\u001b[0m \u001b[0mn\u001b[0m\u001b[0;34m==\u001b[0m\u001b[0;36m1\u001b[0m\u001b[0;34m:\u001b[0m\u001b[0;34m\u001b[0m\u001b[0;34m\u001b[0m\u001b[0m\n\u001b[0m\u001b[1;32m      4\u001b[0m     \u001b[0;32mreturn\u001b[0m \u001b[0;36m1\u001b[0m\u001b[0;34m\u001b[0m\u001b[0;34m\u001b[0m\u001b[0m\n\u001b[1;32m      5\u001b[0m   \u001b[0;32melif\u001b[0m \u001b[0mn\u001b[0m\u001b[0;34m==\u001b[0m\u001b[0;36m2\u001b[0m\u001b[0;34m:\u001b[0m\u001b[0;34m\u001b[0m\u001b[0;34m\u001b[0m\u001b[0m\n",
            "\u001b[0;31mKeyboardInterrupt\u001b[0m: "
          ]
        }
      ]
    },
    {
      "cell_type": "code",
      "source": [
        "# 키워드 global = 외부에 있는 변수 참조\n",
        "count = 0\n",
        "def fibonacci(n):\n",
        "  global count\n",
        "  count += 1\n",
        "  if n==1:\n",
        "    return 1\n",
        "  elif n==2:\n",
        "    return 1\n",
        "  else:\n",
        "    return fibonacci(n-1) + fibonacci(n-2)\n",
        "\n",
        "print(fibonacci(25))\n",
        "print(count)"
      ],
      "metadata": {
        "colab": {
          "base_uri": "https://localhost:8080/"
        },
        "id": "3HqPs2q833sp",
        "outputId": "cba787f2-af29-4a95-9df2-90a51e7afc92"
      },
      "execution_count": null,
      "outputs": [
        {
          "output_type": "stream",
          "name": "stdout",
          "text": [
            "75025\n",
            "150049\n"
          ]
        }
      ]
    },
    {
      "cell_type": "code",
      "source": [
        "# 키워드 global = 외부에 있는 변수 참조\n",
        "count = 0\n",
        "def fibonacci(n):\n",
        "  count # 여기에 global 키워드 넣어야 오류 없음\n",
        "  count += 1\n",
        "  if n==1:\n",
        "    return 1\n",
        "  elif n==2:\n",
        "    return 1\n",
        "  else:\n",
        "    return fibonacci(n-1) + fibonacci(n-2)\n",
        "\n",
        "print(fibonacci(25))\n",
        "print(count)"
      ],
      "metadata": {
        "id": "NrLKqHAADWs_"
      },
      "execution_count": null,
      "outputs": []
    },
    {
      "cell_type": "markdown",
      "source": [
        "## 메모화"
      ],
      "metadata": {
        "id": "jOEgmYgBAGCW"
      }
    },
    {
      "cell_type": "code",
      "source": [
        "# 같은 값을 반복해서 구하지 않고 저장(메모)\n",
        "f_dict = {\n",
        "    1:1,\n",
        "    2:1\n",
        "}\n",
        "\n",
        "# 조기리턴\n",
        "def fibonacci(n): # n은 딕셔너리 key\n",
        "  if n in f_dict:\n",
        "    return f_dict[n]\n",
        "  output = fibonacci(n-1) + fibonacci(n-2)\n",
        "  f_dict[n] = output\n",
        "  return output"
      ],
      "metadata": {
        "id": "r4EclSgj-7CY"
      },
      "execution_count": null,
      "outputs": []
    },
    {
      "cell_type": "code",
      "source": [
        "print(fibonacci(50))"
      ],
      "metadata": {
        "colab": {
          "base_uri": "https://localhost:8080/"
        },
        "id": "w7QGc0p9Bayj",
        "outputId": "c6393a92-b9f4-41c8-9405-7a6651b13bb2"
      },
      "execution_count": null,
      "outputs": [
        {
          "output_type": "stream",
          "name": "stdout",
          "text": [
            "12586269025\n"
          ]
        }
      ]
    },
    {
      "cell_type": "code",
      "source": [
        "f_dict #저장된 딕셔너리"
      ],
      "metadata": {
        "id": "OMBe3AVpBdGE"
      },
      "execution_count": null,
      "outputs": []
    },
    {
      "cell_type": "code",
      "source": [
        "# 조기리턴 사용하지 않는 경우\n",
        "def fibonacci(n): #n은 딕셔너리 키\n",
        "  if n in f_dict:\n",
        "      return f_dict[n] #존재하는 키의 값을 가져오는 경우 = 계산한 것이 있음\n",
        "  else:\n",
        "    output = fibonacci(n-1) + fibonacci(n-2)\n",
        "    f_dict[n] = output\n",
        "    return output"
      ],
      "metadata": {
        "id": "UmfI0gYkENbG"
      },
      "execution_count": null,
      "outputs": []
    },
    {
      "cell_type": "markdown",
      "source": [
        "## 리스트 평탄화"
      ],
      "metadata": {
        "id": "t8a5_QaSCOWd"
      }
    },
    {
      "cell_type": "code",
      "source": [
        "# 2차원 리스트 반복문 2번 사용해서 평탄화\n",
        "# 실제로 중괄호가 몇 번 나올지 예상할 수 없음\n",
        "# 재귀함수로 해결 가능\n",
        "\n",
        "def flat(data):\n",
        "  output = []\n",
        "  for i in data:\n",
        "    if type(i) == list: # 리스트인 경우\n",
        "      output += flat(i) # 리스트가 아닐 때까지 반복\n",
        "    else: # 요소인 경우\n",
        "      output.append(i) # 요소 추가\n",
        "      # output += i # 요소 추가가 아닌 리스트 연결\n",
        "      # output.extend(i) # 요소 추가가 아닌 리스트 연결\n",
        "\n",
        "  return output\n",
        "\n",
        "# [1,2,3] => flat([1,2,3]) => 리스트 아니므로 요소 추가\n",
        "# [4,[5,6]] => flat([4,[5,6]]) => 4는 요소 추가\n",
        "# [5,6] => flat([5,6]) => 요소 추가\n",
        "# 7 => 리스트 아니므로 요소 추가\n",
        "# [8,9] => flat([8,9]) => 리스트 아니므로 요소 추가"
      ],
      "metadata": {
        "id": "8V5VteZLBewr"
      },
      "execution_count": null,
      "outputs": []
    },
    {
      "cell_type": "code",
      "source": [
        "a = [[1,2,3],[4,[5,6]],7,[8,9]]\n",
        "print(a)\n",
        "print(flat(a))"
      ],
      "metadata": {
        "colab": {
          "base_uri": "https://localhost:8080/"
        },
        "id": "LGs4LsD6Gr80",
        "outputId": "3de9ce23-0030-4c46-d426-d9cdc5ec2ea2"
      },
      "execution_count": null,
      "outputs": [
        {
          "output_type": "stream",
          "name": "stdout",
          "text": [
            "[[1, 2, 3], [4, [5, 6]], 7, [8, 9]]\n",
            "[1, 2, 3, 4, 5, 6, 7, 8, 9]\n"
          ]
        }
      ]
    },
    {
      "cell_type": "markdown",
      "source": [
        "# 튜플"
      ],
      "metadata": {
        "id": "o-u5SKWgQvJH"
      }
    },
    {
      "cell_type": "code",
      "source": [
        "# 튜플 생성\n",
        "list_a = [1,2,3]\n",
        "tuple_a = (1,2,3)\n",
        "print(list_a); print(tuple_a)\n",
        "print(tuple(list_a)); print(type(tuple_a))"
      ],
      "metadata": {
        "colab": {
          "base_uri": "https://localhost:8080/"
        },
        "id": "V3Qx4OXl32xJ",
        "outputId": "d6007f22-136a-4553-f68b-df8257c5be89"
      },
      "execution_count": null,
      "outputs": [
        {
          "output_type": "stream",
          "name": "stdout",
          "text": [
            "[1, 2, 3]\n",
            "(1, 2, 3)\n",
            "(1, 2, 3)\n",
            "<class 'tuple'>\n"
          ]
        }
      ]
    },
    {
      "cell_type": "code",
      "source": [
        "print(list_a[0]);print(list_a[1]);print(list_a[2])\n",
        "print(tuple_a[0]);print(tuple_a[1]);print(tuple_a[2])"
      ],
      "metadata": {
        "colab": {
          "base_uri": "https://localhost:8080/"
        },
        "id": "bs5WTULpMi29",
        "outputId": "c44f28a0-1c11-483b-eacb-8c2424ec4b64"
      },
      "execution_count": null,
      "outputs": [
        {
          "output_type": "stream",
          "name": "stdout",
          "text": [
            "1\n",
            "2\n",
            "3\n",
            "1\n",
            "2\n",
            "3\n"
          ]
        }
      ]
    },
    {
      "cell_type": "code",
      "source": [
        "tuple_a[0] = 10\n",
        "print(tuple_a) #튜플은 요소 변경 불가"
      ],
      "metadata": {
        "colab": {
          "base_uri": "https://localhost:8080/",
          "height": 190
        },
        "id": "WZzpsMXsTahT",
        "outputId": "65fd35b9-832e-4f4b-aea2-0b72938d345e"
      },
      "execution_count": null,
      "outputs": [
        {
          "output_type": "error",
          "ename": "TypeError",
          "evalue": "ignored",
          "traceback": [
            "\u001b[0;31m---------------------------------------------------------------------------\u001b[0m",
            "\u001b[0;31mTypeError\u001b[0m                                 Traceback (most recent call last)",
            "\u001b[0;32m<ipython-input-104-abba961cb289>\u001b[0m in \u001b[0;36m<cell line: 1>\u001b[0;34m()\u001b[0m\n\u001b[0;32m----> 1\u001b[0;31m \u001b[0mtuple_a\u001b[0m\u001b[0;34m[\u001b[0m\u001b[0;36m0\u001b[0m\u001b[0;34m]\u001b[0m \u001b[0;34m=\u001b[0m \u001b[0;36m10\u001b[0m\u001b[0;34m\u001b[0m\u001b[0;34m\u001b[0m\u001b[0m\n\u001b[0m\u001b[1;32m      2\u001b[0m \u001b[0mprint\u001b[0m\u001b[0;34m(\u001b[0m\u001b[0mtuple_a\u001b[0m\u001b[0;34m)\u001b[0m \u001b[0;31m#튜플은 요소 변경 불가\u001b[0m\u001b[0;34m\u001b[0m\u001b[0;34m\u001b[0m\u001b[0m\n",
            "\u001b[0;31mTypeError\u001b[0m: 'tuple' object does not support item assignment"
          ]
        }
      ]
    },
    {
      "cell_type": "code",
      "source": [
        "# 소괄호 없이 튜플 생성\n",
        "tuple_a = 1,2,3\n",
        "print(tuple_a)\n",
        "print(type(tuple_a))"
      ],
      "metadata": {
        "colab": {
          "base_uri": "https://localhost:8080/"
        },
        "id": "0PX7-NB5Terh",
        "outputId": "b252cc5e-822c-4e8e-a5b2-a280fd3adbc3"
      },
      "execution_count": null,
      "outputs": [
        {
          "output_type": "stream",
          "name": "stdout",
          "text": [
            "(1, 2, 3)\n",
            "<class 'tuple'>\n"
          ]
        }
      ]
    },
    {
      "cell_type": "code",
      "source": [
        "# 여러 변수를 한 번에 할당\n",
        "[a,b] = [1,2]\n",
        "(c,d) = (3,4)\n",
        "print(a);print(b);print(c);print(d)\n",
        "print(type(a));print(type(b));print(type(c));print(type(d))"
      ],
      "metadata": {
        "colab": {
          "base_uri": "https://localhost:8080/"
        },
        "id": "w_p5ZYD3TlLf",
        "outputId": "ee612f9b-78af-493c-c97c-1f8fbf9c2d7d"
      },
      "execution_count": null,
      "outputs": [
        {
          "output_type": "stream",
          "name": "stdout",
          "text": [
            "1\n",
            "2\n",
            "3\n",
            "4\n",
            "<class 'int'>\n",
            "<class 'int'>\n",
            "<class 'int'>\n",
            "<class 'int'>\n"
          ]
        }
      ]
    },
    {
      "cell_type": "code",
      "source": [
        "# 이렇게 하지 말고 위의 방법 참고\n",
        "a = 1\n",
        "b = 2\n",
        "c = 3\n",
        "d = 4"
      ],
      "metadata": {
        "id": "hv6QZ6L7UmMB"
      },
      "execution_count": null,
      "outputs": []
    },
    {
      "cell_type": "code",
      "source": [
        "# 소괄호 없이 여러 변수에 값 할당\n",
        "a,b,c = 1,2,3\n",
        "print(a);print(b);print(c)\n",
        "print(type(a));print(type(b));print(type(c))"
      ],
      "metadata": {
        "colab": {
          "base_uri": "https://localhost:8080/"
        },
        "id": "6Nxm2hN5Y5o0",
        "outputId": "08230dea-32b8-478d-9e5e-76bbf9453452"
      },
      "execution_count": null,
      "outputs": [
        {
          "output_type": "stream",
          "name": "stdout",
          "text": [
            "1\n",
            "2\n",
            "3\n",
            "<class 'int'>\n",
            "<class 'int'>\n",
            "<class 'int'>\n"
          ]
        }
      ]
    },
    {
      "cell_type": "markdown",
      "source": [
        "## 값의 교환"
      ],
      "metadata": {
        "id": "H8mgTVkQY0U4"
      }
    },
    {
      "cell_type": "code",
      "source": [
        " # 리스트\n",
        " a = 1\n",
        " b = 2\n",
        " print(a);print(b)\n",
        " c = a\n",
        " a = b\n",
        " b = c\n",
        " print(a);print(b)"
      ],
      "metadata": {
        "colab": {
          "base_uri": "https://localhost:8080/"
        },
        "id": "g9NPHmBkXY_P",
        "outputId": "b0f8a30e-aad2-4edf-fc9b-32e2f487d648"
      },
      "execution_count": null,
      "outputs": [
        {
          "output_type": "stream",
          "name": "stdout",
          "text": [
            "1\n",
            "2\n",
            "2\n",
            "1\n"
          ]
        }
      ]
    },
    {
      "cell_type": "code",
      "source": [
        "# 튜플 => 값의 교환 편리!\n",
        "a,b = 1,2\n",
        "print(a);print(b)\n",
        "a,b = b,a\n",
        "print(a);print(b)"
      ],
      "metadata": {
        "colab": {
          "base_uri": "https://localhost:8080/"
        },
        "id": "1eOPZwzqZL8J",
        "outputId": "c3a864b6-e768-4d4d-f050-ba328ae4b471"
      },
      "execution_count": null,
      "outputs": [
        {
          "output_type": "stream",
          "name": "stdout",
          "text": [
            "1\n",
            "2\n",
            "2\n",
            "1\n"
          ]
        }
      ]
    },
    {
      "cell_type": "markdown",
      "source": [
        "## 튜플&함수"
      ],
      "metadata": {
        "id": "7DaMJY-la2Mr"
      }
    },
    {
      "cell_type": "code",
      "source": [
        "# 튜플 형태로 리턴하는 사용자 정의 함수 만들기\n",
        "def test():\n",
        "  return (1,2)\n",
        "a,b = test()\n",
        "# a,b = (1,2)\n",
        "print(a);print(b)"
      ],
      "metadata": {
        "colab": {
          "base_uri": "https://localhost:8080/"
        },
        "id": "O20W4a3ea3vT",
        "outputId": "d9d02209-5bb9-4d46-fde6-020c4cfc7ac7"
      },
      "execution_count": null,
      "outputs": [
        {
          "output_type": "stream",
          "name": "stdout",
          "text": [
            "1\n",
            "2\n"
          ]
        }
      ]
    },
    {
      "cell_type": "code",
      "source": [
        "# 튜플 형태로 리턴하는 함수 복습\n",
        "# 리스트의 인덱스와 값 반환 = enumerate()\n",
        "for i,j in enumerate([1,2,3]):\n",
        "  print(\"인덱스\",i,\"값\",j)"
      ],
      "metadata": {
        "colab": {
          "base_uri": "https://localhost:8080/"
        },
        "id": "Gh4KNBqVbSQT",
        "outputId": "9b7b5078-3f72-4fd5-ec2f-abf17513bb28"
      },
      "execution_count": null,
      "outputs": [
        {
          "output_type": "stream",
          "name": "stdout",
          "text": [
            "인덱스 0 값 1\n",
            "인덱스 1 값 2\n",
            "인덱스 2 값 3\n"
          ]
        }
      ]
    },
    {
      "cell_type": "code",
      "source": [
        "# 딕셔너리의 키와 값 반환 = items()\n",
        "for i,j in {0:1,1:2,2:3}.items():\n",
        "  print(\"인덱스\",i,\"값\",j)"
      ],
      "metadata": {
        "colab": {
          "base_uri": "https://localhost:8080/"
        },
        "id": "AX63XKvvbpqQ",
        "outputId": "a1472d0a-afff-42b8-d441-f7444b56e5ae"
      },
      "execution_count": null,
      "outputs": [
        {
          "output_type": "stream",
          "name": "stdout",
          "text": [
            "인덱스 0 값 1\n",
            "인덱스 1 값 2\n",
            "인덱스 2 값 3\n"
          ]
        }
      ]
    },
    {
      "cell_type": "code",
      "source": [
        "# 몫 & 나머지\n",
        "a,b = 63, 30\n",
        "print(a//b)\n",
        "print(a%b)"
      ],
      "metadata": {
        "colab": {
          "base_uri": "https://localhost:8080/"
        },
        "id": "QNsfcN6TcLKC",
        "outputId": "a290ece3-e327-4e3b-a131-4da7bbe0878b"
      },
      "execution_count": null,
      "outputs": [
        {
          "output_type": "stream",
          "name": "stdout",
          "text": [
            "2\n",
            "3\n"
          ]
        }
      ]
    },
    {
      "cell_type": "code",
      "source": [
        "# 몫과 나머지 값을 튜플 형태로 반환하는 함수\n",
        "c,d = divmod(a,b)\n",
        "print(c);print(d)"
      ],
      "metadata": {
        "colab": {
          "base_uri": "https://localhost:8080/"
        },
        "id": "Mu9x8Ae3dkHK",
        "outputId": "081ddd93-e7cd-422e-a368-b5a78eeeb2aa"
      },
      "execution_count": null,
      "outputs": [
        {
          "output_type": "stream",
          "name": "stdout",
          "text": [
            "2\n",
            "3\n"
          ]
        }
      ]
    },
    {
      "cell_type": "markdown",
      "source": [
        "# 람다"
      ],
      "metadata": {
        "id": "C1kudBM8XWWA"
      }
    },
    {
      "cell_type": "code",
      "source": [
        "# 함수의 매개변수에 사용하는 함수 = 콜백 함수\n",
        "def repeat_10(x):\n",
        "  for i in range(10):\n",
        "    x()\n",
        "def print_hi():\n",
        "  print(\"hi\")\n",
        "repeat_10(print_hi) #print_hi = 콜백 함수"
      ],
      "metadata": {
        "colab": {
          "base_uri": "https://localhost:8080/"
        },
        "id": "pUvurx_QXUZt",
        "outputId": "a4517abe-b205-4430-d59e-605486812b2d"
      },
      "execution_count": null,
      "outputs": [
        {
          "output_type": "stream",
          "name": "stdout",
          "text": [
            "hi\n",
            "hi\n",
            "hi\n",
            "hi\n",
            "hi\n",
            "hi\n",
            "hi\n",
            "hi\n",
            "hi\n",
            "hi\n"
          ]
        }
      ]
    },
    {
      "cell_type": "code",
      "source": [
        "# map 함수 = 콜백 함수 적용 결과 값\n",
        "def sqr(x):\n",
        "  return x**2\n",
        "\n",
        "list_a = [1,2,3]\n",
        "output_map = map(sqr,list_a)\n",
        "print(output_map)\n",
        "print(list(output_map))"
      ],
      "metadata": {
        "colab": {
          "base_uri": "https://localhost:8080/"
        },
        "id": "ZeyxWOW0eq_3",
        "outputId": "54b4ea92-7df7-415a-9e7a-4a5b8a24ac6c"
      },
      "execution_count": null,
      "outputs": [
        {
          "output_type": "stream",
          "name": "stdout",
          "text": [
            "<map object at 0x7fb32d5538e0>\n",
            "[1, 4, 9]\n"
          ]
        }
      ]
    },
    {
      "cell_type": "code",
      "source": [
        "# filter 함수 = 콜백 함수 적용 결과 중에서 True 인 것\n",
        "def under_3(x):\n",
        "  return x<3\n",
        "\n",
        "list_a = [1,2,3]\n",
        "output_filter = map(under_3,list_a)\n",
        "print(output_filter)\n",
        "print(list(output_filter))"
      ],
      "metadata": {
        "colab": {
          "base_uri": "https://localhost:8080/"
        },
        "id": "odoiqsiCffHb",
        "outputId": "f67b5e00-81d5-46be-f70f-09b4f703a0fe"
      },
      "execution_count": null,
      "outputs": [
        {
          "output_type": "stream",
          "name": "stdout",
          "text": [
            "<map object at 0x7fb32d5512a0>\n",
            "[True, True, False]\n"
          ]
        }
      ]
    },
    {
      "cell_type": "code",
      "source": [
        "# 람다로 변경\n",
        "list_a = [1,2,3]\n",
        "# 콜백 함수 자리에 람다\n",
        "# 람다 사용법 : lambda 매개변수 : 리턴값(기능 결과)\n",
        "output_map = map(lambda x:x**2, list_a)\n",
        "print(output_map)\n",
        "print(list(output_map))"
      ],
      "metadata": {
        "colab": {
          "base_uri": "https://localhost:8080/"
        },
        "id": "wxGz8PJylrwb",
        "outputId": "0ec17d8e-5b58-45c0-91dc-9aa80a4c9f42"
      },
      "execution_count": null,
      "outputs": [
        {
          "output_type": "stream",
          "name": "stdout",
          "text": [
            "<map object at 0x7fb32d552bf0>\n",
            "[1, 4, 9]\n"
          ]
        }
      ]
    },
    {
      "cell_type": "code",
      "source": [
        "list_a = [1,2,3]\n",
        "output_filter = filter(lambda x:x<3, list_a)\n",
        "print(output_filter)\n",
        "print(list(output_filter))"
      ],
      "metadata": {
        "colab": {
          "base_uri": "https://localhost:8080/"
        },
        "id": "UTOJRvqjl8AY",
        "outputId": "98f9efc9-db37-410e-8752-bcd2414be5bd"
      },
      "execution_count": null,
      "outputs": [
        {
          "output_type": "stream",
          "name": "stdout",
          "text": [
            "<filter object at 0x7fb32d2a83a0>\n",
            "[1, 2]\n"
          ]
        }
      ]
    }
  ]
}