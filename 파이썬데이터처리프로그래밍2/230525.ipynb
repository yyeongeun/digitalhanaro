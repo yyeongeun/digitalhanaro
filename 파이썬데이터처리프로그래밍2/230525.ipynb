{
  "nbformat": 4,
  "nbformat_minor": 0,
  "metadata": {
    "colab": {
      "provenance": [],
      "toc_visible": true,
      "include_colab_link": true
    },
    "kernelspec": {
      "name": "python3",
      "display_name": "Python 3"
    },
    "language_info": {
      "name": "python"
    }
  },
  "cells": [
    {
      "cell_type": "markdown",
      "metadata": {
        "id": "view-in-github",
        "colab_type": "text"
      },
      "source": [
        "<a href=\"https://colab.research.google.com/github/yyeongeun/digitalhanaro/blob/main/%ED%8C%8C%EC%9D%B4%EC%8D%AC%EB%8D%B0%EC%9D%B4%ED%84%B0%EC%B2%98%EB%A6%AC%ED%94%84%EB%A1%9C%EA%B7%B8%EB%9E%98%EB%B0%8D2/230525.ipynb\" target=\"_parent\"><img src=\"https://colab.research.google.com/assets/colab-badge.svg\" alt=\"Open In Colab\"/></a>"
      ]
    },
    {
      "cell_type": "markdown",
      "source": [
        "# 데이터 분석 관련 필수 라이브러리"
      ],
      "metadata": {
        "id": "pw0D8tSGUNx_"
      }
    },
    {
      "cell_type": "markdown",
      "source": [
        "1. 판다스 pandas\n",
        "2008년 금융데이터 분석용으로 처음 개발\n",
        "오픈소스 = 무료\n",
        "통계, 데이터 과학, 머신러닝 분야에서 중요하게 사용\n",
        "코랩으로 실습하기 때문에 설치가 따로 필요 없음\n",
        "설치: pip install pandas\n",
        "업데이트 관련 질문이 나오면 y Y\n",
        "2. 넘파이 numpy\n",
        "숫자 해석 라이브러리\n",
        "선형 대수 연산에 필요한 다차원 배열, 배열 연산 등\n",
        "설치: pip install numpy\n",
        "3. 맷플롯립 matplotlib\n",
        "기본 제공 시각화 도구\n",
        "판다스와 연계하여 데이터를 다양한 방식으로 시각화\n",
        "설치: pip install matplotlib\n",
        "4. 사이파이 scipy\n",
        "과학용 연산과 관련된 패키지 모음\n",
        "미적분, 행열 연산, 선형 대수, 방정식 계산 등의 함수 제공\n",
        "설치: pip install scipy\n",
        "5. 사이킷런 scikit-learn\n",
        "머신러닝 학습을 위한 라이브러리\n",
        "회귀, 분류, 군집 등 대부분의 머신러닝 모형 제공\n",
        "설치: pip install scikit-learn"
      ],
      "metadata": {
        "id": "-_VkMY4kUJ7g"
      }
    },
    {
      "cell_type": "markdown",
      "source": [
        "# 판다스 자료 구조"
      ],
      "metadata": {
        "id": "NRj_cF4AdgEi"
      }
    },
    {
      "cell_type": "markdown",
      "source": [
        "## 시리즈"
      ],
      "metadata": {
        "id": "LoPceUf-dpwi"
      }
    },
    {
      "cell_type": "code",
      "execution_count": null,
      "metadata": {
        "id": "Jc6w-trfUJGX"
      },
      "outputs": [],
      "source": [
        "# 라이브러리 불러오기\n",
        "import pandas as pd"
      ]
    },
    {
      "cell_type": "code",
      "source": [
        "# 딕셔너리 생성 = 키와 값으로 구성\n",
        "test_dict = {\n",
        "    'a': 1,\n",
        "    'b': 2,\n",
        "    'c': 3\n",
        "}\n",
        "print(test_dict)"
      ],
      "metadata": {
        "id": "Cs21YeyOdz_e"
      },
      "execution_count": null,
      "outputs": []
    },
    {
      "cell_type": "code",
      "source": [
        "# 딕셔너리를 시리즈로 변환\n",
        "sr = pd.Series(test_dict)\n",
        "print(sr)\n",
        "# 시리즈의 값은 정수 int"
      ],
      "metadata": {
        "id": "deHfK2YEeLSP"
      },
      "execution_count": null,
      "outputs": []
    },
    {
      "cell_type": "code",
      "source": [
        "# 시리즈 객체 확인\n",
        "print(type(sr))"
      ],
      "metadata": {
        "id": "x5ZImWXIfKdY"
      },
      "execution_count": null,
      "outputs": []
    },
    {
      "cell_type": "markdown",
      "source": [
        "### 인덱스"
      ],
      "metadata": {
        "id": "vdvwImoCiDBq"
      }
    },
    {
      "cell_type": "code",
      "source": [
        "# 이름 = 인덱스 이름 / 라벨\n",
        "test_dict = {\n",
        "    'a': 1,\n",
        "    'b': 2,\n",
        "    'c': 3\n",
        "}\n",
        "sr = pd.Series(test_dict)\n",
        "# 인덱스 확인\n",
        "print(sr.index)\n",
        "# 데이터 타입이 object = 문자\n",
        "# 인덱스 이름 = a, b, c"
      ],
      "metadata": {
        "colab": {
          "base_uri": "https://localhost:8080/"
        },
        "id": "Db0fPTEyfr7K",
        "outputId": "4fbcd198-bde1-43b4-d803-6d3dc725598b"
      },
      "execution_count": null,
      "outputs": [
        {
          "output_type": "stream",
          "name": "stdout",
          "text": [
            "Index(['a', 'b', 'c'], dtype='object')\n"
          ]
        }
      ]
    },
    {
      "cell_type": "code",
      "source": [
        "# 값 확인\n",
        "print(sr.values)\n",
        "# 딕셔너리의 키 => 인덱스 이름\n",
        "# 딕셔너리의 값 => 값 = 숫자 int"
      ],
      "metadata": {
        "colab": {
          "base_uri": "https://localhost:8080/"
        },
        "id": "yfxeGuGqibhG",
        "outputId": "97a7af95-e28f-466c-e2dd-cfd7231aff4e"
      },
      "execution_count": null,
      "outputs": [
        {
          "output_type": "stream",
          "name": "stdout",
          "text": [
            "[1 2 3]\n"
          ]
        }
      ]
    },
    {
      "cell_type": "code",
      "source": [
        "# 숫자 = 정수형 위치 인덱스\n",
        "# 리스트 생성\n",
        "# 기본자료형 = 문자열, 숫자, 불\n",
        "test_list = [\"Hello\", 23, 3.14, True]\n",
        "print(test_list)"
      ],
      "metadata": {
        "id": "XZF5y4IDiJJR"
      },
      "execution_count": null,
      "outputs": []
    },
    {
      "cell_type": "code",
      "source": [
        "# 리스트를 시리즈로 변환\n",
        "sr = pd.Series(test_list)\n",
        "print(sr)"
      ],
      "metadata": {
        "id": "Bvi3qblKkf94"
      },
      "execution_count": null,
      "outputs": []
    },
    {
      "cell_type": "code",
      "source": [
        "# 인덱스 확인\n",
        "print(sr.index)\n",
        "# 값 확인\n",
        "print(sr.values)\n",
        "# 리스트의 인덱스 => 인덱스 숫자(정수)\n",
        "# 리스트의 요소 => 값 = 기본자료형"
      ],
      "metadata": {
        "colab": {
          "base_uri": "https://localhost:8080/"
        },
        "id": "DQwWYedMkwxN",
        "outputId": "dc64a6a9-aa16-48cd-f704-73529aa92e2e"
      },
      "execution_count": null,
      "outputs": [
        {
          "output_type": "stream",
          "name": "stdout",
          "text": [
            "RangeIndex(start=0, stop=4, step=1)\n",
            "['Hello' 23 3.14 True]\n"
          ]
        }
      ]
    },
    {
      "cell_type": "markdown",
      "source": [
        "### 원소 선택"
      ],
      "metadata": {
        "id": "HVNjw60RpFLt"
      }
    },
    {
      "cell_type": "code",
      "source": [
        "# 인덱스 사용\n",
        "# 튜플 생성\n",
        "# 리스트와 유사\n",
        "# 차이점 : 소괄호 사용, 원소(개별 값) 변경 불가\n",
        "# 기본자료형\n",
        "test_tuple = (\"정대만\", 184, 73.5, True)\n",
        "print(test_tuple)"
      ],
      "metadata": {
        "id": "L9GAamlspDPi"
      },
      "execution_count": null,
      "outputs": []
    },
    {
      "cell_type": "code",
      "source": [
        "# 튜플을 시리즈로 변환\n",
        "sr = pd.Series(test_tuple, index = ['이름','키','체중','불꽃남자'])\n",
        "print(sr)"
      ],
      "metadata": {
        "id": "JlHoJQ91pVxS"
      },
      "execution_count": null,
      "outputs": []
    },
    {
      "cell_type": "code",
      "source": [
        "# 하나의 원소 선택\n",
        "# 숫자\n",
        "print(sr[0]) # 이름\n",
        "print(sr[1]) # 키\n",
        "print(sr[2]) # 체중\n",
        "print(sr[3]) # 불꽃남자"
      ],
      "metadata": {
        "id": "V6scexExq4Bn"
      },
      "execution_count": null,
      "outputs": []
    },
    {
      "cell_type": "code",
      "source": [
        "# 이름\n",
        "print(sr['이름']) # 이름\n",
        "print(sr['키']) # 키\n",
        "print(sr['체중']) # 체중\n",
        "print(sr['불꽃남자']) # 불꽃남자"
      ],
      "metadata": {
        "id": "-jkpTQabreMp"
      },
      "execution_count": null,
      "outputs": []
    },
    {
      "cell_type": "code",
      "source": [
        "# 여러 개의 원소 선택 = 리스트 형태로 입력\n",
        "# 숫자\n",
        "print(sr[[0,3]]) # 이름, 불꽃남자\n",
        "print(sr[[1,3]]) # 키, 불꽃남자\n",
        "# 이름\n",
        "print(sr[['이름', '체중']]) # 이름, 체중\n",
        "print(sr[['키', '불꽃남자']]) # 키, 불꽃남자"
      ],
      "metadata": {
        "id": "Q_QCsT3dsVPZ"
      },
      "execution_count": null,
      "outputs": []
    },
    {
      "cell_type": "code",
      "source": [
        "# 범위를 지정하여 여러 개의 원소 선택 = 슬라이싱\n",
        "# 숫자 = 끝 번호 포함하지 않음\n",
        "print(sr[0:2]) # 이름, 키\n",
        "print(sr[0:1+1]) # 이름, 키\n",
        "print(sr[1:4]) # 키, 체중, 불꽃남자\n",
        "print(sr[1:3+1]) # 키, 체중, 불꽃남자\n",
        "# 이름\n",
        "print(sr['이름':'키']) # 이름, 키\n",
        "print(sr['키':'불꽃남자']) # 키, 체중, 불꽃남자"
      ],
      "metadata": {
        "id": "JjEwTyLYtrm8"
      },
      "execution_count": null,
      "outputs": []
    },
    {
      "cell_type": "markdown",
      "source": [
        "## 데이터프레임"
      ],
      "metadata": {
        "id": "LyBcjuomvhJs"
      }
    },
    {
      "cell_type": "code",
      "source": [
        "# 라이브러리 불러오기\n",
        "import pandas as pd"
      ],
      "metadata": {
        "id": "VGxkT_1ivVGL"
      },
      "execution_count": null,
      "outputs": []
    },
    {
      "cell_type": "code",
      "source": [
        "# 딕셔너리 = 키 & 여러 개의 값 (리스트 형태)\n",
        "test_dict = {\n",
        "    'c1': [1,2,3],\n",
        "    'c2': [4,5,6],\n",
        "    'c3': [7,8,9],\n",
        "    'c4': [10,11,12]\n",
        "}\n",
        "print(test_dict)"
      ],
      "metadata": {
        "id": "rQ-BZosGx1lu"
      },
      "execution_count": null,
      "outputs": []
    },
    {
      "cell_type": "code",
      "source": [
        "# 딕셔너리를 데이터프레임으로 변환\n",
        "df = pd.DataFrame(test_dict)\n",
        "print(df)\n",
        "print(type(df))\n",
        "# 딕셔너리의 키 = 데이터프레임의 열 이름\n",
        "# 딕셔너리의 값 = 데이터프레임의 열 값\n",
        "# 딕셔너리의 값 = 리스트의 요소 개수 = 행 인덱스"
      ],
      "metadata": {
        "id": "jZ8G7fOuyYWC"
      },
      "execution_count": null,
      "outputs": []
    },
    {
      "cell_type": "markdown",
      "source": [
        "### 인덱스"
      ],
      "metadata": {
        "id": "5fFS2cRVMjB7"
      }
    },
    {
      "cell_type": "code",
      "source": [
        "# 행 인덱스와 열 이름 설정하여 데이터프레임 생성\n",
        "df = pd.DataFrame([[\"정대만\", 19, 184], \n",
        "                   [\"서태웅\", 17, 187]], \n",
        "                  index = ['선수1', '선수2'], # 행 인덱스\n",
        "                  columns = ['이름', '나이', '키']) # 열 이름\n",
        "print(df)"
      ],
      "metadata": {
        "id": "o4IsDcG8yoPX"
      },
      "execution_count": null,
      "outputs": []
    },
    {
      "cell_type": "code",
      "source": [
        "# 행 인덱스 확인\n",
        "print(df.index)\n",
        "# 열 이름 확인\n",
        "print(df.columns)"
      ],
      "metadata": {
        "id": "tdwWmELHGBmY"
      },
      "execution_count": null,
      "outputs": []
    },
    {
      "cell_type": "code",
      "source": [
        "# 행 인덱스, 열 이름 => 이름 변경\n",
        "df.index = ['학생1', '학생2']\n",
        "df.columns = ['성명', '연령', '신장']\n",
        "print(df)"
      ],
      "metadata": {
        "id": "b5BcCWEHGVGa"
      },
      "execution_count": null,
      "outputs": []
    },
    {
      "cell_type": "code",
      "source": [
        "# 메소드 함수 = 클래스 안에 있는 함수\n",
        "# 행 인덱스, 열 이름 => 이름 변경\n",
        "# rename 메소드 함수의 반환값은 새로운 데이터프레임\n",
        "df_new = df.rename(index = {'학생1': '선수1', '학생2': '선수2'})\n",
        "print(df)\n",
        "print(df_new)"
      ],
      "metadata": {
        "id": "9j_DJp76HOeO"
      },
      "execution_count": null,
      "outputs": []
    },
    {
      "cell_type": "code",
      "source": [
        "# 원본을 바로 변경\n",
        "print(df) # 변경 전\n",
        "df.rename(index = {'학생1': '선수1', '학생2': '선수2'}, inplace = True)\n",
        "print(df) # 변경 후"
      ],
      "metadata": {
        "id": "wXvbCQaKJNzj"
      },
      "execution_count": null,
      "outputs": []
    },
    {
      "cell_type": "code",
      "source": [
        "df_new = df.rename(columns = {'성명': '이름', '연령': '나이', '신장': '키'})\n",
        "print(df)\n",
        "print(df_new)"
      ],
      "metadata": {
        "id": "U1dcZMnsKAU_"
      },
      "execution_count": null,
      "outputs": []
    },
    {
      "cell_type": "code",
      "source": [
        "# 원본을 바로 변경\n",
        "print(df) # 변경 전\n",
        "df.rename(columns = {'성명': '이름', '연령': '나이', '신장': '키'}, inplace = True)\n",
        "print(df) # 변경 후"
      ],
      "metadata": {
        "id": "v4QRWHYjKVEh"
      },
      "execution_count": null,
      "outputs": []
    },
    {
      "cell_type": "markdown",
      "source": [
        "### 행, 열 삭제"
      ],
      "metadata": {
        "id": "TFTuXYziMyOm"
      }
    },
    {
      "cell_type": "code",
      "source": [
        "# 딕셔너리 생성\n",
        "score_dict = {\n",
        "    'point3': [24, 3, 9],\n",
        "    'point2': [6, 4, 18],\n",
        "    'ft': [3, 1, 6]\n",
        "}\n",
        "print(score_dict)"
      ],
      "metadata": {
        "id": "aj4v5IbfM1zV"
      },
      "execution_count": null,
      "outputs": []
    },
    {
      "cell_type": "code",
      "source": [
        "# 딕셔너리를 데이터프레임으로 변환\n",
        "df = pd.DataFrame(score_dict, index = ['정대만','강백호','서태웅'])\n",
        "print(df)"
      ],
      "metadata": {
        "id": "e69A6JM2Ncv8"
      },
      "execution_count": null,
      "outputs": []
    },
    {
      "cell_type": "code",
      "source": [
        "# 사본 저장\n",
        "df1 = df[:]\n",
        "print(df1)"
      ],
      "metadata": {
        "id": "2iSfeU95NnyR"
      },
      "execution_count": null,
      "outputs": []
    },
    {
      "cell_type": "code",
      "source": [
        "# drop 메소드 함수 반환 결과는 새로운 데이터프레임\n",
        "# 행 삭제 => axis = 0\n",
        "print(df1) # 변경 전\n",
        "df2 = df1.drop('강백호', axis = 0)\n",
        "print(df2) # 변경 후 = 새로운 데이터프레임"
      ],
      "metadata": {
        "id": "Xb_OZaZpN22Z"
      },
      "execution_count": null,
      "outputs": []
    },
    {
      "cell_type": "code",
      "source": [
        "print(df1) # 변경 전\n",
        "df1.drop('강백호', axis = 0, inplace = True)\n",
        "print(df1) # 변경 후 = df1"
      ],
      "metadata": {
        "id": "LqrbQ8D2OrIw"
      },
      "execution_count": null,
      "outputs": []
    },
    {
      "cell_type": "code",
      "source": [
        "# 사본 저장\n",
        "df1 = df[:]\n",
        "# 열 삭제 => axis = 1\n",
        "print(df1) # 변경 전\n",
        "df2 = df1.drop('ft', axis = 1)\n",
        "print(df2) # 변경 후 = 새로운 데이터프레임\n",
        "print(df1) # 변경 전\n",
        "df1.drop('ft', axis = 1, inplace = True)\n",
        "print(df1) # 변경 후 = df1"
      ],
      "metadata": {
        "id": "xVl9lJKOTP3O"
      },
      "execution_count": null,
      "outputs": []
    },
    {
      "cell_type": "code",
      "source": [
        "# 여러 개의 행, 열 삭제 = 리스트 형태\n",
        "# 사본 저장\n",
        "df1 = df[:]\n",
        "print(df1) # 변경 전\n",
        "# 여러 개의 행 삭제\n",
        "df1.drop(['강백호', '서태웅'], axis = 0, inplace = True)\n",
        "print(df1) # 변경 후\n",
        "# 사본 저장\n",
        "df1 = df[:]\n",
        "print(df1) # 변경 전\n",
        "# 여러 개의 열 삭제\n",
        "df1.drop(['point2', 'ft'], axis = 1, inplace = True)\n",
        "print(df1) # 변경 후"
      ],
      "metadata": {
        "id": "_qyH73L-Uait"
      },
      "execution_count": null,
      "outputs": []
    },
    {
      "cell_type": "markdown",
      "source": [
        "### 행 선택"
      ],
      "metadata": {
        "id": "8sI_ErjEVpDy"
      }
    },
    {
      "cell_type": "code",
      "source": [
        "# 딕셔너리 생성\n",
        "score_dict = {\n",
        "    'point3': [24, 3, 9],\n",
        "    'point2': [6, 4, 18],\n",
        "    'ft': [3, 1, 6]\n",
        "}\n",
        "print(score_dict)"
      ],
      "metadata": {
        "id": "zur78JiXWp4R",
        "colab": {
          "base_uri": "https://localhost:8080/"
        },
        "outputId": "340e0fc6-bd77-4ca0-f8c2-4239c8082bb0"
      },
      "execution_count": null,
      "outputs": [
        {
          "output_type": "stream",
          "name": "stdout",
          "text": [
            "{'point3': [24, 3, 9], 'point2': [6, 4, 18], 'ft': [3, 1, 6]}\n"
          ]
        }
      ]
    },
    {
      "cell_type": "code",
      "source": [
        "# 딕셔너리를 데이터프레임으로 변환\n",
        "df = pd.DataFrame(score_dict, index = ['정대만','강백호','서태웅'])\n",
        "print(df)"
      ],
      "metadata": {
        "id": "9a3R3Qh7Wp4b",
        "colab": {
          "base_uri": "https://localhost:8080/"
        },
        "outputId": "190535a0-a6d0-46db-a507-5ab711c910cc"
      },
      "execution_count": null,
      "outputs": [
        {
          "output_type": "stream",
          "name": "stdout",
          "text": [
            "     point3  point2  ft\n",
            "정대만      24       6   3\n",
            "강백호       3       4   1\n",
            "서태웅       9      18   6\n"
          ]
        }
      ]
    },
    {
      "cell_type": "code",
      "source": [
        "# loc 인덱서 = 이름\n",
        "print(df.loc['정대만']) # 시리즈\n",
        "print(df.loc[['정대만']]) # 데이터프레임"
      ],
      "metadata": {
        "id": "0NxbV4nyWw0J"
      },
      "execution_count": null,
      "outputs": []
    },
    {
      "cell_type": "code",
      "source": [
        "# iloc 인덱서 = 숫자\n",
        "print(df.iloc[0]) # 시리즈\n",
        "print(df.iloc[[0]]) # 데이터프레임"
      ],
      "metadata": {
        "id": "1EUwGU7TXHgq"
      },
      "execution_count": null,
      "outputs": []
    },
    {
      "cell_type": "code",
      "source": [
        "# 여러 개의 행 선택\n",
        "print(df.loc[['정대만','서태웅']]) # 데이터프레임\n",
        "print(df.iloc[[0, 2]]) # 데이터프레임"
      ],
      "metadata": {
        "id": "NsyIA8jlYV96"
      },
      "execution_count": null,
      "outputs": []
    },
    {
      "cell_type": "code",
      "source": [
        "# 여러 개의 행 선택 (범위 지정 = 슬라이싱)\n",
        "print(df.loc['강백호':'서태웅']) # 데이터프레임\n",
        "print(df.iloc[0:2]) # 데이터프레임\n",
        "print(df.iloc[0:1+1]) # 데이터프레임"
      ],
      "metadata": {
        "id": "0l8KOujZYixI"
      },
      "execution_count": null,
      "outputs": []
    },
    {
      "cell_type": "markdown",
      "source": [
        "### 열 선택"
      ],
      "metadata": {
        "id": "iGIHs24DaCSW"
      }
    },
    {
      "cell_type": "code",
      "source": [
        "# 열 선택하는 방법 3가지\n",
        "# 열 하나 선택\n",
        "print(df['point3']) # 시리즈\n",
        "print(df[['point3']]) # 데이터프레임\n",
        "print(df.point3) # 시리즈\n",
        "# 여러 개의 열 선택\n",
        "print(df[['point3', 'ft']]) # 데이터프레임"
      ],
      "metadata": {
        "id": "t1knfAjGaGkR"
      },
      "execution_count": null,
      "outputs": []
    },
    {
      "cell_type": "markdown",
      "source": [
        "### 원소 선택"
      ],
      "metadata": {
        "id": "Cb5hwzU6bsa3"
      }
    },
    {
      "cell_type": "code",
      "source": [
        "# = 행과 열을 동시에 선택 => [행,열]\n",
        "print(df)"
      ],
      "metadata": {
        "id": "4LnF_bgmbJCy"
      },
      "execution_count": null,
      "outputs": []
    },
    {
      "cell_type": "code",
      "source": [
        "# 행만 선택\n",
        "print(df.loc['정대만'])\n",
        "print(df.iloc[0])"
      ],
      "metadata": {
        "id": "qC86s9unb2fK"
      },
      "execution_count": null,
      "outputs": []
    },
    {
      "cell_type": "code",
      "source": [
        "# 열만 선택 = 모든 행 선택\n",
        "print(df.loc[:,'point3'])\n",
        "print(df.iloc[:,0])"
      ],
      "metadata": {
        "id": "5WR8fgQGag9W"
      },
      "execution_count": null,
      "outputs": []
    },
    {
      "cell_type": "code",
      "source": [
        "# 행과 열을 동시에 선택\n",
        "print(df.loc['정대만','point3'])\n",
        "print(df.iloc[0,0])"
      ],
      "metadata": {
        "id": "V1w2WbG0cptd"
      },
      "execution_count": null,
      "outputs": []
    },
    {
      "cell_type": "code",
      "source": [
        "# 여러 개의 행과 하나의 열 선택\n",
        "print(df.loc[['정대만','서태웅'],'point2'])\n",
        "print(df.iloc[[0,2],1])"
      ],
      "metadata": {
        "id": "6bjoGdj7gDQx"
      },
      "execution_count": null,
      "outputs": []
    },
    {
      "cell_type": "code",
      "source": [
        "# 하나의 행과 여러 개의 열 선택\n",
        "print(df.loc['정대만',['point3','ft']])\n",
        "print(df.iloc[0,[0,2]])"
      ],
      "metadata": {
        "id": "MxjatwPPg1fP"
      },
      "execution_count": null,
      "outputs": []
    },
    {
      "cell_type": "code",
      "source": [
        "# 여러 개의 행과 여러 개의 열 선택\n",
        "print(df.loc[['정대만','서태웅'],['point3','ft']])\n",
        "print(df.iloc[[0,2],[0,2]])"
      ],
      "metadata": {
        "id": "EWQy11-ZhKV3"
      },
      "execution_count": null,
      "outputs": []
    },
    {
      "cell_type": "code",
      "source": [
        "# 여러 개의 행과 여러 개의 열 선택(슬라이싱)\n",
        "print(df.loc['정대만':'서태웅','point3':'ft'])\n",
        "print(df.iloc[0:2+1,0:2+1])\n",
        "print(df.iloc[0:3,0:3])"
      ],
      "metadata": {
        "id": "F_wvfQfGhhB8"
      },
      "execution_count": null,
      "outputs": []
    },
    {
      "cell_type": "markdown",
      "source": [
        "### 열 추가"
      ],
      "metadata": {
        "id": "5Yyhu0P8jcBm"
      }
    },
    {
      "cell_type": "code",
      "source": [
        "print(df)"
      ],
      "metadata": {
        "colab": {
          "base_uri": "https://localhost:8080/"
        },
        "id": "C6syl_23iKVC",
        "outputId": "e8284f6a-702d-4aaf-febb-3ec4fe3860a1"
      },
      "execution_count": null,
      "outputs": [
        {
          "output_type": "stream",
          "name": "stdout",
          "text": [
            "     point3  point2  ft  foul  rebound\n",
            "정대만      24       6   3     2        1\n",
            "강백호       3       4   1     2       10\n",
            "서태웅       9      18   6     2        5\n"
          ]
        }
      ]
    },
    {
      "cell_type": "code",
      "source": [
        "# 전부 같은 값을 가진 열 추가\n",
        "df['foul'] = 2\n",
        "print(df)"
      ],
      "metadata": {
        "id": "XEsLDXc_jh1A",
        "colab": {
          "base_uri": "https://localhost:8080/"
        },
        "outputId": "e08d88ad-8ef4-495b-f68b-b071428a7b2d"
      },
      "execution_count": null,
      "outputs": [
        {
          "output_type": "stream",
          "name": "stdout",
          "text": [
            "     point3  point2  ft  foul\n",
            "정대만      24       6   3     2\n",
            "강백호       3       4   1     2\n",
            "서태웅       9      18   6     2\n"
          ]
        }
      ]
    },
    {
      "cell_type": "code",
      "source": [
        "# 다른 값을 가진 열 추가 = 리스트 형태\n",
        "df['rebound'] = [1, 10, 5]\n",
        "print(df)"
      ],
      "metadata": {
        "id": "WZjS0PSBjwNE",
        "colab": {
          "base_uri": "https://localhost:8080/"
        },
        "outputId": "35f22fc9-4b0d-46c4-b87d-d1811a671397"
      },
      "execution_count": null,
      "outputs": [
        {
          "output_type": "stream",
          "name": "stdout",
          "text": [
            "     point3  point2  ft  foul  rebound\n",
            "정대만      24       6   3     2        1\n",
            "강백호       3       4   1     2       10\n",
            "서태웅       9      18   6     2        5\n"
          ]
        }
      ]
    },
    {
      "cell_type": "markdown",
      "source": [
        "### 행 추가"
      ],
      "metadata": {
        "id": "zSJ6vSXqkYb7"
      }
    },
    {
      "cell_type": "code",
      "source": [
        "# 행 3 * 열 5\n",
        "print(df)"
      ],
      "metadata": {
        "id": "mqoCjkIFkFra",
        "colab": {
          "base_uri": "https://localhost:8080/"
        },
        "outputId": "a09a6d71-aa87-40f8-f210-1c860a7468bf"
      },
      "execution_count": null,
      "outputs": [
        {
          "output_type": "stream",
          "name": "stdout",
          "text": [
            "     point3  point2  ft  foul  rebound\n",
            "정대만      24       6   3     2        1\n",
            "강백호       3       4   1     2       10\n",
            "서태웅       9      18   6     2        5\n"
          ]
        }
      ]
    },
    {
      "cell_type": "code",
      "source": [
        "# 전부 같은 값을 가진 행 추가\n",
        "df.loc['채치수'] = 0\n",
        "print(df)"
      ],
      "metadata": {
        "id": "s9AfZJ7tkeW6",
        "colab": {
          "base_uri": "https://localhost:8080/"
        },
        "outputId": "932c7a12-8c8f-49c1-8aaf-89ae03ea311e"
      },
      "execution_count": null,
      "outputs": [
        {
          "output_type": "stream",
          "name": "stdout",
          "text": [
            "     point3  point2  ft  foul  rebound\n",
            "정대만      24       6   3     2        1\n",
            "강백호       3       4   1     2       10\n",
            "서태웅       9      18   6     2        5\n",
            "채치수       0       0   0     0        0\n"
          ]
        }
      ]
    },
    {
      "cell_type": "code",
      "source": [
        "# 다른 값을 가진 행 추가 = 리스트 형태\n",
        "df.loc['송태섭'] = [9, 10, 6, 3, 0]\n",
        "print(df)"
      ],
      "metadata": {
        "colab": {
          "base_uri": "https://localhost:8080/"
        },
        "id": "75NNzh7nkrqO",
        "outputId": "e5633a4e-dee4-45df-dcc8-14ba7ef832e7"
      },
      "execution_count": null,
      "outputs": [
        {
          "output_type": "stream",
          "name": "stdout",
          "text": [
            "     point3  point2  ft  foul  rebound\n",
            "정대만      24       6   3     2        1\n",
            "강백호       3       4   1     2       10\n",
            "서태웅       9      18   6     2        5\n",
            "채치수       0       0   0     0        0\n",
            "송태섭       9      10   6     3        0\n"
          ]
        }
      ]
    },
    {
      "cell_type": "markdown",
      "source": [
        "### 원소값 변경"
      ],
      "metadata": {
        "id": "AKJiYQIgmCST"
      }
    },
    {
      "cell_type": "code",
      "source": [
        "# 행과 열을 동시에 선택해서 값을 변경\n",
        "print(df)\n",
        "# 행 5 * 열 5"
      ],
      "metadata": {
        "id": "4acLt-KamFoL"
      },
      "execution_count": null,
      "outputs": []
    },
    {
      "cell_type": "code",
      "source": [
        "# 하나의 행과 하나의 열을 선택하여 값 변경\n",
        "df.loc['채치수','rebound'] = 5\n",
        "print(df)"
      ],
      "metadata": {
        "id": "GDv3bJIUmLzJ"
      },
      "execution_count": null,
      "outputs": []
    },
    {
      "cell_type": "code",
      "source": [
        "df.iloc[4,4] = 1\n",
        "print(df)"
      ],
      "metadata": {
        "id": "3DTBFTs-mweo"
      },
      "execution_count": null,
      "outputs": []
    },
    {
      "cell_type": "code",
      "source": [
        "# 하나의 행과 여러 개의 열을 선택하여 값 변경\n",
        "df.loc['채치수', ['point2', 'foul']] = 2\n",
        "print(df)"
      ],
      "metadata": {
        "id": "5Be6cwOPnD1E"
      },
      "execution_count": null,
      "outputs": []
    },
    {
      "cell_type": "code",
      "source": [
        "df.iloc[3, [1, 3]] = 4\n",
        "print(df)"
      ],
      "metadata": {
        "id": "2-cJjuEkp5QE"
      },
      "execution_count": null,
      "outputs": []
    },
    {
      "cell_type": "code",
      "source": [
        "print(df)"
      ],
      "metadata": {
        "colab": {
          "base_uri": "https://localhost:8080/"
        },
        "id": "odK1O75UvMJ8",
        "outputId": "b71ef612-2629-4f07-ae2e-71782fe62ea1"
      },
      "execution_count": null,
      "outputs": [
        {
          "output_type": "stream",
          "name": "stdout",
          "text": [
            "     point3  point2  ft  foul  rebound\n",
            "정대만      24       6   3     2        1\n",
            "강백호       3       4   2     2        2\n",
            "서태웅       9      18   2     2        2\n",
            "채치수       6       4   2     3        2\n",
            "송태섭       6       6   6     3        1\n"
          ]
        }
      ]
    },
    {
      "cell_type": "code",
      "source": [
        "# 여러 개의 행과 하나의 열을 선택하여 값 변경\n",
        "df.loc[['강백호','채치수'], 'rebound'] = 4\n",
        "print(df)"
      ],
      "metadata": {
        "id": "6CUqPe4yvC2W"
      },
      "execution_count": null,
      "outputs": []
    },
    {
      "cell_type": "code",
      "source": [
        "df.iloc[[1,3], 4] = 3\n",
        "print(df)"
      ],
      "metadata": {
        "id": "zYheuHObvJYn"
      },
      "execution_count": null,
      "outputs": []
    },
    {
      "cell_type": "code",
      "source": [
        "# 여러 개의 행과 여러 개의 열을 선택하여 값을 변경\n",
        "df.loc[['채치수', '송태섭'], ['point3', 'point2']] = 0\n",
        "print(df)"
      ],
      "metadata": {
        "id": "7p4tNSEaoszL"
      },
      "execution_count": null,
      "outputs": []
    },
    {
      "cell_type": "code",
      "source": [
        "df.iloc[[3, 4], [0, 1]] = 6\n",
        "print(df)"
      ],
      "metadata": {
        "id": "yp3wOWkGpEEW"
      },
      "execution_count": null,
      "outputs": []
    },
    {
      "cell_type": "code",
      "source": [
        "# 여러 개의 행과 여러 개의 열을 선택하여 값을 변경(슬라이싱)\n",
        "df.loc['강백호':'채치수', 'ft':'rebound'] = 1\n",
        "print(df)"
      ],
      "metadata": {
        "id": "qQMHFde5onSU"
      },
      "execution_count": null,
      "outputs": []
    },
    {
      "cell_type": "code",
      "source": [
        "df.iloc[1:4, 2:5] = 2\n",
        "print(df)"
      ],
      "metadata": {
        "id": "RQ4EKA2eqt3R"
      },
      "execution_count": null,
      "outputs": []
    },
    {
      "cell_type": "code",
      "source": [
        "print(df)"
      ],
      "metadata": {
        "colab": {
          "base_uri": "https://localhost:8080/"
        },
        "id": "yoaQKB4_uGyF",
        "outputId": "8f7faf0c-37c5-499f-bf66-5c65d1c8abb5"
      },
      "execution_count": null,
      "outputs": [
        {
          "output_type": "stream",
          "name": "stdout",
          "text": [
            "     point3  point2  ft  foul  rebound\n",
            "정대만      24       6   3     2        1\n",
            "강백호       3       4   2     2        2\n",
            "서태웅       9      18   2     2        2\n",
            "채치수       6       6   2     2        2\n",
            "송태섭       6       6   6     3        1\n"
          ]
        }
      ]
    },
    {
      "cell_type": "code",
      "source": [
        "# 다른 값으로 변경\n",
        "# 하나의 행과 여러 개의 열을 선택하여 값 변경\n",
        "df.loc['채치수', ['point2', 'foul']] = [10, 4]\n",
        "print(df)"
      ],
      "metadata": {
        "id": "PCL348Vpq3F_"
      },
      "execution_count": null,
      "outputs": []
    },
    {
      "cell_type": "code",
      "source": [
        "# 대괄호 생략해서 한 번에 할당\n",
        "df.loc['채치수', ['point2', 'foul']] = 2, 1\n",
        "print(df)"
      ],
      "metadata": {
        "id": "47OZUBfMufzC"
      },
      "execution_count": null,
      "outputs": []
    },
    {
      "cell_type": "code",
      "source": [
        "df.iloc[3, [1, 3]] = [4, 3]\n",
        "print(df)"
      ],
      "metadata": {
        "id": "LD95hm8bt_X-"
      },
      "execution_count": null,
      "outputs": []
    },
    {
      "cell_type": "code",
      "source": [
        "# 여러 개의 행과 하나의 열을 선택하여 값 변경\n",
        "df.loc[['강백호','채치수'], 'rebound'] = [10, 5]\n",
        "print(df)"
      ],
      "metadata": {
        "id": "8WlAjzMDvp5g"
      },
      "execution_count": null,
      "outputs": []
    },
    {
      "cell_type": "code",
      "source": [
        "df.iloc[[1,3], 4] = [12, 7]\n",
        "print(df)"
      ],
      "metadata": {
        "id": "NH-qX8qovp5h"
      },
      "execution_count": null,
      "outputs": []
    },
    {
      "cell_type": "code",
      "source": [
        "# 여러 개의 행과 여러 개의 열을 선택하여 값을 변경\n",
        "df.loc[['채치수', '송태섭'], ['point3', 'point2']] = [0, 8], [9, 8]\n",
        "print(df)"
      ],
      "metadata": {
        "id": "VfOtrwllxV3C"
      },
      "execution_count": null,
      "outputs": []
    },
    {
      "cell_type": "code",
      "source": [
        "df.iloc[[3, 4], [0, 1]] = [1, 4], [3, 2]\n",
        "print(df)"
      ],
      "metadata": {
        "id": "hSI-Eou1xV3D"
      },
      "execution_count": null,
      "outputs": []
    },
    {
      "cell_type": "markdown",
      "source": [
        "### 행과 열 위치 바꾸기"
      ],
      "metadata": {
        "id": "lZ-W8IwIzBhN"
      }
    },
    {
      "cell_type": "code",
      "source": [
        "print(df)"
      ],
      "metadata": {
        "id": "LvGnLi-bzFMk"
      },
      "execution_count": null,
      "outputs": []
    },
    {
      "cell_type": "code",
      "source": [
        "print(df.T)"
      ],
      "metadata": {
        "id": "6Rbv5gwDzIvh"
      },
      "execution_count": null,
      "outputs": []
    },
    {
      "cell_type": "code",
      "source": [
        "print(df.transpose())"
      ],
      "metadata": {
        "id": "b7J_4rK7zP3Z"
      },
      "execution_count": null,
      "outputs": []
    },
    {
      "cell_type": "markdown",
      "source": [
        "## 인덱스 활용"
      ],
      "metadata": {
        "id": "2e-M5vjByEQN"
      }
    },
    {
      "cell_type": "code",
      "source": [
        "import pandas as pd"
      ],
      "metadata": {
        "id": "UfBE6v1dyKkI"
      },
      "execution_count": null,
      "outputs": []
    },
    {
      "cell_type": "code",
      "source": [
        "sd = {\n",
        "    \"이름\": [\"정대만\",\"강백호\",\"채치수\"],\n",
        "    \"키\": [184, 189, 193],\n",
        "    \"나이\": [19, 17, 19],\n",
        "    \"득점\": [28, 1, 20]\n",
        "}\n",
        "print(sd)"
      ],
      "metadata": {
        "colab": {
          "base_uri": "https://localhost:8080/"
        },
        "id": "a_JQNMza0SCQ",
        "outputId": "041ffea4-5d64-40a0-a036-cde1e49bfbc7"
      },
      "execution_count": null,
      "outputs": [
        {
          "output_type": "stream",
          "name": "stdout",
          "text": [
            "{'이름': ['정대만', '강백호', '채치수'], '키': [184, 189, 193], '나이': [19, 17, 19], '득점': [28, 1, 20]}\n"
          ]
        }
      ]
    },
    {
      "cell_type": "code",
      "source": [
        "df = pd.DataFrame(sd)\n",
        "print(df)"
      ],
      "metadata": {
        "colab": {
          "base_uri": "https://localhost:8080/"
        },
        "id": "T-oC_Xh20ugs",
        "outputId": "b65039ef-85c4-4dbf-da2a-ede08241acdd"
      },
      "execution_count": null,
      "outputs": [
        {
          "output_type": "stream",
          "name": "stdout",
          "text": [
            "    이름    키  나이  득점\n",
            "0  정대만  184  19  28\n",
            "1  강백호  189  17   1\n",
            "2  채치수  193  19  20\n"
          ]
        }
      ]
    },
    {
      "cell_type": "markdown",
      "source": [
        "### 특정 열을 행 인덱스로 설정"
      ],
      "metadata": {
        "id": "AZTjRaET09rT"
      }
    },
    {
      "cell_type": "code",
      "source": [
        "print(df)\n",
        "df_new = df.set_index('이름')\n",
        "print(df_new)\n",
        "# 원래 행 인덱스(정수)가 없어지고 이름 열이 행 인덱스가 됨"
      ],
      "metadata": {
        "id": "CRTrKiSg00lA"
      },
      "execution_count": null,
      "outputs": []
    },
    {
      "cell_type": "code",
      "source": [
        "print(df_new)\n",
        "df_new2 = df.set_index('키')\n",
        "print(df_new2)\n",
        "# 키 열이 행 인덱스가 되고, 행 인덱스였던 이름 열이 다시 열로 돌아옴"
      ],
      "metadata": {
        "id": "PACIc1xI1PA6"
      },
      "execution_count": null,
      "outputs": []
    },
    {
      "cell_type": "code",
      "source": [
        "print(df)"
      ],
      "metadata": {
        "id": "OEAxOZaw3NLU"
      },
      "execution_count": null,
      "outputs": []
    },
    {
      "cell_type": "code",
      "source": [
        "# 여러 개의 열을 행 인덱스로 설정\n",
        "print(df)\n",
        "df_new = df.set_index(['이름', '키'])\n",
        "print(df_new)"
      ],
      "metadata": {
        "id": "r5ISTHWO3EB1"
      },
      "execution_count": null,
      "outputs": []
    }
  ]
}